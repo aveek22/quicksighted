{
 "cells": [
  {
   "cell_type": "code",
   "execution_count": 3,
   "metadata": {},
   "outputs": [],
   "source": [
    "import boto3\n",
    "import os\n",
    "import pandas as pd"
   ]
  },
  {
   "cell_type": "code",
   "execution_count": 4,
   "metadata": {},
   "outputs": [],
   "source": [
    "ACCESS_KEY = os.getenv('QS_AWS_ACCESS_KEY_ID')\n",
    "SECRET_KEY = os.getenv('QS_AWS_SECRET_ACCESS_KEY')\n",
    "\n",
    "DATABASE_HOST = os.getenv('ENVISO_INSIGHT_DATABASE_HOSTNAME')\n",
    "DATABASE_USER = os.getenv('ENVISO_INSIGHT_DATABASE_USERNAME')\n",
    "DATABASE_PASS = os.getenv('ENVISO_INSIGHT_DATABASE_PASSWORD')\n",
    "DATABASE_NAME = 'postgres'\n",
    "\n",
    "AWS_ACCOUNT_ID = os.getenv('QS_AWS_ACCOUNT_ID')\n"
   ]
  },
  {
   "cell_type": "code",
   "execution_count": 5,
   "metadata": {},
   "outputs": [],
   "source": [
    "qs = boto3.client(\n",
    "    'quicksight',\n",
    "    aws_access_key_id=ACCESS_KEY,\n",
    "    aws_secret_access_key=SECRET_KEY,\n",
    "    region_name = 'eu-west-1'\n",
    ")"
   ]
  },
  {
   "cell_type": "code",
   "execution_count": 4,
   "metadata": {},
   "outputs": [
    {
     "output_type": "execute_result",
     "data": {
      "text/plain": [
       "{'ResponseMetadata': {'RequestId': '50729c49-11aa-4d2b-9fc1-74efa29fa2f2',\n",
       "  'HTTPStatusCode': 202,\n",
       "  'HTTPHeaders': {'date': 'Thu, 07 Jan 2021 22:55:28 GMT',\n",
       "   'content-type': 'application/json',\n",
       "   'content-length': '314',\n",
       "   'connection': 'keep-alive',\n",
       "   'x-amzn-requestid': '50729c49-11aa-4d2b-9fc1-74efa29fa2f2'},\n",
       "  'RetryAttempts': 0},\n",
       " 'Status': 202,\n",
       " 'Arn': 'arn:aws:quicksight:eu-west-1:714290530475:template/this_is_new_template_id',\n",
       " 'VersionArn': 'arn:aws:quicksight:eu-west-1:714290530475:template/this_is_new_template_id/version/1',\n",
       " 'TemplateId': 'this_is_new_template_id',\n",
       " 'CreationStatus': 'CREATION_IN_PROGRESS',\n",
       " 'RequestId': '50729c49-11aa-4d2b-9fc1-74efa29fa2f2'}"
      ]
     },
     "metadata": {},
     "execution_count": 4
    }
   ],
   "source": [
    "qs.create_template(\n",
    "    AwsAccountId=AWS_ACCOUNT_ID,\n",
    "    TemplateId='this_is_new_template_id',\n",
    "    Name='this_is_new_template_name',\n",
    "    Permissions=[\n",
    "        {\n",
    "            'Principal': 'arn:aws:quicksight:eu-west-1:714290530475:user/default/714290530475',\n",
    "            'Actions': [\n",
    "                'quicksight:DeleteTemplate',\n",
    "                'quicksight:DescribeTemplate',\n",
    "                'quicksight:DescribeTemplatePermissions',\n",
    "                'quicksight:UpdateTemplate',\n",
    "                'quicksight:UpdateTemplatePermissions'\n",
    "            ]\n",
    "        },\n",
    "    ],\n",
    "    SourceEntity={\n",
    "        'SourceAnalysis': {\n",
    "            'Arn': 'arn:aws:quicksight:eu-west-1:714290530475:analysis/b54ca8ce-b2fb-411e-8f2c-50edc5df536d',\n",
    "            'DataSetReferences': [\n",
    "                {\n",
    "                    'DataSetPlaceholder': 'qs_this_is_new_dataset_name',\n",
    "                    'DataSetArn': 'arn:aws:quicksight:eu-west-1:714290530475:dataset/qs_this_is_new_dataset_id'\n",
    "                },\n",
    "            ]\n",
    "        }\n",
    "    },\n",
    "    VersionDescription='1.0.0'\n",
    ")"
   ]
  },
  {
   "cell_type": "code",
   "execution_count": 6,
   "metadata": {},
   "outputs": [
    {
     "output_type": "execute_result",
     "data": {
      "text/plain": [
       "{'ResponseMetadata': {'RequestId': '6e0ad220-f4c3-40dd-8b05-5593903397f0',\n",
       "  'HTTPStatusCode': 200,\n",
       "  'HTTPHeaders': {'date': 'Thu, 07 Jan 2021 20:07:51 GMT',\n",
       "   'content-type': 'application/json',\n",
       "   'content-length': '174',\n",
       "   'connection': 'keep-alive',\n",
       "   'x-amzn-requestid': '6e0ad220-f4c3-40dd-8b05-5593903397f0'},\n",
       "  'RetryAttempts': 0},\n",
       " 'Status': 200,\n",
       " 'RequestId': '6e0ad220-f4c3-40dd-8b05-5593903397f0',\n",
       " 'Arn': 'arn:aws:quicksight:eu-west-1:714290530475:template/this_is_new_template_id',\n",
       " 'TemplateId': 'this_is_new_template_id'}"
      ]
     },
     "metadata": {},
     "execution_count": 6
    }
   ],
   "source": [
    "qs.delete_template(\n",
    "    AwsAccountId = AWS_ACCOUNT_ID,\n",
    "    TemplateId = 'this_is_new_template_id'\n",
    ")"
   ]
  },
  {
   "cell_type": "code",
   "execution_count": 5,
   "metadata": {},
   "outputs": [
    {
     "output_type": "execute_result",
     "data": {
      "text/plain": [
       "{'ResponseMetadata': {'RequestId': 'd7d9ba7c-9705-440b-89de-3d135b8925b9',\n",
       "  'HTTPStatusCode': 200,\n",
       "  'HTTPHeaders': {'date': 'Mon, 11 Jan 2021 00:20:58 GMT',\n",
       "   'content-type': 'application/json',\n",
       "   'content-length': '573',\n",
       "   'connection': 'keep-alive',\n",
       "   'x-amzn-requestid': 'd7d9ba7c-9705-440b-89de-3d135b8925b9'},\n",
       "  'RetryAttempts': 0},\n",
       " 'Status': 200,\n",
       " 'TemplateSummaryList': [{'Arn': 'arn:aws:quicksight:eu-west-1:714290530475:template/this_is_new_template_id',\n",
       "   'TemplateId': 'this_is_new_template_id',\n",
       "   'LatestVersionNumber': 2,\n",
       "   'CreatedTime': datetime.datetime(2021, 1, 7, 22, 55, 28, 854000, tzinfo=tzlocal()),\n",
       "   'LastUpdatedTime': datetime.datetime(2021, 1, 7, 23, 5, 21, 980000, tzinfo=tzlocal())},\n",
       "  {'Arn': 'arn:aws:quicksight:eu-west-1:714290530475:template/this_is_new_template_id_1',\n",
       "   'TemplateId': 'this_is_new_template_id_1',\n",
       "   'Name': 'this_is_new_template_name_1',\n",
       "   'LatestVersionNumber': 1,\n",
       "   'CreatedTime': datetime.datetime(2021, 1, 7, 22, 59, 41, 384000, tzinfo=tzlocal()),\n",
       "   'LastUpdatedTime': datetime.datetime(2021, 1, 7, 22, 59, 41, 384000, tzinfo=tzlocal())}],\n",
       " 'RequestId': 'd7d9ba7c-9705-440b-89de-3d135b8925b9'}"
      ]
     },
     "metadata": {},
     "execution_count": 5
    }
   ],
   "source": [
    "qs.list_templates(\n",
    "    AwsAccountId=AWS_ACCOUNT_ID\n",
    ")"
   ]
  },
  {
   "cell_type": "code",
   "execution_count": 15,
   "metadata": {},
   "outputs": [
    {
     "output_type": "execute_result",
     "data": {
      "text/plain": [
       "{'ResponseMetadata': {'RequestId': 'b62a0993-c63d-4545-b9a3-3afb2dc4597f',\n",
       "  'HTTPStatusCode': 200,\n",
       "  'HTTPHeaders': {'date': 'Thu, 07 Jan 2021 23:20:37 GMT',\n",
       "   'content-type': 'application/json',\n",
       "   'content-length': '846',\n",
       "   'connection': 'keep-alive',\n",
       "   'x-amzn-requestid': 'b62a0993-c63d-4545-b9a3-3afb2dc4597f'},\n",
       "  'RetryAttempts': 0},\n",
       " 'Status': 200,\n",
       " 'Template': {'Arn': 'arn:aws:quicksight:eu-west-1:714290530475:template/this_is_new_template_id',\n",
       "  'Version': {'CreatedTime': datetime.datetime(2021, 1, 7, 23, 5, 21, 857000, tzinfo=tzlocal()),\n",
       "   'VersionNumber': 2,\n",
       "   'Status': 'CREATION_SUCCESSFUL',\n",
       "   'DataSetConfigurations': [{'Placeholder': 'qs_this_is_new_dataset_name',\n",
       "     'DataSetSchema': {'ColumnSchemaList': [{'Name': 'age',\n",
       "        'DataType': 'INTEGER'},\n",
       "       {'Name': 'name', 'DataType': 'STRING'}]},\n",
       "     'ColumnGroupSchemaList': []}],\n",
       "   'SourceEntityArn': 'arn:aws:quicksight:eu-west-1:714290530475:analysis/b54ca8ce-b2fb-411e-8f2c-50edc5df536d'},\n",
       "  'TemplateId': 'this_is_new_template_id',\n",
       "  'LastUpdatedTime': datetime.datetime(2021, 1, 7, 23, 5, 21, 980000, tzinfo=tzlocal()),\n",
       "  'CreatedTime': datetime.datetime(2021, 1, 7, 22, 55, 28, 854000, tzinfo=tzlocal())},\n",
       " 'RequestId': 'b62a0993-c63d-4545-b9a3-3afb2dc4597f'}"
      ]
     },
     "metadata": {},
     "execution_count": 15
    }
   ],
   "source": [
    "qs.describe_template(\n",
    "    AwsAccountId=AWS_ACCOUNT_ID,\n",
    "    TemplateId='this_is_new_template_id'\n",
    ")"
   ]
  },
  {
   "cell_type": "code",
   "execution_count": 13,
   "metadata": {},
   "outputs": [
    {
     "output_type": "error",
     "ename": "InvalidParameterValueException",
     "evalue": "An error occurred (InvalidParameterValueException) when calling the CreateTemplate operation: Given data sets [arn:aws:quicksight:eu-west-1:714290530475:dataset/qs_this_is_new_dataset_id_1] are not part of analysis",
     "traceback": [
      "\u001b[0;31m---------------------------------------------------------------------------\u001b[0m",
      "\u001b[0;31mInvalidParameterValueException\u001b[0m            Traceback (most recent call last)",
      "\u001b[0;32m<ipython-input-13-a7387188900b>\u001b[0m in \u001b[0;36m<module>\u001b[0;34m\u001b[0m\n\u001b[1;32m     21\u001b[0m                 {\n\u001b[1;32m     22\u001b[0m                     \u001b[0;34m'DataSetPlaceholder'\u001b[0m\u001b[0;34m:\u001b[0m \u001b[0;34m'qs_this_is_new_dataset_name_1'\u001b[0m\u001b[0;34m,\u001b[0m\u001b[0;34m\u001b[0m\u001b[0;34m\u001b[0m\u001b[0m\n\u001b[0;32m---> 23\u001b[0;31m                     \u001b[0;34m'DataSetArn'\u001b[0m\u001b[0;34m:\u001b[0m \u001b[0;34m'arn:aws:quicksight:eu-west-1:714290530475:dataset/qs_this_is_new_dataset_id_1'\u001b[0m\u001b[0;34m\u001b[0m\u001b[0;34m\u001b[0m\u001b[0m\n\u001b[0m\u001b[1;32m     24\u001b[0m                 }\n\u001b[1;32m     25\u001b[0m             ]\n",
      "\u001b[0;32m/Library/Frameworks/Python.framework/Versions/3.7/lib/python3.7/site-packages/botocore/client.py\u001b[0m in \u001b[0;36m_api_call\u001b[0;34m(self, *args, **kwargs)\u001b[0m\n\u001b[1;32m    314\u001b[0m                     \"%s() only accepts keyword arguments.\" % py_operation_name)\n\u001b[1;32m    315\u001b[0m             \u001b[0;31m# The \"self\" in this scope is referring to the BaseClient.\u001b[0m\u001b[0;34m\u001b[0m\u001b[0;34m\u001b[0m\u001b[0;34m\u001b[0m\u001b[0m\n\u001b[0;32m--> 316\u001b[0;31m             \u001b[0;32mreturn\u001b[0m \u001b[0mself\u001b[0m\u001b[0;34m.\u001b[0m\u001b[0m_make_api_call\u001b[0m\u001b[0;34m(\u001b[0m\u001b[0moperation_name\u001b[0m\u001b[0;34m,\u001b[0m \u001b[0mkwargs\u001b[0m\u001b[0;34m)\u001b[0m\u001b[0;34m\u001b[0m\u001b[0;34m\u001b[0m\u001b[0m\n\u001b[0m\u001b[1;32m    317\u001b[0m \u001b[0;34m\u001b[0m\u001b[0m\n\u001b[1;32m    318\u001b[0m         \u001b[0m_api_call\u001b[0m\u001b[0;34m.\u001b[0m\u001b[0m__name__\u001b[0m \u001b[0;34m=\u001b[0m \u001b[0mstr\u001b[0m\u001b[0;34m(\u001b[0m\u001b[0mpy_operation_name\u001b[0m\u001b[0;34m)\u001b[0m\u001b[0;34m\u001b[0m\u001b[0;34m\u001b[0m\u001b[0m\n",
      "\u001b[0;32m/Library/Frameworks/Python.framework/Versions/3.7/lib/python3.7/site-packages/botocore/client.py\u001b[0m in \u001b[0;36m_make_api_call\u001b[0;34m(self, operation_name, api_params)\u001b[0m\n\u001b[1;32m    633\u001b[0m             \u001b[0merror_code\u001b[0m \u001b[0;34m=\u001b[0m \u001b[0mparsed_response\u001b[0m\u001b[0;34m.\u001b[0m\u001b[0mget\u001b[0m\u001b[0;34m(\u001b[0m\u001b[0;34m\"Error\"\u001b[0m\u001b[0;34m,\u001b[0m \u001b[0;34m{\u001b[0m\u001b[0;34m}\u001b[0m\u001b[0;34m)\u001b[0m\u001b[0;34m.\u001b[0m\u001b[0mget\u001b[0m\u001b[0;34m(\u001b[0m\u001b[0;34m\"Code\"\u001b[0m\u001b[0;34m)\u001b[0m\u001b[0;34m\u001b[0m\u001b[0;34m\u001b[0m\u001b[0m\n\u001b[1;32m    634\u001b[0m             \u001b[0merror_class\u001b[0m \u001b[0;34m=\u001b[0m \u001b[0mself\u001b[0m\u001b[0;34m.\u001b[0m\u001b[0mexceptions\u001b[0m\u001b[0;34m.\u001b[0m\u001b[0mfrom_code\u001b[0m\u001b[0;34m(\u001b[0m\u001b[0merror_code\u001b[0m\u001b[0;34m)\u001b[0m\u001b[0;34m\u001b[0m\u001b[0;34m\u001b[0m\u001b[0m\n\u001b[0;32m--> 635\u001b[0;31m             \u001b[0;32mraise\u001b[0m \u001b[0merror_class\u001b[0m\u001b[0;34m(\u001b[0m\u001b[0mparsed_response\u001b[0m\u001b[0;34m,\u001b[0m \u001b[0moperation_name\u001b[0m\u001b[0;34m)\u001b[0m\u001b[0;34m\u001b[0m\u001b[0;34m\u001b[0m\u001b[0m\n\u001b[0m\u001b[1;32m    636\u001b[0m         \u001b[0;32melse\u001b[0m\u001b[0;34m:\u001b[0m\u001b[0;34m\u001b[0m\u001b[0;34m\u001b[0m\u001b[0m\n\u001b[1;32m    637\u001b[0m             \u001b[0;32mreturn\u001b[0m \u001b[0mparsed_response\u001b[0m\u001b[0;34m\u001b[0m\u001b[0;34m\u001b[0m\u001b[0m\n",
      "\u001b[0;31mInvalidParameterValueException\u001b[0m: An error occurred (InvalidParameterValueException) when calling the CreateTemplate operation: Given data sets [arn:aws:quicksight:eu-west-1:714290530475:dataset/qs_this_is_new_dataset_id_1] are not part of analysis"
     ]
    }
   ],
   "source": [
    "qs.create_template(\n",
    "    AwsAccountId=AWS_ACCOUNT_ID,\n",
    "    TemplateId='this_is_new_template_id_2',\n",
    "    Name='this_is_new_template_name_2',\n",
    "    Permissions=[\n",
    "        {\n",
    "            'Principal': 'arn:aws:quicksight:eu-west-1:714290530475:user/default/714290530475',\n",
    "            'Actions': [\n",
    "                'quicksight:DeleteTemplate',\n",
    "                'quicksight:DescribeTemplate',\n",
    "                'quicksight:DescribeTemplatePermissions',\n",
    "                'quicksight:UpdateTemplate',\n",
    "                'quicksight:UpdateTemplatePermissions'\n",
    "            ]\n",
    "        },\n",
    "    ],\n",
    "    SourceEntity={\n",
    "        'SourceAnalysis': {\n",
    "            'Arn': 'arn:aws:quicksight:eu-west-1:714290530475:analysis/b54ca8ce-b2fb-411e-8f2c-50edc5df536d',\n",
    "            'DataSetReferences': [\n",
    "                {\n",
    "                    'DataSetPlaceholder': 'qs_this_is_new_dataset_name_1',\n",
    "                    'DataSetArn': 'arn:aws:quicksight:eu-west-1:714290530475:dataset/qs_this_is_new_dataset_id_1'\n",
    "                }\n",
    "            ]\n",
    "        }\n",
    "    }\n",
    ")"
   ]
  },
  {
   "cell_type": "code",
   "execution_count": 6,
   "metadata": {},
   "outputs": [
    {
     "output_type": "error",
     "ename": "InvalidParameterValueException",
     "evalue": "An error occurred (InvalidParameterValueException) when calling the UpdateTemplate operation: Given data sets [arn:aws:quicksight:eu-west-1:714290530475:dataset/qs_this_is_new_dataset_id_1] are not part of analysis",
     "traceback": [
      "\u001b[0;31m---------------------------------------------------------------------------\u001b[0m",
      "\u001b[0;31mInvalidParameterValueException\u001b[0m            Traceback (most recent call last)",
      "\u001b[0;32m<ipython-input-6-9f70f5105ec8>\u001b[0m in \u001b[0;36m<module>\u001b[0;34m\u001b[0m\n\u001b[1;32m      8\u001b[0m                 {\n\u001b[1;32m      9\u001b[0m                     \u001b[0;34m'DataSetPlaceholder'\u001b[0m\u001b[0;34m:\u001b[0m \u001b[0;34m'qs_this_is_new_dataset_name_1'\u001b[0m\u001b[0;34m,\u001b[0m\u001b[0;34m\u001b[0m\u001b[0;34m\u001b[0m\u001b[0m\n\u001b[0;32m---> 10\u001b[0;31m                     \u001b[0;34m'DataSetArn'\u001b[0m\u001b[0;34m:\u001b[0m \u001b[0;34m'arn:aws:quicksight:eu-west-1:714290530475:dataset/qs_this_is_new_dataset_id_1'\u001b[0m\u001b[0;34m\u001b[0m\u001b[0;34m\u001b[0m\u001b[0m\n\u001b[0m\u001b[1;32m     11\u001b[0m                 },\n\u001b[1;32m     12\u001b[0m             ]\n",
      "\u001b[0;32m/Library/Frameworks/Python.framework/Versions/3.7/lib/python3.7/site-packages/botocore/client.py\u001b[0m in \u001b[0;36m_api_call\u001b[0;34m(self, *args, **kwargs)\u001b[0m\n\u001b[1;32m    314\u001b[0m                     \"%s() only accepts keyword arguments.\" % py_operation_name)\n\u001b[1;32m    315\u001b[0m             \u001b[0;31m# The \"self\" in this scope is referring to the BaseClient.\u001b[0m\u001b[0;34m\u001b[0m\u001b[0;34m\u001b[0m\u001b[0;34m\u001b[0m\u001b[0m\n\u001b[0;32m--> 316\u001b[0;31m             \u001b[0;32mreturn\u001b[0m \u001b[0mself\u001b[0m\u001b[0;34m.\u001b[0m\u001b[0m_make_api_call\u001b[0m\u001b[0;34m(\u001b[0m\u001b[0moperation_name\u001b[0m\u001b[0;34m,\u001b[0m \u001b[0mkwargs\u001b[0m\u001b[0;34m)\u001b[0m\u001b[0;34m\u001b[0m\u001b[0;34m\u001b[0m\u001b[0m\n\u001b[0m\u001b[1;32m    317\u001b[0m \u001b[0;34m\u001b[0m\u001b[0m\n\u001b[1;32m    318\u001b[0m         \u001b[0m_api_call\u001b[0m\u001b[0;34m.\u001b[0m\u001b[0m__name__\u001b[0m \u001b[0;34m=\u001b[0m \u001b[0mstr\u001b[0m\u001b[0;34m(\u001b[0m\u001b[0mpy_operation_name\u001b[0m\u001b[0;34m)\u001b[0m\u001b[0;34m\u001b[0m\u001b[0;34m\u001b[0m\u001b[0m\n",
      "\u001b[0;32m/Library/Frameworks/Python.framework/Versions/3.7/lib/python3.7/site-packages/botocore/client.py\u001b[0m in \u001b[0;36m_make_api_call\u001b[0;34m(self, operation_name, api_params)\u001b[0m\n\u001b[1;32m    633\u001b[0m             \u001b[0merror_code\u001b[0m \u001b[0;34m=\u001b[0m \u001b[0mparsed_response\u001b[0m\u001b[0;34m.\u001b[0m\u001b[0mget\u001b[0m\u001b[0;34m(\u001b[0m\u001b[0;34m\"Error\"\u001b[0m\u001b[0;34m,\u001b[0m \u001b[0;34m{\u001b[0m\u001b[0;34m}\u001b[0m\u001b[0;34m)\u001b[0m\u001b[0;34m.\u001b[0m\u001b[0mget\u001b[0m\u001b[0;34m(\u001b[0m\u001b[0;34m\"Code\"\u001b[0m\u001b[0;34m)\u001b[0m\u001b[0;34m\u001b[0m\u001b[0;34m\u001b[0m\u001b[0m\n\u001b[1;32m    634\u001b[0m             \u001b[0merror_class\u001b[0m \u001b[0;34m=\u001b[0m \u001b[0mself\u001b[0m\u001b[0;34m.\u001b[0m\u001b[0mexceptions\u001b[0m\u001b[0;34m.\u001b[0m\u001b[0mfrom_code\u001b[0m\u001b[0;34m(\u001b[0m\u001b[0merror_code\u001b[0m\u001b[0;34m)\u001b[0m\u001b[0;34m\u001b[0m\u001b[0;34m\u001b[0m\u001b[0m\n\u001b[0;32m--> 635\u001b[0;31m             \u001b[0;32mraise\u001b[0m \u001b[0merror_class\u001b[0m\u001b[0;34m(\u001b[0m\u001b[0mparsed_response\u001b[0m\u001b[0;34m,\u001b[0m \u001b[0moperation_name\u001b[0m\u001b[0;34m)\u001b[0m\u001b[0;34m\u001b[0m\u001b[0;34m\u001b[0m\u001b[0m\n\u001b[0m\u001b[1;32m    636\u001b[0m         \u001b[0;32melse\u001b[0m\u001b[0;34m:\u001b[0m\u001b[0;34m\u001b[0m\u001b[0;34m\u001b[0m\u001b[0m\n\u001b[1;32m    637\u001b[0m             \u001b[0;32mreturn\u001b[0m \u001b[0mparsed_response\u001b[0m\u001b[0;34m\u001b[0m\u001b[0;34m\u001b[0m\u001b[0m\n",
      "\u001b[0;31mInvalidParameterValueException\u001b[0m: An error occurred (InvalidParameterValueException) when calling the UpdateTemplate operation: Given data sets [arn:aws:quicksight:eu-west-1:714290530475:dataset/qs_this_is_new_dataset_id_1] are not part of analysis"
     ]
    }
   ],
   "source": [
    "qs.update_template(\n",
    "    AwsAccountId=AWS_ACCOUNT_ID,\n",
    "    TemplateId='this_is_new_template_id',\n",
    "    SourceEntity={\n",
    "        'SourceAnalysis': {\n",
    "            'Arn': 'arn:aws:quicksight:eu-west-1:714290530475:analysis/b54ca8ce-b2fb-411e-8f2c-50edc5df536d',\n",
    "            'DataSetReferences': [\n",
    "                {\n",
    "                    'DataSetPlaceholder': 'qs_this_is_new_dataset_name',\n",
    "                    'DataSetArn': 'arn:aws:quicksight:eu-west-1:714290530475:dataset/qs_this_is_new_dataset_id'\n",
    "                },\n",
    "            ]\n",
    "        }\n",
    "    }\n",
    ")"
   ]
  },
  {
   "cell_type": "code",
   "execution_count": null,
   "metadata": {},
   "outputs": [],
   "source": []
  }
 ],
 "metadata": {
  "kernelspec": {
   "name": "python3",
   "display_name": "Python 3.7.3 64-bit",
   "metadata": {
    "interpreter": {
     "hash": "e534e48711db4d1e1c48977d0d14ff85b1f16d41bcc4fdfd88268a329b3c9d66"
    }
   }
  },
  "language_info": {
   "codemirror_mode": {
    "name": "ipython",
    "version": 3
   },
   "file_extension": ".py",
   "mimetype": "text/x-python",
   "name": "python",
   "nbconvert_exporter": "python",
   "pygments_lexer": "ipython3",
   "version": "3.7.3-final"
  }
 },
 "nbformat": 4,
 "nbformat_minor": 4
}