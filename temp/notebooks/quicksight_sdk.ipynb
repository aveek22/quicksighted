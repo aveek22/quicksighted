{
 "cells": [
  {
   "cell_type": "code",
   "execution_count": 1,
   "metadata": {},
   "outputs": [],
   "source": [
    "import boto3\n",
    "import os\n",
    "import pandas as pd"
   ]
  },
  {
   "cell_type": "code",
   "execution_count": 2,
   "metadata": {},
   "outputs": [],
   "source": [
    "ACCESS_KEY = os.getenv('QS_AWS_ACCESS_KEY_ID')\n",
    "SECRET_KEY = os.getenv('QS_AWS_SECRET_ACCESS_KEY')\n",
    "\n",
    "DATABASE_HOST = os.getenv('ENVISO_INSIGHT_DATABASE_HOSTNAME')\n",
    "DATABASE_USER = os.getenv('ENVISO_INSIGHT_DATABASE_USERNAME')\n",
    "DATABASE_PASS = os.getenv('ENVISO_INSIGHT_DATABASE_PASSWORD')\n",
    "DATABASE_NAME = 'postgres'\n",
    "\n",
    "AWS_ACCOUNT_ID = os.getenv('QS_AWS_ACCOUNT_ID')\n"
   ]
  },
  {
   "cell_type": "code",
   "execution_count": 3,
   "metadata": {},
   "outputs": [],
   "source": [
    "qs = boto3.client(\n",
    "    'quicksight',\n",
    "    aws_access_key_id=ACCESS_KEY,\n",
    "    aws_secret_access_key=SECRET_KEY,\n",
    "    region_name = 'eu-west-1'\n",
    ")"
   ]
  },
  {
   "cell_type": "code",
   "execution_count": 4,
   "metadata": {},
   "outputs": [
    {
     "output_type": "execute_result",
     "data": {
      "text/plain": [
       "{'ResponseMetadata': {'RequestId': 'a041ef6b-9315-4d2f-b2c6-5f4637997641',\n",
       "  'HTTPStatusCode': 200,\n",
       "  'HTTPHeaders': {'date': 'Tue, 29 Dec 2020 00:13:30 GMT',\n",
       "   'content-type': 'application/json',\n",
       "   'content-length': '3100',\n",
       "   'connection': 'keep-alive',\n",
       "   'x-amzn-requestid': 'a041ef6b-9315-4d2f-b2c6-5f4637997641'},\n",
       "  'RetryAttempts': 0},\n",
       " 'Status': 200,\n",
       " 'AnalysisSummaryList': [{'Arn': 'arn:aws:quicksight:eu-west-1:714290530475:analysis/12d6e534-7ba7-4de5-9063-df0e08a50cab',\n",
       "   'AnalysisId': '12d6e534-7ba7-4de5-9063-df0e08a50cab',\n",
       "   'Name': 'Business Review analysis',\n",
       "   'Status': 'DELETED',\n",
       "   'CreatedTime': datetime.datetime(2020, 12, 25, 13, 46, 47, 885000, tzinfo=tzlocal()),\n",
       "   'LastUpdatedTime': datetime.datetime(2020, 12, 25, 13, 52, 10, 88000, tzinfo=tzlocal())},\n",
       "  {'Arn': 'arn:aws:quicksight:eu-west-1:714290530475:analysis/14ea79ee-039d-401c-b92d-a2434b61d378',\n",
       "   'AnalysisId': '14ea79ee-039d-401c-b92d-a2434b61d378',\n",
       "   'Name': 'Sales Pipeline analysis',\n",
       "   'Status': 'DELETED',\n",
       "   'CreatedTime': datetime.datetime(2020, 12, 23, 23, 20, 15, 791000, tzinfo=tzlocal()),\n",
       "   'LastUpdatedTime': datetime.datetime(2020, 12, 23, 23, 20, 42, 998000, tzinfo=tzlocal())},\n",
       "  {'Arn': 'arn:aws:quicksight:eu-west-1:714290530475:analysis/62e989e9-9b8a-416d-bb58-703f0a86e881',\n",
       "   'AnalysisId': '62e989e9-9b8a-416d-bb58-703f0a86e881',\n",
       "   'Name': 'Web and Social Media Analytics analysis',\n",
       "   'Status': 'DELETED',\n",
       "   'CreatedTime': datetime.datetime(2020, 12, 23, 23, 20, 15, 974000, tzinfo=tzlocal()),\n",
       "   'LastUpdatedTime': datetime.datetime(2020, 12, 23, 23, 20, 26, 255000, tzinfo=tzlocal())},\n",
       "  {'Arn': 'arn:aws:quicksight:eu-west-1:714290530475:analysis/78dd2f51-bf89-4150-b4a9-cabdb1a72c2f',\n",
       "   'AnalysisId': '78dd2f51-bf89-4150-b4a9-cabdb1a72c2f',\n",
       "   'Name': 'People Overview analysis',\n",
       "   'Status': 'DELETED',\n",
       "   'CreatedTime': datetime.datetime(2020, 12, 25, 13, 46, 47, 923000, tzinfo=tzlocal()),\n",
       "   'LastUpdatedTime': datetime.datetime(2020, 12, 25, 13, 52, 2, 338000, tzinfo=tzlocal())},\n",
       "  {'Arn': 'arn:aws:quicksight:eu-west-1:714290530475:analysis/8ac29f77-3f10-4769-b0aa-4d69c02e3846',\n",
       "   'AnalysisId': '8ac29f77-3f10-4769-b0aa-4d69c02e3846',\n",
       "   'Name': 'Web and Social Media Analytics analysis',\n",
       "   'Status': 'DELETED',\n",
       "   'CreatedTime': datetime.datetime(2020, 12, 25, 13, 46, 48, 8000, tzinfo=tzlocal()),\n",
       "   'LastUpdatedTime': datetime.datetime(2020, 12, 25, 13, 51, 58, 653000, tzinfo=tzlocal())},\n",
       "  {'Arn': 'arn:aws:quicksight:eu-west-1:714290530475:analysis/a81294cf-f2be-4a80-9c6f-b8252a802d87',\n",
       "   'AnalysisId': 'a81294cf-f2be-4a80-9c6f-b8252a802d87',\n",
       "   'Name': 'Sales Pipeline analysis',\n",
       "   'Status': 'DELETED',\n",
       "   'CreatedTime': datetime.datetime(2020, 12, 25, 13, 46, 47, 891000, tzinfo=tzlocal()),\n",
       "   'LastUpdatedTime': datetime.datetime(2020, 12, 25, 13, 52, 6, 609000, tzinfo=tzlocal())},\n",
       "  {'Arn': 'arn:aws:quicksight:eu-west-1:714290530475:analysis/aced1965-8835-4618-845a-d7c7eb2421a8',\n",
       "   'AnalysisId': 'aced1965-8835-4618-845a-d7c7eb2421a8',\n",
       "   'Name': 'Business Review analysis',\n",
       "   'Status': 'DELETED',\n",
       "   'CreatedTime': datetime.datetime(2020, 12, 23, 23, 20, 15, 857000, tzinfo=tzlocal()),\n",
       "   'LastUpdatedTime': datetime.datetime(2020, 12, 23, 23, 20, 32, 177000, tzinfo=tzlocal())},\n",
       "  {'Arn': 'arn:aws:quicksight:eu-west-1:714290530475:analysis/b6957fe0-0f2a-4d2a-9571-25896d074bda',\n",
       "   'AnalysisId': 'b6957fe0-0f2a-4d2a-9571-25896d074bda',\n",
       "   'Name': 'People Overview analysis',\n",
       "   'Status': 'DELETED',\n",
       "   'CreatedTime': datetime.datetime(2020, 12, 23, 23, 20, 15, 839000, tzinfo=tzlocal()),\n",
       "   'LastUpdatedTime': datetime.datetime(2020, 12, 23, 23, 20, 37, 254000, tzinfo=tzlocal())},\n",
       "  {'Arn': 'arn:aws:quicksight:eu-west-1:714290530475:analysis/cc945770-04f4-430f-ab58-485a18c4b1fe',\n",
       "   'AnalysisId': 'cc945770-04f4-430f-ab58-485a18c4b1fe',\n",
       "   'Name': 'test_analsysis_name',\n",
       "   'Status': 'DELETED',\n",
       "   'CreatedTime': datetime.datetime(2020, 12, 25, 20, 15, 37, 531000, tzinfo=tzlocal()),\n",
       "   'LastUpdatedTime': datetime.datetime(2020, 12, 29, 0, 10, 45, 105000, tzinfo=tzlocal())},\n",
       "  {'Arn': 'arn:aws:quicksight:eu-west-1:714290530475:analysis/eb533938-ba2a-451c-8f67-7e37291cc7d6',\n",
       "   'AnalysisId': 'eb533938-ba2a-451c-8f67-7e37291cc7d6',\n",
       "   'Name': 'USSuperstoreData Analysis',\n",
       "   'Status': 'CREATION_SUCCESSFUL',\n",
       "   'CreatedTime': datetime.datetime(2020, 12, 23, 23, 22, 59, 856000, tzinfo=tzlocal()),\n",
       "   'LastUpdatedTime': datetime.datetime(2020, 12, 25, 15, 1, 39, 884000, tzinfo=tzlocal())},\n",
       "  {'Arn': 'arn:aws:quicksight:eu-west-1:714290530475:analysis/f6eea487-f058-4739-bccc-5a11bd604fb4',\n",
       "   'AnalysisId': 'f6eea487-f058-4739-bccc-5a11bd604fb4',\n",
       "   'Name': 'Business Review analysis',\n",
       "   'Status': 'CREATION_SUCCESSFUL',\n",
       "   'CreatedTime': datetime.datetime(2020, 12, 25, 14, 13, 17, 282000, tzinfo=tzlocal()),\n",
       "   'LastUpdatedTime': datetime.datetime(2020, 12, 25, 14, 13, 34, 927000, tzinfo=tzlocal())}],\n",
       " 'RequestId': 'a041ef6b-9315-4d2f-b2c6-5f4637997641'}"
      ]
     },
     "metadata": {},
     "execution_count": 4
    }
   ],
   "source": [
    "response_list_analyses = qs.list_analyses(\n",
    "    AwsAccountId = AWS_ACCOUNT_ID\n",
    ")\n",
    "\n",
    "response_list_analyses"
   ]
  },
  {
   "cell_type": "code",
   "execution_count": 5,
   "metadata": {},
   "outputs": [
    {
     "output_type": "execute_result",
     "data": {
      "text/plain": [
       "{'ResponseMetadata': {'RequestId': '604926d3-be46-40f5-9d0b-e46cc6d05642',\n",
       "  'HTTPStatusCode': 200,\n",
       "  'HTTPHeaders': {'date': 'Tue, 29 Dec 2020 00:13:38 GMT',\n",
       "   'content-type': 'application/json',\n",
       "   'content-length': '559',\n",
       "   'connection': 'keep-alive',\n",
       "   'x-amzn-requestid': '604926d3-be46-40f5-9d0b-e46cc6d05642'},\n",
       "  'RetryAttempts': 0},\n",
       " 'Status': 200,\n",
       " 'Analysis': {'AnalysisId': 'eb533938-ba2a-451c-8f67-7e37291cc7d6',\n",
       "  'Arn': 'arn:aws:quicksight:eu-west-1:714290530475:analysis/eb533938-ba2a-451c-8f67-7e37291cc7d6',\n",
       "  'Name': 'USSuperstoreData Analysis',\n",
       "  'Status': 'CREATION_SUCCESSFUL',\n",
       "  'DataSetArns': ['arn:aws:quicksight:eu-west-1:714290530475:dataset/09251445-b707-43b4-ba6c-6df9b91b6edd'],\n",
       "  'CreatedTime': datetime.datetime(2020, 12, 23, 23, 22, 59, 856000, tzinfo=tzlocal()),\n",
       "  'LastUpdatedTime': datetime.datetime(2020, 12, 25, 15, 1, 39, 884000, tzinfo=tzlocal()),\n",
       "  'Sheets': [{'SheetId': 'b1b4553f-fe1c-4737-9928-433c71eecc38',\n",
       "    'Name': 'Sheet 1'}]},\n",
       " 'RequestId': '604926d3-be46-40f5-9d0b-e46cc6d05642'}"
      ]
     },
     "metadata": {},
     "execution_count": 5
    }
   ],
   "source": [
    "response_describe_analysis = qs.describe_analysis(\n",
    "    AwsAccountId = AWS_ACCOUNT_ID,\n",
    "    AnalysisId = 'eb533938-ba2a-451c-8f67-7e37291cc7d6'\n",
    ")\n",
    "response_describe_analysis"
   ]
  },
  {
   "cell_type": "code",
   "execution_count": 6,
   "metadata": {},
   "outputs": [
    {
     "output_type": "stream",
     "name": "stdout",
     "text": [
      "{'ResponseMetadata': {'RequestId': '264d774b-6e31-445b-9874-440d6a8cc642', 'HTTPStatusCode': 202, 'HTTPHeaders': {'date': 'Tue, 29 Dec 2020 00:13:53 GMT', 'content-type': 'application/json', 'content-length': '228', 'connection': 'keep-alive', 'x-amzn-requestid': '264d774b-6e31-445b-9874-440d6a8cc642'}, 'RetryAttempts': 0}, 'Status': 202, 'Arn': 'arn:aws:quicksight:eu-west-1:714290530475:datasource/qs_this_is_new_datasource_id', 'DataSourceId': 'qs_this_is_new_datasource_id', 'CreationStatus': 'CREATION_IN_PROGRESS', 'RequestId': '264d774b-6e31-445b-9874-440d6a8cc642'}\n"
     ]
    }
   ],
   "source": [
    "response_create_datasource = qs.create_data_source(\n",
    "    AwsAccountId = AWS_ACCOUNT_ID,\n",
    "    DataSourceId = 'qs_this_is_new_datasource_id',\n",
    "    Name = 'qs_this_is_new_datasource_name',\n",
    "    Type = 'POSTGRESQL',\n",
    "    DataSourceParameters = {\n",
    "        'PostgreSqlParameters': {\n",
    "            'Host': DATABASE_HOST,\n",
    "            'Port': 5432,\n",
    "            'Database': DATABASE_NAME\n",
    "        }\n",
    "    },\n",
    "    Credentials = {\n",
    "        'CredentialPair': {\n",
    "            'Username': DATABASE_USER,\n",
    "            'Password': DATABASE_PASS\n",
    "        }\n",
    "    },\n",
    "    Permissions = [\n",
    "        {\n",
    "            'Principal': 'arn:aws:quicksight:eu-west-1:714290530475:user/default/714290530475',\n",
    "            'Actions': [\n",
    "                'quicksight:DeleteDataSource',\n",
    "                'quicksight:DescribeDataSource',\n",
    "                'quicksight:DescribeDataSourcePermissions',\n",
    "                'quicksight:PassDataSource',\n",
    "                'quicksight:UpdateDataSource',\n",
    "                'quicksight:UpdateDataSourcePermissions'\n",
    "            ]\n",
    "        }\n",
    "    ]\n",
    ")\n",
    "\n",
    "print(response_create_datasource)"
   ]
  },
  {
   "cell_type": "code",
   "execution_count": 34,
   "metadata": {},
   "outputs": [
    {
     "data": {
      "text/plain": [
       "{'ResponseMetadata': {'RequestId': 'd3b7fa40-f5ba-429b-aa3a-b83c4784fbf8',\n",
       "  'HTTPStatusCode': 200,\n",
       "  'HTTPHeaders': {'date': 'Fri, 25 Dec 2020 19:42:17 GMT',\n",
       "   'content-type': 'application/json',\n",
       "   'content-length': '188',\n",
       "   'connection': 'keep-alive',\n",
       "   'x-amzn-requestid': 'd3b7fa40-f5ba-429b-aa3a-b83c4784fbf8'},\n",
       "  'RetryAttempts': 0},\n",
       " 'Status': 200,\n",
       " 'Arn': 'arn:aws:quicksight:eu-west-1:714290530475:datasource/qs_this_is_new_datasource_id',\n",
       " 'DataSourceId': 'qs_this_is_new_datasource_id',\n",
       " 'RequestId': 'd3b7fa40-f5ba-429b-aa3a-b83c4784fbf8'}"
      ]
     },
     "execution_count": 34,
     "metadata": {},
     "output_type": "execute_result"
    }
   ],
   "source": [
    "qs.delete_data_source(\n",
    "    AwsAccountId=AWS_ACCOUNT_ID,\n",
    "    DataSourceId='qs_this_is_new_datasource_id'\n",
    ")"
   ]
  },
  {
   "cell_type": "code",
   "execution_count": 7,
   "metadata": {},
   "outputs": [
    {
     "output_type": "execute_result",
     "data": {
      "text/plain": [
       "{'ResponseMetadata': {'RequestId': '859bcc71-559b-40d5-a7a1-2d3b9791cd1a',\n",
       "  'HTTPStatusCode': 200,\n",
       "  'HTTPHeaders': {'date': 'Tue, 29 Dec 2020 00:14:30 GMT',\n",
       "   'content-type': 'application/json',\n",
       "   'content-length': '5708',\n",
       "   'connection': 'keep-alive',\n",
       "   'x-amzn-requestid': '859bcc71-559b-40d5-a7a1-2d3b9791cd1a'},\n",
       "  'RetryAttempts': 0},\n",
       " 'Status': 200,\n",
       " 'DataSources': [{'Arn': 'arn:aws:quicksight:eu-west-1:714290530475:datasource/qs_this_is_new_datasource_id',\n",
       "   'DataSourceId': 'qs_this_is_new_datasource_id',\n",
       "   'Name': 'qs_this_is_new_datasource_name',\n",
       "   'Type': 'POSTGRESQL',\n",
       "   'Status': 'CREATION_SUCCESSFUL',\n",
       "   'CreatedTime': datetime.datetime(2020, 12, 29, 0, 13, 53, 461000, tzinfo=tzlocal()),\n",
       "   'LastUpdatedTime': datetime.datetime(2020, 12, 29, 0, 13, 54, 441000, tzinfo=tzlocal()),\n",
       "   'DataSourceParameters': {'PostgreSqlParameters': {'Host': 'enviso-insight-rds.development-enviso.io',\n",
       "     'Port': 5432,\n",
       "     'Database': 'postgres'}},\n",
       "   'SslProperties': {'DisableSsl': False}},\n",
       "  {'Arn': 'arn:aws:quicksight:eu-west-1:714290530475:datasource/84ba07e4-bc37-4fab-9f7c-ffe11b7da302',\n",
       "   'DataSourceId': '84ba07e4-bc37-4fab-9f7c-ffe11b7da302',\n",
       "   'Name': 'Sales Pipeline',\n",
       "   'Type': 'S3',\n",
       "   'Status': 'UPDATE_SUCCESSFUL',\n",
       "   'CreatedTime': datetime.datetime(2020, 12, 25, 13, 46, 46, 535000, tzinfo=tzlocal()),\n",
       "   'LastUpdatedTime': datetime.datetime(2020, 12, 25, 13, 46, 46, 666000, tzinfo=tzlocal()),\n",
       "   'DataSourceParameters': {'S3Parameters': {'ManifestFileLocation': {'Bucket': 'spaceneedle-samplefiles.prod.eu-west-1',\n",
       "      'Key': 'sales/manifest.json'}}}},\n",
       "  {'Arn': 'arn:aws:quicksight:eu-west-1:714290530475:datasource/9054bf12-6d96-49d7-acc1-d538095203d4',\n",
       "   'DataSourceId': '9054bf12-6d96-49d7-acc1-d538095203d4',\n",
       "   'Name': 'Business Review',\n",
       "   'Type': 'S3',\n",
       "   'Status': 'UPDATE_SUCCESSFUL',\n",
       "   'CreatedTime': datetime.datetime(2020, 12, 25, 13, 46, 46, 538000, tzinfo=tzlocal()),\n",
       "   'LastUpdatedTime': datetime.datetime(2020, 12, 25, 13, 46, 46, 628000, tzinfo=tzlocal()),\n",
       "   'DataSourceParameters': {'S3Parameters': {'ManifestFileLocation': {'Bucket': 'spaceneedle-samplefiles.prod.eu-west-1',\n",
       "      'Key': 'revenue/manifest.json'}}}},\n",
       "  {'Arn': 'arn:aws:quicksight:eu-west-1:714290530475:datasource/aab2a82f-7896-4ae8-b731-afb0d3ebcb08',\n",
       "   'DataSourceId': 'aab2a82f-7896-4ae8-b731-afb0d3ebcb08',\n",
       "   'Name': 'People Overview',\n",
       "   'Type': 'S3',\n",
       "   'Status': 'UPDATE_SUCCESSFUL',\n",
       "   'CreatedTime': datetime.datetime(2020, 12, 25, 13, 46, 46, 536000, tzinfo=tzlocal()),\n",
       "   'LastUpdatedTime': datetime.datetime(2020, 12, 25, 13, 46, 46, 656000, tzinfo=tzlocal()),\n",
       "   'DataSourceParameters': {'S3Parameters': {'ManifestFileLocation': {'Bucket': 'spaceneedle-samplefiles.prod.eu-west-1',\n",
       "      'Key': 'hr/manifest.json'}}}},\n",
       "  {'Arn': 'arn:aws:quicksight:eu-west-1:714290530475:datasource/c3315763-273f-434b-b740-efe1be358955',\n",
       "   'DataSourceId': 'c3315763-273f-434b-b740-efe1be358955',\n",
       "   'Name': 'Web and Social Media Analytics',\n",
       "   'Type': 'S3',\n",
       "   'Status': 'UPDATE_SUCCESSFUL',\n",
       "   'CreatedTime': datetime.datetime(2020, 12, 25, 13, 46, 46, 538000, tzinfo=tzlocal()),\n",
       "   'LastUpdatedTime': datetime.datetime(2020, 12, 25, 13, 46, 46, 646000, tzinfo=tzlocal()),\n",
       "   'DataSourceParameters': {'S3Parameters': {'ManifestFileLocation': {'Bucket': 'spaceneedle-samplefiles.prod.eu-west-1',\n",
       "      'Key': 'marketing/manifest.json'}}}},\n",
       "  {'Arn': 'arn:aws:quicksight:eu-west-1:714290530475:datasource/818e91b7-d11d-4f53-bd15-f87197d1bbcf',\n",
       "   'DataSourceId': '818e91b7-d11d-4f53-bd15-f87197d1bbcf',\n",
       "   'Name': 'USSuperstoreData.csv',\n",
       "   'Type': 'S3',\n",
       "   'CreatedTime': datetime.datetime(2020, 12, 23, 23, 21, 52, 323000, tzinfo=tzlocal()),\n",
       "   'LastUpdatedTime': datetime.datetime(2020, 12, 23, 23, 22, 3, 566000, tzinfo=tzlocal())}],\n",
       " 'RequestId': '859bcc71-559b-40d5-a7a1-2d3b9791cd1a'}"
      ]
     },
     "metadata": {},
     "execution_count": 7
    }
   ],
   "source": [
    "qs.list_data_sources(\n",
    "    AwsAccountId = AWS_ACCOUNT_ID\n",
    ")"
   ]
  },
  {
   "cell_type": "code",
   "execution_count": 8,
   "metadata": {},
   "outputs": [
    {
     "output_type": "execute_result",
     "data": {
      "text/plain": [
       "{'ResponseMetadata': {'RequestId': 'c43e73df-5dda-41bd-a1d7-57335c9de100',\n",
       "  'HTTPStatusCode': 200,\n",
       "  'HTTPHeaders': {'date': 'Tue, 29 Dec 2020 00:14:51 GMT',\n",
       "   'content-type': 'application/json',\n",
       "   'content-length': '1109',\n",
       "   'connection': 'keep-alive',\n",
       "   'x-amzn-requestid': 'c43e73df-5dda-41bd-a1d7-57335c9de100'},\n",
       "  'RetryAttempts': 0},\n",
       " 'Status': 200,\n",
       " 'DataSource': {'Arn': 'arn:aws:quicksight:eu-west-1:714290530475:datasource/qs_this_is_new_datasource_id',\n",
       "  'DataSourceId': 'qs_this_is_new_datasource_id',\n",
       "  'Name': 'qs_this_is_new_datasource_name',\n",
       "  'Type': 'POSTGRESQL',\n",
       "  'Status': 'CREATION_SUCCESSFUL',\n",
       "  'CreatedTime': datetime.datetime(2020, 12, 29, 0, 13, 53, 461000, tzinfo=tzlocal()),\n",
       "  'LastUpdatedTime': datetime.datetime(2020, 12, 29, 0, 13, 54, 441000, tzinfo=tzlocal()),\n",
       "  'DataSourceParameters': {'PostgreSqlParameters': {'Host': 'enviso-insight-rds.development-enviso.io',\n",
       "    'Port': 5432,\n",
       "    'Database': 'postgres'}},\n",
       "  'SslProperties': {'DisableSsl': False}},\n",
       " 'RequestId': 'c43e73df-5dda-41bd-a1d7-57335c9de100'}"
      ]
     },
     "metadata": {},
     "execution_count": 8
    }
   ],
   "source": [
    "qs.describe_data_source(\n",
    "    AwsAccountId=AWS_ACCOUNT_ID,\n",
    "    DataSourceId='qs_this_is_new_datasource_id'\n",
    ")"
   ]
  },
  {
   "cell_type": "code",
   "execution_count": 9,
   "metadata": {},
   "outputs": [
    {
     "output_type": "execute_result",
     "data": {
      "text/plain": [
       "{'ResponseMetadata': {'RequestId': 'cf0902d7-86d2-456f-8777-d9a22cd790ec',\n",
       "  'HTTPStatusCode': 201,\n",
       "  'HTTPHeaders': {'date': 'Tue, 29 Dec 2020 00:15:11 GMT',\n",
       "   'content-type': 'application/json',\n",
       "   'content-length': '369',\n",
       "   'connection': 'keep-alive',\n",
       "   'x-amzn-requestid': 'cf0902d7-86d2-456f-8777-d9a22cd790ec'},\n",
       "  'RetryAttempts': 0},\n",
       " 'Status': 201,\n",
       " 'Arn': 'arn:aws:quicksight:eu-west-1:714290530475:dataset/qs_this_is_new_dataset_id',\n",
       " 'DataSetId': 'qs_this_is_new_dataset_id',\n",
       " 'IngestionArn': 'arn:aws:quicksight:eu-west-1:714290530475:dataset/qs_this_is_new_dataset_id/ingestion/056047e0-366c-449d-8405-1048fcec7c43',\n",
       " 'IngestionId': '056047e0-366c-449d-8405-1048fcec7c43',\n",
       " 'RequestId': 'cf0902d7-86d2-456f-8777-d9a22cd790ec'}"
      ]
     },
     "metadata": {},
     "execution_count": 9
    }
   ],
   "source": [
    "qs.create_data_set(\n",
    "    AwsAccountId = AWS_ACCOUNT_ID,\n",
    "    DataSetId = 'qs_this_is_new_dataset_id',\n",
    "    Name = 'qs_this_is_new_dataset_name',\n",
    "    PhysicalTableMap = {\n",
    "        'qs-physical-table-map':{\n",
    "            'RelationalTable':{\n",
    "                'DataSourceArn':'arn:aws:quicksight:eu-west-1:714290530475:datasource/qs_this_is_new_datasource_id',\n",
    "                'Schema':'public',\n",
    "                'Name':'qs_table',\n",
    "                'InputColumns':[\n",
    "                    {\n",
    "                        'Name':'id',\n",
    "                        'Type':'INTEGER'\n",
    "                    },\n",
    "                    {\n",
    "                        'Name':'name',\n",
    "                        'Type':'STRING'\n",
    "                    },\n",
    "                    {\n",
    "                        'Name':'age',\n",
    "                        'Type':'INTEGER'\n",
    "                    }\n",
    "                ]\n",
    "            }\n",
    "        }\n",
    "    },\n",
    "    ImportMode = 'SPICE',\n",
    "    Permissions=[\n",
    "        {\n",
    "            'Principal':'arn:aws:quicksight:eu-west-1:714290530475:user/default/714290530475',\n",
    "            'Actions':[\n",
    "                'quicksight:DeleteDataSet',\n",
    "                'quicksight:DescribeDataSet',\n",
    "                'quicksight:DescribeDataSetPermissions',\n",
    "                'quicksight:PassDataSet',\n",
    "                'quicksight:UpdateDataSet',\n",
    "                'quicksight:UpdateDataSetPermissions',\n",
    "                'quicksight:CreateIngestion',\n",
    "                'quicksight:CancelIngestion',\n",
    "                'quicksight:DescribeIngestion',\n",
    "                'quicksight:ListIngestions'\n",
    "            ]\n",
    "        }\n",
    "    ]\n",
    ")"
   ]
  },
  {
   "cell_type": "code",
   "execution_count": 44,
   "metadata": {},
   "outputs": [
    {
     "data": {
      "text/plain": [
       "{'ResponseMetadata': {'RequestId': '9f919edf-2a2e-4d55-9efa-93d244d2f43b',\n",
       "  'HTTPStatusCode': 200,\n",
       "  'HTTPHeaders': {'date': 'Fri, 25 Dec 2020 20:08:48 GMT',\n",
       "   'content-type': 'application/json',\n",
       "   'content-length': '176',\n",
       "   'connection': 'keep-alive',\n",
       "   'x-amzn-requestid': '9f919edf-2a2e-4d55-9efa-93d244d2f43b'},\n",
       "  'RetryAttempts': 0},\n",
       " 'Status': 200,\n",
       " 'Arn': 'arn:aws:quicksight:eu-west-1:714290530475:dataset/qs_this_is_new_dataset_id',\n",
       " 'DataSetId': 'qs_this_is_new_dataset_id',\n",
       " 'RequestId': '9f919edf-2a2e-4d55-9efa-93d244d2f43b'}"
      ]
     },
     "execution_count": 44,
     "metadata": {},
     "output_type": "execute_result"
    }
   ],
   "source": [
    "qs.delete_data_set(\n",
    "    AwsAccountId=AWS_ACCOUNT_ID,\n",
    "    DataSetId='qs_this_is_new_dataset_id'\n",
    ")"
   ]
  },
  {
   "cell_type": "code",
   "execution_count": 46,
   "metadata": {},
   "outputs": [
    {
     "data": {
      "text/plain": [
       "{'ResponseMetadata': {'RequestId': '74ef3aa8-f59a-418e-b7c2-2b9619504e76',\n",
       "  'HTTPStatusCode': 202,\n",
       "  'HTTPHeaders': {'date': 'Fri, 25 Dec 2020 20:09:57 GMT',\n",
       "   'content-type': 'application/json',\n",
       "   'content-length': '248',\n",
       "   'connection': 'keep-alive',\n",
       "   'x-amzn-requestid': '74ef3aa8-f59a-418e-b7c2-2b9619504e76'},\n",
       "  'RetryAttempts': 0},\n",
       " 'Status': 202,\n",
       " 'Arn': 'arn:aws:quicksight:eu-west-1:714290530475:dataset/qs_this_is_new_dataset_id/ingestion/qs_this_is_new_ingestion_id',\n",
       " 'IngestionId': 'qs_this_is_new_ingestion_id',\n",
       " 'IngestionStatus': 'COMPLETED',\n",
       " 'RequestId': '74ef3aa8-f59a-418e-b7c2-2b9619504e76'}"
      ]
     },
     "execution_count": 46,
     "metadata": {},
     "output_type": "execute_result"
    }
   ],
   "source": [
    "qs.create_ingestion(\n",
    "    DataSetId='qs_this_is_new_dataset_id',\n",
    "    IngestionId='qs_this_is_new_ingestion_id',\n",
    "    AwsAccountId=AWS_ACCOUNT_ID\n",
    ")"
   ]
  },
  {
   "cell_type": "code",
   "execution_count": 47,
   "metadata": {},
   "outputs": [
    {
     "data": {
      "text/plain": [
       "{'ResponseMetadata': {'RequestId': '522363c4-d953-4e2f-b30a-646fec834639',\n",
       "  'HTTPStatusCode': 200,\n",
       "  'HTTPHeaders': {'date': 'Fri, 25 Dec 2020 20:11:58 GMT',\n",
       "   'content-type': 'application/json',\n",
       "   'content-length': '528',\n",
       "   'connection': 'keep-alive',\n",
       "   'x-amzn-requestid': '522363c4-d953-4e2f-b30a-646fec834639'},\n",
       "  'RetryAttempts': 0},\n",
       " 'Status': 200,\n",
       " 'Ingestion': {'Arn': 'arn:aws:quicksight:eu-west-1:714290530475:dataset/qs_this_is_new_dataset_id/ingestion/qs_this_is_new_ingestion_id',\n",
       "  'IngestionId': 'qs_this_is_new_ingestion_id',\n",
       "  'IngestionStatus': 'COMPLETED',\n",
       "  'ErrorInfo': {},\n",
       "  'RowInfo': {'RowsIngested': 3, 'RowsDropped': 0},\n",
       "  'CreatedTime': datetime.datetime(2020, 12, 25, 20, 6, 35, 415000, tzinfo=tzlocal()),\n",
       "  'IngestionTimeInSeconds': 16,\n",
       "  'IngestionSizeInBytes': 155,\n",
       "  'RequestSource': 'MANUAL',\n",
       "  'RequestType': 'FULL_REFRESH'},\n",
       " 'RequestId': '522363c4-d953-4e2f-b30a-646fec834639'}"
      ]
     },
     "execution_count": 47,
     "metadata": {},
     "output_type": "execute_result"
    }
   ],
   "source": [
    "qs.describe_ingestion(\n",
    "    DataSetId='qs_this_is_new_dataset_id',\n",
    "    IngestionId='qs_this_is_new_ingestion_id',\n",
    "    AwsAccountId=AWS_ACCOUNT_ID\n",
    ")"
   ]
  },
  {
   "cell_type": "code",
   "execution_count": 12,
   "metadata": {},
   "outputs": [
    {
     "output_type": "execute_result",
     "data": {
      "text/plain": [
       "{'ResponseMetadata': {'RequestId': '18665ecb-d304-48c0-bf83-49839d86df62',\n",
       "  'HTTPStatusCode': 202,\n",
       "  'HTTPHeaders': {'date': 'Tue, 29 Dec 2020 00:19:39 GMT',\n",
       "   'content-type': 'application/json',\n",
       "   'content-length': '314',\n",
       "   'connection': 'keep-alive',\n",
       "   'x-amzn-requestid': '18665ecb-d304-48c0-bf83-49839d86df62'},\n",
       "  'RetryAttempts': 0},\n",
       " 'Status': 202,\n",
       " 'Arn': 'arn:aws:quicksight:eu-west-1:714290530475:template/this_is_new_template_id',\n",
       " 'VersionArn': 'arn:aws:quicksight:eu-west-1:714290530475:template/this_is_new_template_id/version/1',\n",
       " 'TemplateId': 'this_is_new_template_id',\n",
       " 'CreationStatus': 'CREATION_IN_PROGRESS',\n",
       " 'RequestId': '18665ecb-d304-48c0-bf83-49839d86df62'}"
      ]
     },
     "metadata": {},
     "execution_count": 12
    }
   ],
   "source": [
    "qs.create_template(\n",
    "    AwsAccountId=AWS_ACCOUNT_ID,\n",
    "    TemplateId='this_is_new_template_id',\n",
    "    Name='this_is_new_template_name',\n",
    "    Permissions=[\n",
    "        {\n",
    "            'Principal': 'arn:aws:quicksight:eu-west-1:714290530475:user/default/714290530475',\n",
    "            'Actions': [\n",
    "                'quicksight:DeleteTemplate',\n",
    "                'quicksight:DescribeTemplate',\n",
    "                'quicksight:DescribeTemplatePermissions',\n",
    "                'quicksight:UpdateTemplate',\n",
    "                'quicksight:UpdateTemplatePermissions'\n",
    "            ]\n",
    "        },\n",
    "    ],\n",
    "    SourceEntity={\n",
    "        'SourceAnalysis': {\n",
    "            'Arn': 'arn:aws:quicksight:eu-west-1:714290530475:analysis/d54b10b1-a685-4f8c-8081-50f8877d3e70',\n",
    "            'DataSetReferences': [\n",
    "                {\n",
    "                    'DataSetPlaceholder': 'qs_this_is_new_dataset_name',\n",
    "                    'DataSetArn': 'arn:aws:quicksight:eu-west-1:714290530475:dataset/qs_this_is_new_dataset_id'\n",
    "                },\n",
    "            ]\n",
    "        }\n",
    "    },\n",
    "    VersionDescription='1.0.0'\n",
    ")"
   ]
  },
  {
   "cell_type": "code",
   "execution_count": 17,
   "metadata": {},
   "outputs": [
    {
     "output_type": "execute_result",
     "data": {
      "text/plain": [
       "{'ResponseMetadata': {'RequestId': '0840114e-786f-4290-9fd9-42b0b9767709',\n",
       "  'HTTPStatusCode': 200,\n",
       "  'HTTPHeaders': {'date': 'Tue, 29 Dec 2020 00:22:09 GMT',\n",
       "   'content-type': 'application/json',\n",
       "   'content-length': '178',\n",
       "   'connection': 'keep-alive',\n",
       "   'x-amzn-requestid': '0840114e-786f-4290-9fd9-42b0b9767709'},\n",
       "  'RetryAttempts': 0},\n",
       " 'Status': 200,\n",
       " 'RequestId': '0840114e-786f-4290-9fd9-42b0b9767709',\n",
       " 'Arn': 'arn:aws:quicksight:eu-west-1:714290530475:template/this_is_new_template_id_1',\n",
       " 'TemplateId': 'this_is_new_template_id_1'}"
      ]
     },
     "metadata": {},
     "execution_count": 17
    }
   ],
   "source": [
    "qs.delete_template(\n",
    "    AwsAccountId = AWS_ACCOUNT_ID,\n",
    "    TemplateId = 'this_is_new_template_id'\n",
    ")"
   ]
  },
  {
   "cell_type": "code",
   "execution_count": 19,
   "metadata": {},
   "outputs": [
    {
     "output_type": "execute_result",
     "data": {
      "text/plain": [
       "{'ResponseMetadata': {'RequestId': '1d958b9e-71b7-4639-a3ce-fe0660da734d',\n",
       "  'HTTPStatusCode': 200,\n",
       "  'HTTPHeaders': {'date': 'Tue, 29 Dec 2020 00:22:49 GMT',\n",
       "   'content-type': 'application/json',\n",
       "   'content-length': '597',\n",
       "   'connection': 'keep-alive',\n",
       "   'x-amzn-requestid': '1d958b9e-71b7-4639-a3ce-fe0660da734d'},\n",
       "  'RetryAttempts': 0},\n",
       " 'Status': 200,\n",
       " 'TemplateSummaryList': [{'Arn': 'arn:aws:quicksight:eu-west-1:714290530475:template/this_is_new_template_id',\n",
       "   'TemplateId': 'this_is_new_template_id',\n",
       "   'Name': 'this_is_new_template_name',\n",
       "   'LatestVersionNumber': 1,\n",
       "   'CreatedTime': datetime.datetime(2020, 12, 29, 0, 19, 39, 692000, tzinfo=tzlocal()),\n",
       "   'LastUpdatedTime': datetime.datetime(2020, 12, 29, 0, 19, 39, 692000, tzinfo=tzlocal())},\n",
       "  {'Arn': 'arn:aws:quicksight:eu-west-1:714290530475:template/this_is_new_template_id_1',\n",
       "   'TemplateId': 'this_is_new_template_id_1',\n",
       "   'Name': 'this_is_new_template_name_1',\n",
       "   'LatestVersionNumber': 1,\n",
       "   'CreatedTime': datetime.datetime(2020, 12, 29, 0, 22, 28, 687000, tzinfo=tzlocal()),\n",
       "   'LastUpdatedTime': datetime.datetime(2020, 12, 29, 0, 22, 28, 687000, tzinfo=tzlocal())}],\n",
       " 'RequestId': '1d958b9e-71b7-4639-a3ce-fe0660da734d'}"
      ]
     },
     "metadata": {},
     "execution_count": 19
    }
   ],
   "source": [
    "qs.list_templates(\n",
    "    AwsAccountId=AWS_ACCOUNT_ID\n",
    ")"
   ]
  },
  {
   "cell_type": "code",
   "execution_count": 14,
   "metadata": {},
   "outputs": [
    {
     "output_type": "execute_result",
     "data": {
      "text/plain": [
       "{'ResponseMetadata': {'RequestId': '2c4a60a7-a8c9-486a-8bcf-400787ec453c',\n",
       "  'HTTPStatusCode': 200,\n",
       "  'HTTPHeaders': {'date': 'Tue, 29 Dec 2020 00:20:05 GMT',\n",
       "   'content-type': 'application/json',\n",
       "   'content-length': '873',\n",
       "   'connection': 'keep-alive',\n",
       "   'x-amzn-requestid': '2c4a60a7-a8c9-486a-8bcf-400787ec453c'},\n",
       "  'RetryAttempts': 0},\n",
       " 'Status': 200,\n",
       " 'Template': {'Arn': 'arn:aws:quicksight:eu-west-1:714290530475:template/this_is_new_template_id',\n",
       "  'Name': 'this_is_new_template_name',\n",
       "  'Version': {'CreatedTime': datetime.datetime(2020, 12, 29, 0, 19, 39, 697000, tzinfo=tzlocal()),\n",
       "   'VersionNumber': 1,\n",
       "   'Status': 'CREATION_SUCCESSFUL',\n",
       "   'DataSetConfigurations': [{'Placeholder': 'qs_this_is_new_dataset_name',\n",
       "     'DataSetSchema': {'ColumnSchemaList': [{'Name': 'age',\n",
       "        'DataType': 'INTEGER'},\n",
       "       {'Name': 'name', 'DataType': 'STRING'}]},\n",
       "     'ColumnGroupSchemaList': []}],\n",
       "   'Description': '1.0.0',\n",
       "   'SourceEntityArn': 'arn:aws:quicksight:eu-west-1:714290530475:analysis/d54b10b1-a685-4f8c-8081-50f8877d3e70',\n",
       "   'Sheets': [{'SheetId': '33a85fe2-e240-4456-8ba0-f40a12ddbf4b',\n",
       "     'Name': 'Sheet 1'}]},\n",
       "  'TemplateId': 'this_is_new_template_id',\n",
       "  'LastUpdatedTime': datetime.datetime(2020, 12, 29, 0, 19, 39, 692000, tzinfo=tzlocal()),\n",
       "  'CreatedTime': datetime.datetime(2020, 12, 29, 0, 19, 39, 692000, tzinfo=tzlocal())},\n",
       " 'RequestId': '2c4a60a7-a8c9-486a-8bcf-400787ec453c'}"
      ]
     },
     "metadata": {},
     "execution_count": 14
    }
   ],
   "source": [
    "qs.describe_template(\n",
    "    AwsAccountId=AWS_ACCOUNT_ID,\n",
    "    TemplateId='this_is_new_template_id'\n",
    ")"
   ]
  },
  {
   "cell_type": "code",
   "execution_count": 15,
   "metadata": {},
   "outputs": [
    {
     "output_type": "execute_result",
     "data": {
      "text/plain": [
       "{'ResponseMetadata': {'RequestId': '848b0d55-5075-4a24-a86a-4c18d988a24c',\n",
       "  'HTTPStatusCode': 202,\n",
       "  'HTTPHeaders': {'date': 'Tue, 29 Dec 2020 00:20:44 GMT',\n",
       "   'content-type': 'application/json',\n",
       "   'content-length': '320',\n",
       "   'connection': 'keep-alive',\n",
       "   'x-amzn-requestid': '848b0d55-5075-4a24-a86a-4c18d988a24c'},\n",
       "  'RetryAttempts': 0},\n",
       " 'Status': 202,\n",
       " 'Arn': 'arn:aws:quicksight:eu-west-1:714290530475:dashboard/this_is_new_dashboard_id',\n",
       " 'VersionArn': 'arn:aws:quicksight:eu-west-1:714290530475:dashboard/this_is_new_dashboard_id/version/1',\n",
       " 'DashboardId': 'this_is_new_dashboard_id',\n",
       " 'CreationStatus': 'CREATION_IN_PROGRESS',\n",
       " 'RequestId': '848b0d55-5075-4a24-a86a-4c18d988a24c'}"
      ]
     },
     "metadata": {},
     "execution_count": 15
    }
   ],
   "source": [
    "qs.create_dashboard(\n",
    "    AwsAccountId = AWS_ACCOUNT_ID,\n",
    "    DashboardId = 'this_is_new_dashboard_id',\n",
    "    Name = 'this_is_new_dashboard_name',\n",
    "    SourceEntity={\n",
    "        'SourceTemplate':{\n",
    "            'Arn':'arn:aws:quicksight:eu-west-1:714290530475:template/this_is_new_template_id',\n",
    "            'DataSetReferences':[\n",
    "                {\n",
    "                    'DataSetPlaceholder':'qs_this_is_new_dataset_name',\n",
    "                    'DataSetArn':'arn:aws:quicksight:eu-west-1:714290530475:dataset/qs_this_is_new_dataset_id'\n",
    "                }\n",
    "            ]\n",
    "        }\n",
    "    },\n",
    "    VersionDescription='Version-0',\n",
    "    Permissions=[\n",
    "        {\n",
    "            'Principal':'arn:aws:quicksight:eu-west-1:714290530475:user/default/714290530475',\n",
    "            'Actions':[\n",
    "                'quicksight:DescribeDashboard',\n",
    "                'quicksight:ListDashboardVersions',\n",
    "                'quicksight:QueryDashboard',\n",
    "                'quicksight:DescribeDashboardPermissions',\n",
    "                'quicksight:UpdateDashboardPermissions',\n",
    "                'quicksight:DeleteDashboard',\n",
    "                'quicksight:UpdateDashboard',\n",
    "                'quicksight:UpdateDashboardPublishedVersion'\n",
    "            ]\n",
    "        }\n",
    "    ]\n",
    ")"
   ]
  },
  {
   "cell_type": "code",
   "execution_count": 16,
   "metadata": {},
   "outputs": [
    {
     "output_type": "execute_result",
     "data": {
      "text/plain": [
       "{'ResponseMetadata': {'RequestId': 'ea4a5238-c397-4d4f-a44e-6d20cd2f51dd',\n",
       "  'HTTPStatusCode': 200,\n",
       "  'HTTPHeaders': {'date': 'Tue, 29 Dec 2020 00:21:04 GMT',\n",
       "   'content-type': 'application/json',\n",
       "   'content-length': '388',\n",
       "   'connection': 'keep-alive',\n",
       "   'x-amzn-requestid': 'ea4a5238-c397-4d4f-a44e-6d20cd2f51dd'},\n",
       "  'RetryAttempts': 0},\n",
       " 'Status': 200,\n",
       " 'DashboardSummaryList': [{'Arn': 'arn:aws:quicksight:eu-west-1:714290530475:dashboard/this_is_new_dashboard_id',\n",
       "   'DashboardId': 'this_is_new_dashboard_id',\n",
       "   'Name': 'this_is_new_dashboard_name',\n",
       "   'CreatedTime': datetime.datetime(2020, 12, 29, 0, 20, 44, 564000, tzinfo=tzlocal()),\n",
       "   'LastUpdatedTime': datetime.datetime(2020, 12, 29, 0, 20, 44, 671000, tzinfo=tzlocal()),\n",
       "   'PublishedVersionNumber': 1,\n",
       "   'LastPublishedTime': datetime.datetime(2020, 12, 29, 0, 20, 44, 564000, tzinfo=tzlocal())}],\n",
       " 'RequestId': 'ea4a5238-c397-4d4f-a44e-6d20cd2f51dd'}"
      ]
     },
     "metadata": {},
     "execution_count": 16
    }
   ],
   "source": [
    "qs.list_dashboards(\n",
    "    AwsAccountId=AWS_ACCOUNT_ID\n",
    ")"
   ]
  },
  {
   "cell_type": "code",
   "execution_count": 18,
   "metadata": {},
   "outputs": [
    {
     "output_type": "execute_result",
     "data": {
      "text/plain": [
       "{'ResponseMetadata': {'RequestId': '8c5339c1-4327-4123-9e44-91b11a7e18e5',\n",
       "  'HTTPStatusCode': 202,\n",
       "  'HTTPHeaders': {'date': 'Tue, 29 Dec 2020 00:22:28 GMT',\n",
       "   'content-type': 'application/json',\n",
       "   'content-length': '320',\n",
       "   'connection': 'keep-alive',\n",
       "   'x-amzn-requestid': '8c5339c1-4327-4123-9e44-91b11a7e18e5'},\n",
       "  'RetryAttempts': 0},\n",
       " 'Status': 202,\n",
       " 'Arn': 'arn:aws:quicksight:eu-west-1:714290530475:template/this_is_new_template_id_1',\n",
       " 'VersionArn': 'arn:aws:quicksight:eu-west-1:714290530475:template/this_is_new_template_id_1/version/1',\n",
       " 'TemplateId': 'this_is_new_template_id_1',\n",
       " 'CreationStatus': 'CREATION_IN_PROGRESS',\n",
       " 'RequestId': '8c5339c1-4327-4123-9e44-91b11a7e18e5'}"
      ]
     },
     "metadata": {},
     "execution_count": 18
    }
   ],
   "source": [
    "qs.create_template(\n",
    "    AwsAccountId=AWS_ACCOUNT_ID,\n",
    "    TemplateId='this_is_new_template_id_1',\n",
    "    Name='this_is_new_template_name_1',\n",
    "    Permissions=[\n",
    "        {\n",
    "            'Principal': 'arn:aws:quicksight:eu-west-1:714290530475:user/default/714290530475',\n",
    "            'Actions': [\n",
    "                'quicksight:DeleteTemplate',\n",
    "                'quicksight:DescribeTemplate',\n",
    "                'quicksight:DescribeTemplatePermissions',\n",
    "                'quicksight:UpdateTemplate',\n",
    "                'quicksight:UpdateTemplatePermissions'\n",
    "            ]\n",
    "        },\n",
    "    ],\n",
    "    SourceEntity={\n",
    "        'SourceAnalysis': {\n",
    "            'Arn': 'arn:aws:quicksight:eu-west-1:714290530475:analysis/cc945770-04f4-430f-ab58-485a18c4b1fe',\n",
    "            'DataSetReferences': [\n",
    "                {\n",
    "                    'DataSetPlaceholder': 'qs_this_is_new_dataset_name',\n",
    "                    'DataSetArn': 'arn:aws:quicksight:eu-west-1:714290530475:dataset/qs_this_is_new_dataset_id'\n",
    "                },\n",
    "            ]\n",
    "        }\n",
    "    },\n",
    "    VersionDescription='1.0.1'\n",
    ")"
   ]
  },
  {
   "cell_type": "code",
   "execution_count": 60,
   "metadata": {},
   "outputs": [
    {
     "data": {
      "text/plain": [
       "{'ResponseMetadata': {'RequestId': 'a2450588-6f9e-48c5-b61b-8a010b150c97',\n",
       "  'HTTPStatusCode': 201,\n",
       "  'HTTPHeaders': {'date': 'Fri, 25 Dec 2020 20:58:35 GMT',\n",
       "   'content-type': 'application/json',\n",
       "   'content-length': '375',\n",
       "   'connection': 'keep-alive',\n",
       "   'x-amzn-requestid': 'a2450588-6f9e-48c5-b61b-8a010b150c97'},\n",
       "  'RetryAttempts': 0},\n",
       " 'Status': 201,\n",
       " 'Arn': 'arn:aws:quicksight:eu-west-1:714290530475:dataset/qs_this_is_new_dataset_id_1',\n",
       " 'DataSetId': 'qs_this_is_new_dataset_id_1',\n",
       " 'IngestionArn': 'arn:aws:quicksight:eu-west-1:714290530475:dataset/qs_this_is_new_dataset_id_1/ingestion/c0117a92-4c9d-498f-9aa3-ebcff2c003a5',\n",
       " 'IngestionId': 'c0117a92-4c9d-498f-9aa3-ebcff2c003a5',\n",
       " 'RequestId': 'a2450588-6f9e-48c5-b61b-8a010b150c97'}"
      ]
     },
     "execution_count": 60,
     "metadata": {},
     "output_type": "execute_result"
    }
   ],
   "source": [
    "qs.create_data_set(\n",
    "    AwsAccountId = AWS_ACCOUNT_ID,\n",
    "    DataSetId = 'qs_this_is_new_dataset_id_1',\n",
    "    Name = 'qs_this_is_new_dataset_name_1',\n",
    "    PhysicalTableMap = {\n",
    "        'qs-physical-table-map':{\n",
    "            'RelationalTable':{\n",
    "                'DataSourceArn':'arn:aws:quicksight:eu-west-1:714290530475:datasource/qs_this_is_new_datasource_id',\n",
    "                'Schema':'public',\n",
    "                'Name':'qs_table',\n",
    "                'InputColumns':[\n",
    "                    {\n",
    "                        'Name':'id',\n",
    "                        'Type':'INTEGER'\n",
    "                    },\n",
    "                    {\n",
    "                        'Name':'name',\n",
    "                        'Type':'STRING'\n",
    "                    },\n",
    "                    {\n",
    "                        'Name':'age',\n",
    "                        'Type':'INTEGER'\n",
    "                    }\n",
    "                ]\n",
    "            }\n",
    "        }\n",
    "    },\n",
    "    ImportMode = 'SPICE',\n",
    "    Permissions=[\n",
    "        {\n",
    "            'Principal':'arn:aws:quicksight:eu-west-1:714290530475:user/default/714290530475',\n",
    "            'Actions':[\n",
    "                'quicksight:DeleteDataSet',\n",
    "                'quicksight:DescribeDataSet',\n",
    "                'quicksight:DescribeDataSetPermissions',\n",
    "                'quicksight:PassDataSet',\n",
    "                'quicksight:UpdateDataSet',\n",
    "                'quicksight:UpdateDataSetPermissions',\n",
    "                'quicksight:CreateIngestion',\n",
    "                'quicksight:CancelIngestion',\n",
    "                'quicksight:DescribeIngestion',\n",
    "                'quicksight:ListIngestions'\n",
    "            ]\n",
    "        }\n",
    "    ]\n",
    ")"
   ]
  },
  {
   "cell_type": "code",
   "execution_count": 20,
   "metadata": {},
   "outputs": [
    {
     "output_type": "error",
     "ename": "ClientError",
     "evalue": "An error occurred (400) when calling the UpdateDashboard operation: ",
     "traceback": [
      "\u001b[0;31m---------------------------------------------------------------------------\u001b[0m",
      "\u001b[0;31mClientError\u001b[0m                               Traceback (most recent call last)",
      "\u001b[0;32m<ipython-input-20-261d50f06b92>\u001b[0m in \u001b[0;36m<module>\u001b[0;34m\u001b[0m\n\u001b[0;32m----> 1\u001b[0;31m qs.update_dashboard(\n\u001b[0m\u001b[1;32m      2\u001b[0m     \u001b[0mAwsAccountId\u001b[0m\u001b[0;34m=\u001b[0m\u001b[0mAWS_ACCOUNT_ID\u001b[0m\u001b[0;34m,\u001b[0m\u001b[0;34m\u001b[0m\u001b[0;34m\u001b[0m\u001b[0m\n\u001b[1;32m      3\u001b[0m     \u001b[0mDashboardId\u001b[0m\u001b[0;34m=\u001b[0m\u001b[0;34m'arn:aws:quicksight:eu-west-1:714290530475:dashboard/this_is_new_dashboard_id'\u001b[0m\u001b[0;34m,\u001b[0m\u001b[0;34m\u001b[0m\u001b[0;34m\u001b[0m\u001b[0m\n\u001b[1;32m      4\u001b[0m     \u001b[0mName\u001b[0m\u001b[0;34m=\u001b[0m\u001b[0;34m'this_is_new_dashboard_name'\u001b[0m\u001b[0;34m,\u001b[0m\u001b[0;34m\u001b[0m\u001b[0;34m\u001b[0m\u001b[0m\n\u001b[1;32m      5\u001b[0m     SourceEntity={\n",
      "\u001b[0;32m~/opt/anaconda3/lib/python3.8/site-packages/botocore/client.py\u001b[0m in \u001b[0;36m_api_call\u001b[0;34m(self, *args, **kwargs)\u001b[0m\n\u001b[1;32m    355\u001b[0m                     \"%s() only accepts keyword arguments.\" % py_operation_name)\n\u001b[1;32m    356\u001b[0m             \u001b[0;31m# The \"self\" in this scope is referring to the BaseClient.\u001b[0m\u001b[0;34m\u001b[0m\u001b[0;34m\u001b[0m\u001b[0;34m\u001b[0m\u001b[0m\n\u001b[0;32m--> 357\u001b[0;31m             \u001b[0;32mreturn\u001b[0m \u001b[0mself\u001b[0m\u001b[0;34m.\u001b[0m\u001b[0m_make_api_call\u001b[0m\u001b[0;34m(\u001b[0m\u001b[0moperation_name\u001b[0m\u001b[0;34m,\u001b[0m \u001b[0mkwargs\u001b[0m\u001b[0;34m)\u001b[0m\u001b[0;34m\u001b[0m\u001b[0;34m\u001b[0m\u001b[0m\n\u001b[0m\u001b[1;32m    358\u001b[0m \u001b[0;34m\u001b[0m\u001b[0m\n\u001b[1;32m    359\u001b[0m         \u001b[0m_api_call\u001b[0m\u001b[0;34m.\u001b[0m\u001b[0m__name__\u001b[0m \u001b[0;34m=\u001b[0m \u001b[0mstr\u001b[0m\u001b[0;34m(\u001b[0m\u001b[0mpy_operation_name\u001b[0m\u001b[0;34m)\u001b[0m\u001b[0;34m\u001b[0m\u001b[0;34m\u001b[0m\u001b[0m\n",
      "\u001b[0;32m~/opt/anaconda3/lib/python3.8/site-packages/botocore/client.py\u001b[0m in \u001b[0;36m_make_api_call\u001b[0;34m(self, operation_name, api_params)\u001b[0m\n\u001b[1;32m    674\u001b[0m             \u001b[0merror_code\u001b[0m \u001b[0;34m=\u001b[0m \u001b[0mparsed_response\u001b[0m\u001b[0;34m.\u001b[0m\u001b[0mget\u001b[0m\u001b[0;34m(\u001b[0m\u001b[0;34m\"Error\"\u001b[0m\u001b[0;34m,\u001b[0m \u001b[0;34m{\u001b[0m\u001b[0;34m}\u001b[0m\u001b[0;34m)\u001b[0m\u001b[0;34m.\u001b[0m\u001b[0mget\u001b[0m\u001b[0;34m(\u001b[0m\u001b[0;34m\"Code\"\u001b[0m\u001b[0;34m)\u001b[0m\u001b[0;34m\u001b[0m\u001b[0;34m\u001b[0m\u001b[0m\n\u001b[1;32m    675\u001b[0m             \u001b[0merror_class\u001b[0m \u001b[0;34m=\u001b[0m \u001b[0mself\u001b[0m\u001b[0;34m.\u001b[0m\u001b[0mexceptions\u001b[0m\u001b[0;34m.\u001b[0m\u001b[0mfrom_code\u001b[0m\u001b[0;34m(\u001b[0m\u001b[0merror_code\u001b[0m\u001b[0;34m)\u001b[0m\u001b[0;34m\u001b[0m\u001b[0;34m\u001b[0m\u001b[0m\n\u001b[0;32m--> 676\u001b[0;31m             \u001b[0;32mraise\u001b[0m \u001b[0merror_class\u001b[0m\u001b[0;34m(\u001b[0m\u001b[0mparsed_response\u001b[0m\u001b[0;34m,\u001b[0m \u001b[0moperation_name\u001b[0m\u001b[0;34m)\u001b[0m\u001b[0;34m\u001b[0m\u001b[0;34m\u001b[0m\u001b[0m\n\u001b[0m\u001b[1;32m    677\u001b[0m         \u001b[0;32melse\u001b[0m\u001b[0;34m:\u001b[0m\u001b[0;34m\u001b[0m\u001b[0;34m\u001b[0m\u001b[0m\n\u001b[1;32m    678\u001b[0m             \u001b[0;32mreturn\u001b[0m \u001b[0mparsed_response\u001b[0m\u001b[0;34m\u001b[0m\u001b[0;34m\u001b[0m\u001b[0m\n",
      "\u001b[0;31mClientError\u001b[0m: An error occurred (400) when calling the UpdateDashboard operation: "
     ]
    }
   ],
   "source": [
    "qs.update_dashboard(\n",
    "    AwsAccountId=AWS_ACCOUNT_ID,\n",
    "    DashboardId='arn:aws:quicksight:eu-west-1:714290530475:dashboard/this_is_new_dashboard_id',\n",
    "    Name='this_is_new_dashboard_name',\n",
    "    SourceEntity={\n",
    "        'SourceTemplate':{\n",
    "            'Arn':'arn:aws:quicksight:eu-west-1:714290530475:template/this_is_new_template_id_1',\n",
    "            'DataSetReferences':[\n",
    "                {\n",
    "                    'DataSetPlaceholder':'qs_this_is_new_dataset_name',\n",
    "                    'DataSetArn':'arn:aws:quicksight:eu-west-1:714290530475:dataset/qs_this_is_new_dataset_id'\n",
    "                }\n",
    "            ]\n",
    "        }\n",
    "    }\n",
    ")"
   ]
  },
  {
   "cell_type": "code",
   "execution_count": null,
   "metadata": {},
   "outputs": [],
   "source": []
  }
 ],
 "metadata": {
  "kernelspec": {
   "display_name": "Python 3",
   "language": "python",
   "name": "python3"
  },
  "language_info": {
   "codemirror_mode": {
    "name": "ipython",
    "version": 3
   },
   "file_extension": ".py",
   "mimetype": "text/x-python",
   "name": "python",
   "nbconvert_exporter": "python",
   "pygments_lexer": "ipython3",
   "version": "3.8.3-final"
  }
 },
 "nbformat": 4,
 "nbformat_minor": 4
}