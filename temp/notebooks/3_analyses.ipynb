{
 "cells": [
  {
   "cell_type": "code",
   "execution_count": 1,
   "metadata": {},
   "outputs": [],
   "source": [
    "import boto3\n",
    "import os\n",
    "import pandas as pd"
   ]
  },
  {
   "cell_type": "code",
   "execution_count": 3,
   "metadata": {},
   "outputs": [],
   "source": [
    "ACCESS_KEY = os.getenv('QS_AWS_ACCESS_KEY_ID')\n",
    "SECRET_KEY = os.getenv('QS_AWS_SECRET_ACCESS_KEY')\n",
    "\n",
    "DATABASE_HOST = os.getenv('ENVISO_INSIGHT_DATABASE_HOSTNAME')\n",
    "DATABASE_USER = os.getenv('ENVISO_INSIGHT_DATABASE_USERNAME')\n",
    "DATABASE_PASS = os.getenv('ENVISO_INSIGHT_DATABASE_PASSWORD')\n",
    "DATABASE_NAME = 'postgres'\n",
    "\n",
    "AWS_ACCOUNT_ID = os.getenv('QS_AWS_ACCOUNT_ID')\n"
   ]
  },
  {
   "cell_type": "code",
   "execution_count": 4,
   "metadata": {},
   "outputs": [],
   "source": [
    "qs = boto3.client(\n",
    "    'quicksight',\n",
    "    aws_access_key_id=ACCESS_KEY,\n",
    "    aws_secret_access_key=SECRET_KEY,\n",
    "    region_name = 'eu-west-1'\n",
    ")"
   ]
  },
  {
   "cell_type": "code",
   "execution_count": 5,
   "metadata": {},
   "outputs": [
    {
     "output_type": "execute_result",
     "data": {
      "text/plain": [
       "{'ResponseMetadata': {'RequestId': '3f44832c-1868-4a68-afd5-ce230a39a2b9',\n",
       "  'HTTPStatusCode': 200,\n",
       "  'HTTPHeaders': {'date': 'Tue, 29 Dec 2020 01:18:16 GMT',\n",
       "   'content-type': 'application/json',\n",
       "   'content-length': '3675',\n",
       "   'connection': 'keep-alive',\n",
       "   'x-amzn-requestid': '3f44832c-1868-4a68-afd5-ce230a39a2b9'},\n",
       "  'RetryAttempts': 0},\n",
       " 'Status': 200,\n",
       " 'AnalysisSummaryList': [{'Arn': 'arn:aws:quicksight:eu-west-1:714290530475:analysis/10e2cc36-37fd-4920-a577-12c4f20633f2',\n",
       "   'AnalysisId': '10e2cc36-37fd-4920-a577-12c4f20633f2',\n",
       "   'Name': 'qs_this_is_new_dataset_name_analysis_manual',\n",
       "   'Status': 'CREATION_SUCCESSFUL',\n",
       "   'CreatedTime': datetime.datetime(2020, 12, 29, 1, 17, 16, 473000, tzinfo=tzlocal()),\n",
       "   'LastUpdatedTime': datetime.datetime(2020, 12, 29, 1, 17, 35, 414000, tzinfo=tzlocal())},\n",
       "  {'Arn': 'arn:aws:quicksight:eu-west-1:714290530475:analysis/12d6e534-7ba7-4de5-9063-df0e08a50cab',\n",
       "   'AnalysisId': '12d6e534-7ba7-4de5-9063-df0e08a50cab',\n",
       "   'Name': 'Business Review analysis',\n",
       "   'Status': 'DELETED',\n",
       "   'CreatedTime': datetime.datetime(2020, 12, 25, 13, 46, 47, 885000, tzinfo=tzlocal()),\n",
       "   'LastUpdatedTime': datetime.datetime(2020, 12, 25, 13, 52, 10, 88000, tzinfo=tzlocal())},\n",
       "  {'Arn': 'arn:aws:quicksight:eu-west-1:714290530475:analysis/14ea79ee-039d-401c-b92d-a2434b61d378',\n",
       "   'AnalysisId': '14ea79ee-039d-401c-b92d-a2434b61d378',\n",
       "   'Name': 'Sales Pipeline analysis',\n",
       "   'Status': 'DELETED',\n",
       "   'CreatedTime': datetime.datetime(2020, 12, 23, 23, 20, 15, 791000, tzinfo=tzlocal()),\n",
       "   'LastUpdatedTime': datetime.datetime(2020, 12, 23, 23, 20, 42, 998000, tzinfo=tzlocal())},\n",
       "  {'Arn': 'arn:aws:quicksight:eu-west-1:714290530475:analysis/62e989e9-9b8a-416d-bb58-703f0a86e881',\n",
       "   'AnalysisId': '62e989e9-9b8a-416d-bb58-703f0a86e881',\n",
       "   'Name': 'Web and Social Media Analytics analysis',\n",
       "   'Status': 'DELETED',\n",
       "   'CreatedTime': datetime.datetime(2020, 12, 23, 23, 20, 15, 974000, tzinfo=tzlocal()),\n",
       "   'LastUpdatedTime': datetime.datetime(2020, 12, 23, 23, 20, 26, 255000, tzinfo=tzlocal())},\n",
       "  {'Arn': 'arn:aws:quicksight:eu-west-1:714290530475:analysis/78dd2f51-bf89-4150-b4a9-cabdb1a72c2f',\n",
       "   'AnalysisId': '78dd2f51-bf89-4150-b4a9-cabdb1a72c2f',\n",
       "   'Name': 'People Overview analysis',\n",
       "   'Status': 'DELETED',\n",
       "   'CreatedTime': datetime.datetime(2020, 12, 25, 13, 46, 47, 923000, tzinfo=tzlocal()),\n",
       "   'LastUpdatedTime': datetime.datetime(2020, 12, 25, 13, 52, 2, 338000, tzinfo=tzlocal())},\n",
       "  {'Arn': 'arn:aws:quicksight:eu-west-1:714290530475:analysis/8ac29f77-3f10-4769-b0aa-4d69c02e3846',\n",
       "   'AnalysisId': '8ac29f77-3f10-4769-b0aa-4d69c02e3846',\n",
       "   'Name': 'Web and Social Media Analytics analysis',\n",
       "   'Status': 'DELETED',\n",
       "   'CreatedTime': datetime.datetime(2020, 12, 25, 13, 46, 48, 8000, tzinfo=tzlocal()),\n",
       "   'LastUpdatedTime': datetime.datetime(2020, 12, 25, 13, 51, 58, 653000, tzinfo=tzlocal())},\n",
       "  {'Arn': 'arn:aws:quicksight:eu-west-1:714290530475:analysis/a81294cf-f2be-4a80-9c6f-b8252a802d87',\n",
       "   'AnalysisId': 'a81294cf-f2be-4a80-9c6f-b8252a802d87',\n",
       "   'Name': 'Sales Pipeline analysis',\n",
       "   'Status': 'DELETED',\n",
       "   'CreatedTime': datetime.datetime(2020, 12, 25, 13, 46, 47, 891000, tzinfo=tzlocal()),\n",
       "   'LastUpdatedTime': datetime.datetime(2020, 12, 25, 13, 52, 6, 609000, tzinfo=tzlocal())},\n",
       "  {'Arn': 'arn:aws:quicksight:eu-west-1:714290530475:analysis/aced1965-8835-4618-845a-d7c7eb2421a8',\n",
       "   'AnalysisId': 'aced1965-8835-4618-845a-d7c7eb2421a8',\n",
       "   'Name': 'Business Review analysis',\n",
       "   'Status': 'DELETED',\n",
       "   'CreatedTime': datetime.datetime(2020, 12, 23, 23, 20, 15, 857000, tzinfo=tzlocal()),\n",
       "   'LastUpdatedTime': datetime.datetime(2020, 12, 23, 23, 20, 32, 177000, tzinfo=tzlocal())},\n",
       "  {'Arn': 'arn:aws:quicksight:eu-west-1:714290530475:analysis/b6957fe0-0f2a-4d2a-9571-25896d074bda',\n",
       "   'AnalysisId': 'b6957fe0-0f2a-4d2a-9571-25896d074bda',\n",
       "   'Name': 'People Overview analysis',\n",
       "   'Status': 'DELETED',\n",
       "   'CreatedTime': datetime.datetime(2020, 12, 23, 23, 20, 15, 839000, tzinfo=tzlocal()),\n",
       "   'LastUpdatedTime': datetime.datetime(2020, 12, 23, 23, 20, 37, 254000, tzinfo=tzlocal())},\n",
       "  {'Arn': 'arn:aws:quicksight:eu-west-1:714290530475:analysis/cc945770-04f4-430f-ab58-485a18c4b1fe',\n",
       "   'AnalysisId': 'cc945770-04f4-430f-ab58-485a18c4b1fe',\n",
       "   'Name': 'test_analsysis_name',\n",
       "   'Status': 'DELETED',\n",
       "   'CreatedTime': datetime.datetime(2020, 12, 25, 20, 15, 37, 531000, tzinfo=tzlocal()),\n",
       "   'LastUpdatedTime': datetime.datetime(2020, 12, 29, 0, 10, 45, 105000, tzinfo=tzlocal())},\n",
       "  {'Arn': 'arn:aws:quicksight:eu-west-1:714290530475:analysis/d54b10b1-a685-4f8c-8081-50f8877d3e70',\n",
       "   'AnalysisId': 'd54b10b1-a685-4f8c-8081-50f8877d3e70',\n",
       "   'Name': 'qs_this_is_new_analysis_manual',\n",
       "   'Status': 'DELETED',\n",
       "   'CreatedTime': datetime.datetime(2020, 12, 29, 0, 16, 16, 472000, tzinfo=tzlocal()),\n",
       "   'LastUpdatedTime': datetime.datetime(2020, 12, 29, 1, 12, 31, 921000, tzinfo=tzlocal())},\n",
       "  {'Arn': 'arn:aws:quicksight:eu-west-1:714290530475:analysis/eb533938-ba2a-451c-8f67-7e37291cc7d6',\n",
       "   'AnalysisId': 'eb533938-ba2a-451c-8f67-7e37291cc7d6',\n",
       "   'Name': 'USSuperstoreData Analysis',\n",
       "   'Status': 'CREATION_SUCCESSFUL',\n",
       "   'CreatedTime': datetime.datetime(2020, 12, 23, 23, 22, 59, 856000, tzinfo=tzlocal()),\n",
       "   'LastUpdatedTime': datetime.datetime(2020, 12, 25, 15, 1, 39, 884000, tzinfo=tzlocal())},\n",
       "  {'Arn': 'arn:aws:quicksight:eu-west-1:714290530475:analysis/f6eea487-f058-4739-bccc-5a11bd604fb4',\n",
       "   'AnalysisId': 'f6eea487-f058-4739-bccc-5a11bd604fb4',\n",
       "   'Name': 'Business Review analysis',\n",
       "   'Status': 'CREATION_SUCCESSFUL',\n",
       "   'CreatedTime': datetime.datetime(2020, 12, 25, 14, 13, 17, 282000, tzinfo=tzlocal()),\n",
       "   'LastUpdatedTime': datetime.datetime(2020, 12, 25, 14, 13, 34, 927000, tzinfo=tzlocal())}],\n",
       " 'RequestId': '3f44832c-1868-4a68-afd5-ce230a39a2b9'}"
      ]
     },
     "metadata": {},
     "execution_count": 5
    }
   ],
   "source": [
    "qs.list_analyses(\n",
    "    AwsAccountId = AWS_ACCOUNT_ID\n",
    ")"
   ]
  },
  {
   "cell_type": "code",
   "execution_count": 6,
   "metadata": {},
   "outputs": [
    {
     "output_type": "execute_result",
     "data": {
      "text/plain": [
       "{'ResponseMetadata': {'RequestId': '8f8475a3-78d8-40fe-bfb0-535e854548a4',\n",
       "  'HTTPStatusCode': 200,\n",
       "  'HTTPHeaders': {'date': 'Tue, 29 Dec 2020 01:19:39 GMT',\n",
       "   'content-type': 'application/json',\n",
       "   'content-length': '566',\n",
       "   'connection': 'keep-alive',\n",
       "   'x-amzn-requestid': '8f8475a3-78d8-40fe-bfb0-535e854548a4'},\n",
       "  'RetryAttempts': 0},\n",
       " 'Status': 200,\n",
       " 'Analysis': {'AnalysisId': '10e2cc36-37fd-4920-a577-12c4f20633f2',\n",
       "  'Arn': 'arn:aws:quicksight:eu-west-1:714290530475:analysis/10e2cc36-37fd-4920-a577-12c4f20633f2',\n",
       "  'Name': 'qs_this_is_new_dataset_name_analysis_manual',\n",
       "  'Status': 'CREATION_SUCCESSFUL',\n",
       "  'DataSetArns': ['arn:aws:quicksight:eu-west-1:714290530475:dataset/qs_this_is_new_dataset_id'],\n",
       "  'CreatedTime': datetime.datetime(2020, 12, 29, 1, 17, 16, 473000, tzinfo=tzlocal()),\n",
       "  'LastUpdatedTime': datetime.datetime(2020, 12, 29, 1, 17, 35, 414000, tzinfo=tzlocal()),\n",
       "  'Sheets': [{'SheetId': '95791cb5-74f9-4cf8-a69a-00533b65652f',\n",
       "    'Name': 'Sheet 1'}]},\n",
       " 'RequestId': '8f8475a3-78d8-40fe-bfb0-535e854548a4'}"
      ]
     },
     "metadata": {},
     "execution_count": 6
    }
   ],
   "source": [
    "qs.describe_analysis(\n",
    "    AwsAccountId = AWS_ACCOUNT_ID,\n",
    "    AnalysisId = '10e2cc36-37fd-4920-a577-12c4f20633f2'\n",
    ")"
   ]
  }
 ],
 "metadata": {
  "kernelspec": {
   "display_name": "Python 3",
   "language": "python",
   "name": "python3"
  },
  "language_info": {
   "codemirror_mode": {
    "name": "ipython",
    "version": 3
   },
   "file_extension": ".py",
   "mimetype": "text/x-python",
   "name": "python",
   "nbconvert_exporter": "python",
   "pygments_lexer": "ipython3",
   "version": "3.8.3-final"
  }
 },
 "nbformat": 4,
 "nbformat_minor": 4
}