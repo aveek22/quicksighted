{
 "cells": [
  {
   "cell_type": "code",
   "execution_count": 1,
   "metadata": {},
   "outputs": [],
   "source": [
    "import boto3\n",
    "import os\n",
    "import pandas as pd"
   ]
  },
  {
   "cell_type": "code",
   "execution_count": 2,
   "metadata": {},
   "outputs": [],
   "source": [
    "ACCESS_KEY = os.getenv('QS_AWS_ACCESS_KEY_ID')\n",
    "SECRET_KEY = os.getenv('QS_AWS_SECRET_ACCESS_KEY')\n",
    "\n",
    "DATABASE_HOST = os.getenv('ENVISO_INSIGHT_DATABASE_HOSTNAME')\n",
    "DATABASE_USER = os.getenv('ENVISO_INSIGHT_DATABASE_USERNAME')\n",
    "DATABASE_PASS = os.getenv('ENVISO_INSIGHT_DATABASE_PASSWORD')\n",
    "DATABASE_NAME = 'postgres'\n",
    "\n",
    "AWS_ACCOUNT_ID = os.getenv('QS_AWS_ACCOUNT_ID')\n"
   ]
  },
  {
   "cell_type": "code",
   "execution_count": 3,
   "metadata": {},
   "outputs": [],
   "source": [
    "qs = boto3.client(\n",
    "    'quicksight',\n",
    "    aws_access_key_id=ACCESS_KEY,\n",
    "    aws_secret_access_key=SECRET_KEY,\n",
    "    region_name = 'eu-west-1'\n",
    ")"
   ]
  },
  {
   "cell_type": "code",
   "execution_count": 13,
   "metadata": {},
   "outputs": [
    {
     "output_type": "execute_result",
     "data": {
      "text/plain": [
       "{'ResponseMetadata': {'RequestId': '3ef2040b-1d33-4eb7-a13e-a2936d7d0c19',\n",
       "  'HTTPStatusCode': 202,\n",
       "  'HTTPHeaders': {'date': 'Thu, 07 Jan 2021 23:07:33 GMT',\n",
       "   'content-type': 'application/json',\n",
       "   'content-length': '326',\n",
       "   'connection': 'keep-alive',\n",
       "   'x-amzn-requestid': '3ef2040b-1d33-4eb7-a13e-a2936d7d0c19'},\n",
       "  'RetryAttempts': 0},\n",
       " 'Status': 202,\n",
       " 'Arn': 'arn:aws:quicksight:eu-west-1:714290530475:dashboard/this_is_new_dashboard_id_1',\n",
       " 'VersionArn': 'arn:aws:quicksight:eu-west-1:714290530475:dashboard/this_is_new_dashboard_id_1/version/1',\n",
       " 'DashboardId': 'this_is_new_dashboard_id_1',\n",
       " 'CreationStatus': 'CREATION_IN_PROGRESS',\n",
       " 'RequestId': '3ef2040b-1d33-4eb7-a13e-a2936d7d0c19'}"
      ]
     },
     "metadata": {},
     "execution_count": 13
    }
   ],
   "source": [
    "qs.create_dashboard(\n",
    "    AwsAccountId = AWS_ACCOUNT_ID,\n",
    "    DashboardId = 'this_is_new_dashboard_id_1',\n",
    "    Name = 'this_is_new_dashboard_name_1',\n",
    "    SourceEntity={\n",
    "        'SourceTemplate':{\n",
    "            'Arn':'arn:aws:quicksight:eu-west-1:714290530475:template/this_is_new_template_id',\n",
    "            'DataSetReferences':[\n",
    "                {\n",
    "                    'DataSetPlaceholder':'qs_this_is_new_dataset_name',\n",
    "                    'DataSetArn':'arn:aws:quicksight:eu-west-1:714290530475:dataset/qs_this_is_new_dataset_id'\n",
    "                }\n",
    "            ]\n",
    "        }\n",
    "    },\n",
    "    VersionDescription='Version-0',\n",
    "    Permissions=[\n",
    "        {\n",
    "            'Principal':'arn:aws:quicksight:eu-west-1:714290530475:user/default/714290530475',\n",
    "            'Actions':[\n",
    "                'quicksight:DescribeDashboard',\n",
    "                'quicksight:ListDashboardVersions',\n",
    "                'quicksight:QueryDashboard',\n",
    "                'quicksight:DescribeDashboardPermissions',\n",
    "                'quicksight:UpdateDashboardPermissions',\n",
    "                'quicksight:DeleteDashboard',\n",
    "                'quicksight:UpdateDashboard',\n",
    "                'quicksight:UpdateDashboardPublishedVersion'\n",
    "            ]\n",
    "        }\n",
    "    ]\n",
    ")"
   ]
  },
  {
   "cell_type": "code",
   "execution_count": 9,
   "metadata": {},
   "outputs": [
    {
     "output_type": "execute_result",
     "data": {
      "text/plain": [
       "{'ResponseMetadata': {'RequestId': '97e4f3d7-e0c8-49ce-8d1f-2a9998899bed',\n",
       "  'HTTPStatusCode': 200,\n",
       "  'HTTPHeaders': {'date': 'Thu, 07 Jan 2021 23:01:55 GMT',\n",
       "   'content-type': 'application/json',\n",
       "   'content-length': '388',\n",
       "   'connection': 'keep-alive',\n",
       "   'x-amzn-requestid': '97e4f3d7-e0c8-49ce-8d1f-2a9998899bed'},\n",
       "  'RetryAttempts': 0},\n",
       " 'Status': 200,\n",
       " 'DashboardSummaryList': [{'Arn': 'arn:aws:quicksight:eu-west-1:714290530475:dashboard/this_is_new_dashboard_id',\n",
       "   'DashboardId': 'this_is_new_dashboard_id',\n",
       "   'Name': 'this_is_new_dashboard_name',\n",
       "   'CreatedTime': datetime.datetime(2021, 1, 7, 22, 56, 30, 292000, tzinfo=tzlocal()),\n",
       "   'LastUpdatedTime': datetime.datetime(2021, 1, 7, 22, 56, 30, 387000, tzinfo=tzlocal()),\n",
       "   'PublishedVersionNumber': 1,\n",
       "   'LastPublishedTime': datetime.datetime(2021, 1, 7, 22, 56, 30, 292000, tzinfo=tzlocal())}],\n",
       " 'RequestId': '97e4f3d7-e0c8-49ce-8d1f-2a9998899bed'}"
      ]
     },
     "metadata": {},
     "execution_count": 9
    }
   ],
   "source": [
    "qs.list_dashboards(\n",
    "    AwsAccountId=AWS_ACCOUNT_ID\n",
    ")"
   ]
  },
  {
   "cell_type": "code",
   "execution_count": 19,
   "metadata": {},
   "outputs": [
    {
     "output_type": "execute_result",
     "data": {
      "text/plain": [
       "{'ResponseMetadata': {'RequestId': '583ccc5a-7ea9-437b-af9d-fdad37ed0b7e',\n",
       "  'HTTPStatusCode': 200,\n",
       "  'HTTPHeaders': {'date': 'Thu, 07 Jan 2021 23:21:48 GMT',\n",
       "   'content-type': 'application/json',\n",
       "   'content-length': '766',\n",
       "   'connection': 'keep-alive',\n",
       "   'x-amzn-requestid': '583ccc5a-7ea9-437b-af9d-fdad37ed0b7e'},\n",
       "  'RetryAttempts': 0},\n",
       " 'Status': 200,\n",
       " 'Dashboard': {'DashboardId': 'this_is_new_dashboard_id',\n",
       "  'Arn': 'arn:aws:quicksight:eu-west-1:714290530475:dashboard/this_is_new_dashboard_id',\n",
       "  'Name': 'this_is_new_dashboard_name',\n",
       "  'Version': {'CreatedTime': datetime.datetime(2021, 1, 7, 22, 56, 30, 387000, tzinfo=tzlocal()),\n",
       "   'Errors': [],\n",
       "   'VersionNumber': 1,\n",
       "   'Status': 'CREATION_SUCCESSFUL',\n",
       "   'SourceEntityArn': 'arn:aws:quicksight:eu-west-1:714290530475:template/this_is_new_template_id/version/1',\n",
       "   'DataSetArns': ['arn:aws:quicksight:eu-west-1:714290530475:dataset/qs_this_is_new_dataset_id'],\n",
       "   'Description': 'Version-0'},\n",
       "  'CreatedTime': datetime.datetime(2021, 1, 7, 22, 56, 30, 292000, tzinfo=tzlocal()),\n",
       "  'LastPublishedTime': datetime.datetime(2021, 1, 7, 22, 56, 30, 292000, tzinfo=tzlocal()),\n",
       "  'LastUpdatedTime': datetime.datetime(2021, 1, 7, 22, 56, 30, 387000, tzinfo=tzlocal())},\n",
       " 'RequestId': '583ccc5a-7ea9-437b-af9d-fdad37ed0b7e'}"
      ]
     },
     "metadata": {},
     "execution_count": 19
    }
   ],
   "source": [
    "qs.describe_dashboard(\n",
    "    AwsAccountId=AWS_ACCOUNT_ID,\n",
    "    DashboardId='this_is_new_dashboard_id'\n",
    ")"
   ]
  },
  {
   "cell_type": "code",
   "execution_count": 7,
   "metadata": {},
   "outputs": [
    {
     "output_type": "execute_result",
     "data": {
      "text/plain": [
       "{'ResponseMetadata': {'RequestId': '93917c04-8c10-4b29-8a76-bae6d241f208',\n",
       "  'HTTPStatusCode': 202,\n",
       "  'HTTPHeaders': {'date': 'Tue, 29 Dec 2020 01:31:45 GMT',\n",
       "   'content-type': 'application/json',\n",
       "   'content-length': '326',\n",
       "   'connection': 'keep-alive',\n",
       "   'x-amzn-requestid': '93917c04-8c10-4b29-8a76-bae6d241f208'},\n",
       "  'RetryAttempts': 0},\n",
       " 'Status': 202,\n",
       " 'Arn': 'arn:aws:quicksight:eu-west-1:714290530475:dashboard/this_is_new_dashboard_id_1',\n",
       " 'VersionArn': 'arn:aws:quicksight:eu-west-1:714290530475:dashboard/this_is_new_dashboard_id_1/version/1',\n",
       " 'DashboardId': 'this_is_new_dashboard_id_1',\n",
       " 'CreationStatus': 'CREATION_IN_PROGRESS',\n",
       " 'RequestId': '93917c04-8c10-4b29-8a76-bae6d241f208'}"
      ]
     },
     "metadata": {},
     "execution_count": 7
    }
   ],
   "source": [
    "qs.create_dashboard(\n",
    "    AwsAccountId = AWS_ACCOUNT_ID,\n",
    "    DashboardId = 'this_is_new_dashboard_id_1',\n",
    "    Name = 'this_is_new_dashboard_name_1',\n",
    "    SourceEntity={\n",
    "        'SourceTemplate':{\n",
    "            'Arn':'arn:aws:quicksight:eu-west-1:714290530475:template/this_is_new_template_id_1',\n",
    "            'DataSetReferences':[\n",
    "                {\n",
    "                    'DataSetPlaceholder':'qs_this_is_new_dataset_name',\n",
    "                    'DataSetArn':'arn:aws:quicksight:eu-west-1:714290530475:dataset/qs_this_is_new_dataset_id'\n",
    "                }\n",
    "            ]\n",
    "        }\n",
    "    },\n",
    "    VersionDescription='Version-0',\n",
    "    Permissions=[\n",
    "        {\n",
    "            'Principal':'arn:aws:quicksight:eu-west-1:714290530475:user/default/714290530475',\n",
    "            'Actions':[\n",
    "                'quicksight:DescribeDashboard',\n",
    "                'quicksight:ListDashboardVersions',\n",
    "                'quicksight:QueryDashboard',\n",
    "                'quicksight:DescribeDashboardPermissions',\n",
    "                'quicksight:UpdateDashboardPermissions',\n",
    "                'quicksight:DeleteDashboard',\n",
    "                'quicksight:UpdateDashboard',\n",
    "                'quicksight:UpdateDashboardPublishedVersion'\n",
    "            ]\n",
    "        }\n",
    "    ]\n",
    ")"
   ]
  },
  {
   "cell_type": "code",
   "execution_count": 4,
   "metadata": {},
   "outputs": [
    {
     "output_type": "error",
     "ename": "InvalidParameterValueException",
     "evalue": "An error occurred (InvalidParameterValueException) when calling the UpdateDashboard operation: Given placeholders [qs_this_is_new_dataset_name_1] are not part of template",
     "traceback": [
      "\u001b[0;31m---------------------------------------------------------------------------\u001b[0m",
      "\u001b[0;31mInvalidParameterValueException\u001b[0m            Traceback (most recent call last)",
      "\u001b[0;32m<ipython-input-4-eb98c861ea72>\u001b[0m in \u001b[0;36m<module>\u001b[0;34m\u001b[0m\n\u001b[1;32m      9\u001b[0m                 {\n\u001b[1;32m     10\u001b[0m                     \u001b[0;34m'DataSetPlaceholder'\u001b[0m\u001b[0;34m:\u001b[0m\u001b[0;34m'qs_this_is_new_dataset_name_1'\u001b[0m\u001b[0;34m,\u001b[0m\u001b[0;34m\u001b[0m\u001b[0;34m\u001b[0m\u001b[0m\n\u001b[0;32m---> 11\u001b[0;31m                     \u001b[0;34m'DataSetArn'\u001b[0m\u001b[0;34m:\u001b[0m\u001b[0;34m'arn:aws:quicksight:eu-west-1:714290530475:dataset/qs_this_is_new_dataset_id_1'\u001b[0m\u001b[0;34m\u001b[0m\u001b[0;34m\u001b[0m\u001b[0m\n\u001b[0m\u001b[1;32m     12\u001b[0m                 }\n\u001b[1;32m     13\u001b[0m             ]\n",
      "\u001b[0;32m/Library/Frameworks/Python.framework/Versions/3.7/lib/python3.7/site-packages/botocore/client.py\u001b[0m in \u001b[0;36m_api_call\u001b[0;34m(self, *args, **kwargs)\u001b[0m\n\u001b[1;32m    314\u001b[0m                     \"%s() only accepts keyword arguments.\" % py_operation_name)\n\u001b[1;32m    315\u001b[0m             \u001b[0;31m# The \"self\" in this scope is referring to the BaseClient.\u001b[0m\u001b[0;34m\u001b[0m\u001b[0;34m\u001b[0m\u001b[0;34m\u001b[0m\u001b[0m\n\u001b[0;32m--> 316\u001b[0;31m             \u001b[0;32mreturn\u001b[0m \u001b[0mself\u001b[0m\u001b[0;34m.\u001b[0m\u001b[0m_make_api_call\u001b[0m\u001b[0;34m(\u001b[0m\u001b[0moperation_name\u001b[0m\u001b[0;34m,\u001b[0m \u001b[0mkwargs\u001b[0m\u001b[0;34m)\u001b[0m\u001b[0;34m\u001b[0m\u001b[0;34m\u001b[0m\u001b[0m\n\u001b[0m\u001b[1;32m    317\u001b[0m \u001b[0;34m\u001b[0m\u001b[0m\n\u001b[1;32m    318\u001b[0m         \u001b[0m_api_call\u001b[0m\u001b[0;34m.\u001b[0m\u001b[0m__name__\u001b[0m \u001b[0;34m=\u001b[0m \u001b[0mstr\u001b[0m\u001b[0;34m(\u001b[0m\u001b[0mpy_operation_name\u001b[0m\u001b[0;34m)\u001b[0m\u001b[0;34m\u001b[0m\u001b[0;34m\u001b[0m\u001b[0m\n",
      "\u001b[0;32m/Library/Frameworks/Python.framework/Versions/3.7/lib/python3.7/site-packages/botocore/client.py\u001b[0m in \u001b[0;36m_make_api_call\u001b[0;34m(self, operation_name, api_params)\u001b[0m\n\u001b[1;32m    633\u001b[0m             \u001b[0merror_code\u001b[0m \u001b[0;34m=\u001b[0m \u001b[0mparsed_response\u001b[0m\u001b[0;34m.\u001b[0m\u001b[0mget\u001b[0m\u001b[0;34m(\u001b[0m\u001b[0;34m\"Error\"\u001b[0m\u001b[0;34m,\u001b[0m \u001b[0;34m{\u001b[0m\u001b[0;34m}\u001b[0m\u001b[0;34m)\u001b[0m\u001b[0;34m.\u001b[0m\u001b[0mget\u001b[0m\u001b[0;34m(\u001b[0m\u001b[0;34m\"Code\"\u001b[0m\u001b[0;34m)\u001b[0m\u001b[0;34m\u001b[0m\u001b[0;34m\u001b[0m\u001b[0m\n\u001b[1;32m    634\u001b[0m             \u001b[0merror_class\u001b[0m \u001b[0;34m=\u001b[0m \u001b[0mself\u001b[0m\u001b[0;34m.\u001b[0m\u001b[0mexceptions\u001b[0m\u001b[0;34m.\u001b[0m\u001b[0mfrom_code\u001b[0m\u001b[0;34m(\u001b[0m\u001b[0merror_code\u001b[0m\u001b[0;34m)\u001b[0m\u001b[0;34m\u001b[0m\u001b[0;34m\u001b[0m\u001b[0m\n\u001b[0;32m--> 635\u001b[0;31m             \u001b[0;32mraise\u001b[0m \u001b[0merror_class\u001b[0m\u001b[0;34m(\u001b[0m\u001b[0mparsed_response\u001b[0m\u001b[0;34m,\u001b[0m \u001b[0moperation_name\u001b[0m\u001b[0;34m)\u001b[0m\u001b[0;34m\u001b[0m\u001b[0;34m\u001b[0m\u001b[0m\n\u001b[0m\u001b[1;32m    636\u001b[0m         \u001b[0;32melse\u001b[0m\u001b[0;34m:\u001b[0m\u001b[0;34m\u001b[0m\u001b[0;34m\u001b[0m\u001b[0m\n\u001b[1;32m    637\u001b[0m             \u001b[0;32mreturn\u001b[0m \u001b[0mparsed_response\u001b[0m\u001b[0;34m\u001b[0m\u001b[0;34m\u001b[0m\u001b[0m\n",
      "\u001b[0;31mInvalidParameterValueException\u001b[0m: An error occurred (InvalidParameterValueException) when calling the UpdateDashboard operation: Given placeholders [qs_this_is_new_dataset_name_1] are not part of template"
     ]
    }
   ],
   "source": [
    "qs.update_dashboard(\n",
    "    AwsAccountId=AWS_ACCOUNT_ID,\n",
    "    DashboardId='this_is_new_dashboard_id',\n",
    "    Name='this_is_new_dashboard_name',\n",
    "    SourceEntity={\n",
    "        'SourceTemplate':{\n",
    "            'Arn':'arn:aws:quicksight:eu-west-1:714290530475:template/this_is_new_template_id/version/2',\n",
    "            'DataSetReferences':[\n",
    "                {\n",
    "                    'DataSetPlaceholder':'qs_this_is_new_dataset_name_1',\n",
    "                    'DataSetArn':'arn:aws:quicksight:eu-west-1:714290530475:dataset/qs_this_is_new_dataset_id_1'\n",
    "                }\n",
    "            ]\n",
    "        }\n",
    "    }\n",
    ")"
   ]
  },
  {
   "cell_type": "code",
   "execution_count": null,
   "metadata": {},
   "outputs": [],
   "source": []
  }
 ],
 "metadata": {
  "kernelspec": {
   "name": "python3",
   "display_name": "Python 3.7.3 64-bit",
   "metadata": {
    "interpreter": {
     "hash": "e534e48711db4d1e1c48977d0d14ff85b1f16d41bcc4fdfd88268a329b3c9d66"
    }
   }
  },
  "language_info": {
   "codemirror_mode": {
    "name": "ipython",
    "version": 3
   },
   "file_extension": ".py",
   "mimetype": "text/x-python",
   "name": "python",
   "nbconvert_exporter": "python",
   "pygments_lexer": "ipython3",
   "version": "3.7.3-final"
  }
 },
 "nbformat": 4,
 "nbformat_minor": 4
}