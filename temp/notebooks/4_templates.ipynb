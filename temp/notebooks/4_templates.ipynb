{
 "cells": [
  {
   "cell_type": "code",
   "execution_count": 1,
   "metadata": {},
   "outputs": [],
   "source": [
    "import boto3\n",
    "import os\n",
    "import pandas as pd"
   ]
  },
  {
   "cell_type": "code",
   "execution_count": 2,
   "metadata": {},
   "outputs": [],
   "source": [
    "ACCESS_KEY = os.getenv('QS_AWS_ACCESS_KEY_ID')\n",
    "SECRET_KEY = os.getenv('QS_AWS_SECRET_ACCESS_KEY')\n",
    "\n",
    "DATABASE_HOST = os.getenv('ENVISO_INSIGHT_DATABASE_HOSTNAME')\n",
    "DATABASE_USER = os.getenv('ENVISO_INSIGHT_DATABASE_USERNAME')\n",
    "DATABASE_PASS = os.getenv('ENVISO_INSIGHT_DATABASE_PASSWORD')\n",
    "DATABASE_NAME = 'postgres'\n",
    "\n",
    "AWS_ACCOUNT_ID = os.getenv('QS_AWS_ACCOUNT_ID')\n"
   ]
  },
  {
   "cell_type": "code",
   "execution_count": 3,
   "metadata": {},
   "outputs": [],
   "source": [
    "qs = boto3.client(\n",
    "    'quicksight',\n",
    "    aws_access_key_id=ACCESS_KEY,\n",
    "    aws_secret_access_key=SECRET_KEY,\n",
    "    region_name = 'eu-west-1'\n",
    ")"
   ]
  },
  {
   "cell_type": "code",
   "execution_count": 4,
   "metadata": {},
   "outputs": [
    {
     "output_type": "execute_result",
     "data": {
      "text/plain": [
       "{'ResponseMetadata': {'RequestId': '50729c49-11aa-4d2b-9fc1-74efa29fa2f2',\n",
       "  'HTTPStatusCode': 202,\n",
       "  'HTTPHeaders': {'date': 'Thu, 07 Jan 2021 22:55:28 GMT',\n",
       "   'content-type': 'application/json',\n",
       "   'content-length': '314',\n",
       "   'connection': 'keep-alive',\n",
       "   'x-amzn-requestid': '50729c49-11aa-4d2b-9fc1-74efa29fa2f2'},\n",
       "  'RetryAttempts': 0},\n",
       " 'Status': 202,\n",
       " 'Arn': 'arn:aws:quicksight:eu-west-1:714290530475:template/this_is_new_template_id',\n",
       " 'VersionArn': 'arn:aws:quicksight:eu-west-1:714290530475:template/this_is_new_template_id/version/1',\n",
       " 'TemplateId': 'this_is_new_template_id',\n",
       " 'CreationStatus': 'CREATION_IN_PROGRESS',\n",
       " 'RequestId': '50729c49-11aa-4d2b-9fc1-74efa29fa2f2'}"
      ]
     },
     "metadata": {},
     "execution_count": 4
    }
   ],
   "source": [
    "qs.create_template(\n",
    "    AwsAccountId=AWS_ACCOUNT_ID,\n",
    "    TemplateId='this_is_new_template_id',\n",
    "    Name='this_is_new_template_name',\n",
    "    Permissions=[\n",
    "        {\n",
    "            'Principal': 'arn:aws:quicksight:eu-west-1:714290530475:user/default/714290530475',\n",
    "            'Actions': [\n",
    "                'quicksight:DeleteTemplate',\n",
    "                'quicksight:DescribeTemplate',\n",
    "                'quicksight:DescribeTemplatePermissions',\n",
    "                'quicksight:UpdateTemplate',\n",
    "                'quicksight:UpdateTemplatePermissions'\n",
    "            ]\n",
    "        },\n",
    "    ],\n",
    "    SourceEntity={\n",
    "        'SourceAnalysis': {\n",
    "            'Arn': 'arn:aws:quicksight:eu-west-1:714290530475:analysis/b54ca8ce-b2fb-411e-8f2c-50edc5df536d',\n",
    "            'DataSetReferences': [\n",
    "                {\n",
    "                    'DataSetPlaceholder': 'qs_this_is_new_dataset_name',\n",
    "                    'DataSetArn': 'arn:aws:quicksight:eu-west-1:714290530475:dataset/qs_this_is_new_dataset_id'\n",
    "                },\n",
    "            ]\n",
    "        }\n",
    "    },\n",
    "    VersionDescription='1.0.0'\n",
    ")"
   ]
  },
  {
   "cell_type": "code",
   "execution_count": 6,
   "metadata": {},
   "outputs": [
    {
     "output_type": "execute_result",
     "data": {
      "text/plain": [
       "{'ResponseMetadata': {'RequestId': '6e0ad220-f4c3-40dd-8b05-5593903397f0',\n",
       "  'HTTPStatusCode': 200,\n",
       "  'HTTPHeaders': {'date': 'Thu, 07 Jan 2021 20:07:51 GMT',\n",
       "   'content-type': 'application/json',\n",
       "   'content-length': '174',\n",
       "   'connection': 'keep-alive',\n",
       "   'x-amzn-requestid': '6e0ad220-f4c3-40dd-8b05-5593903397f0'},\n",
       "  'RetryAttempts': 0},\n",
       " 'Status': 200,\n",
       " 'RequestId': '6e0ad220-f4c3-40dd-8b05-5593903397f0',\n",
       " 'Arn': 'arn:aws:quicksight:eu-west-1:714290530475:template/this_is_new_template_id',\n",
       " 'TemplateId': 'this_is_new_template_id'}"
      ]
     },
     "metadata": {},
     "execution_count": 6
    }
   ],
   "source": [
    "qs.delete_template(\n",
    "    AwsAccountId = AWS_ACCOUNT_ID,\n",
    "    TemplateId = 'this_is_new_template_id'\n",
    ")"
   ]
  },
  {
   "cell_type": "code",
   "execution_count": 9,
   "metadata": {},
   "outputs": [
    {
     "output_type": "execute_result",
     "data": {
      "text/plain": [
       "{'ResponseMetadata': {'RequestId': '7e6a701d-ba1c-4488-ac57-dd711413432f',\n",
       "  'HTTPStatusCode': 200,\n",
       "  'HTTPHeaders': {'date': 'Thu, 07 Jan 2021 22:59:51 GMT',\n",
       "   'content-type': 'application/json',\n",
       "   'content-length': '597',\n",
       "   'connection': 'keep-alive',\n",
       "   'x-amzn-requestid': '7e6a701d-ba1c-4488-ac57-dd711413432f'},\n",
       "  'RetryAttempts': 0},\n",
       " 'Status': 200,\n",
       " 'TemplateSummaryList': [{'Arn': 'arn:aws:quicksight:eu-west-1:714290530475:template/this_is_new_template_id',\n",
       "   'TemplateId': 'this_is_new_template_id',\n",
       "   'Name': 'this_is_new_template_name',\n",
       "   'LatestVersionNumber': 1,\n",
       "   'CreatedTime': datetime.datetime(2021, 1, 7, 22, 55, 28, 854000, tzinfo=tzlocal()),\n",
       "   'LastUpdatedTime': datetime.datetime(2021, 1, 7, 22, 55, 28, 854000, tzinfo=tzlocal())},\n",
       "  {'Arn': 'arn:aws:quicksight:eu-west-1:714290530475:template/this_is_new_template_id_1',\n",
       "   'TemplateId': 'this_is_new_template_id_1',\n",
       "   'Name': 'this_is_new_template_name_1',\n",
       "   'LatestVersionNumber': 1,\n",
       "   'CreatedTime': datetime.datetime(2021, 1, 7, 22, 59, 41, 384000, tzinfo=tzlocal()),\n",
       "   'LastUpdatedTime': datetime.datetime(2021, 1, 7, 22, 59, 41, 384000, tzinfo=tzlocal())}],\n",
       " 'RequestId': '7e6a701d-ba1c-4488-ac57-dd711413432f'}"
      ]
     },
     "metadata": {},
     "execution_count": 9
    }
   ],
   "source": [
    "qs.list_templates(\n",
    "    AwsAccountId=AWS_ACCOUNT_ID\n",
    ")"
   ]
  },
  {
   "cell_type": "code",
   "execution_count": 15,
   "metadata": {},
   "outputs": [
    {
     "output_type": "execute_result",
     "data": {
      "text/plain": [
       "{'ResponseMetadata': {'RequestId': 'b62a0993-c63d-4545-b9a3-3afb2dc4597f',\n",
       "  'HTTPStatusCode': 200,\n",
       "  'HTTPHeaders': {'date': 'Thu, 07 Jan 2021 23:20:37 GMT',\n",
       "   'content-type': 'application/json',\n",
       "   'content-length': '846',\n",
       "   'connection': 'keep-alive',\n",
       "   'x-amzn-requestid': 'b62a0993-c63d-4545-b9a3-3afb2dc4597f'},\n",
       "  'RetryAttempts': 0},\n",
       " 'Status': 200,\n",
       " 'Template': {'Arn': 'arn:aws:quicksight:eu-west-1:714290530475:template/this_is_new_template_id',\n",
       "  'Version': {'CreatedTime': datetime.datetime(2021, 1, 7, 23, 5, 21, 857000, tzinfo=tzlocal()),\n",
       "   'VersionNumber': 2,\n",
       "   'Status': 'CREATION_SUCCESSFUL',\n",
       "   'DataSetConfigurations': [{'Placeholder': 'qs_this_is_new_dataset_name',\n",
       "     'DataSetSchema': {'ColumnSchemaList': [{'Name': 'age',\n",
       "        'DataType': 'INTEGER'},\n",
       "       {'Name': 'name', 'DataType': 'STRING'}]},\n",
       "     'ColumnGroupSchemaList': []}],\n",
       "   'SourceEntityArn': 'arn:aws:quicksight:eu-west-1:714290530475:analysis/b54ca8ce-b2fb-411e-8f2c-50edc5df536d'},\n",
       "  'TemplateId': 'this_is_new_template_id',\n",
       "  'LastUpdatedTime': datetime.datetime(2021, 1, 7, 23, 5, 21, 980000, tzinfo=tzlocal()),\n",
       "  'CreatedTime': datetime.datetime(2021, 1, 7, 22, 55, 28, 854000, tzinfo=tzlocal())},\n",
       " 'RequestId': 'b62a0993-c63d-4545-b9a3-3afb2dc4597f'}"
      ]
     },
     "metadata": {},
     "execution_count": 15
    }
   ],
   "source": [
    "qs.describe_template(\n",
    "    AwsAccountId=AWS_ACCOUNT_ID,\n",
    "    TemplateId='this_is_new_template_id'\n",
    ")"
   ]
  },
  {
   "cell_type": "code",
   "execution_count": 8,
   "metadata": {},
   "outputs": [
    {
     "output_type": "execute_result",
     "data": {
      "text/plain": [
       "{'ResponseMetadata': {'RequestId': 'ac1c57a6-bb81-4daa-8dfc-4352ed61481f',\n",
       "  'HTTPStatusCode': 202,\n",
       "  'HTTPHeaders': {'date': 'Thu, 07 Jan 2021 22:59:41 GMT',\n",
       "   'content-type': 'application/json',\n",
       "   'content-length': '320',\n",
       "   'connection': 'keep-alive',\n",
       "   'x-amzn-requestid': 'ac1c57a6-bb81-4daa-8dfc-4352ed61481f'},\n",
       "  'RetryAttempts': 0},\n",
       " 'Status': 202,\n",
       " 'Arn': 'arn:aws:quicksight:eu-west-1:714290530475:template/this_is_new_template_id_1',\n",
       " 'VersionArn': 'arn:aws:quicksight:eu-west-1:714290530475:template/this_is_new_template_id_1/version/1',\n",
       " 'TemplateId': 'this_is_new_template_id_1',\n",
       " 'CreationStatus': 'CREATION_IN_PROGRESS',\n",
       " 'RequestId': 'ac1c57a6-bb81-4daa-8dfc-4352ed61481f'}"
      ]
     },
     "metadata": {},
     "execution_count": 8
    }
   ],
   "source": [
    "qs.create_template(\n",
    "    AwsAccountId=AWS_ACCOUNT_ID,\n",
    "    TemplateId='this_is_new_template_id_1',\n",
    "    Name='this_is_new_template_name_1',\n",
    "    Permissions=[\n",
    "        {\n",
    "            'Principal': 'arn:aws:quicksight:eu-west-1:714290530475:user/default/714290530475',\n",
    "            'Actions': [\n",
    "                'quicksight:DeleteTemplate',\n",
    "                'quicksight:DescribeTemplate',\n",
    "                'quicksight:DescribeTemplatePermissions',\n",
    "                'quicksight:UpdateTemplate',\n",
    "                'quicksight:UpdateTemplatePermissions'\n",
    "            ]\n",
    "        },\n",
    "    ],\n",
    "    SourceEntity={\n",
    "        'SourceAnalysis': {\n",
    "            'Arn': 'arn:aws:quicksight:eu-west-1:714290530475:analysis/b54ca8ce-b2fb-411e-8f2c-50edc5df536d',\n",
    "            'DataSetReferences': [\n",
    "                {\n",
    "                    'DataSetPlaceholder': 'qs_this_is_new_dataset_name',\n",
    "                    'DataSetArn': 'arn:aws:quicksight:eu-west-1:714290530475:dataset/qs_this_is_new_dataset_id'\n",
    "                },\n",
    "            ]\n",
    "        }\n",
    "    },\n",
    "    VersionDescription='1.0.1'\n",
    ")"
   ]
  },
  {
   "cell_type": "code",
   "execution_count": 12,
   "metadata": {},
   "outputs": [
    {
     "output_type": "execute_result",
     "data": {
      "text/plain": [
       "{'ResponseMetadata': {'RequestId': 'e8ba9b3d-bee0-4176-a7f3-27a707a60617',\n",
       "  'HTTPStatusCode': 202,\n",
       "  'HTTPHeaders': {'date': 'Thu, 07 Jan 2021 23:05:21 GMT',\n",
       "   'content-type': 'application/json',\n",
       "   'content-length': '314',\n",
       "   'connection': 'keep-alive',\n",
       "   'x-amzn-requestid': 'e8ba9b3d-bee0-4176-a7f3-27a707a60617'},\n",
       "  'RetryAttempts': 0},\n",
       " 'Status': 202,\n",
       " 'TemplateId': 'this_is_new_template_id',\n",
       " 'Arn': 'arn:aws:quicksight:eu-west-1:714290530475:template/this_is_new_template_id',\n",
       " 'VersionArn': 'arn:aws:quicksight:eu-west-1:714290530475:template/this_is_new_template_id/version/2',\n",
       " 'CreationStatus': 'CREATION_IN_PROGRESS',\n",
       " 'RequestId': 'e8ba9b3d-bee0-4176-a7f3-27a707a60617'}"
      ]
     },
     "metadata": {},
     "execution_count": 12
    }
   ],
   "source": [
    "qs.update_template(\n",
    "    AwsAccountId=AWS_ACCOUNT_ID,\n",
    "    TemplateId='this_is_new_template_id',\n",
    "    SourceEntity={\n",
    "        'SourceAnalysis': {\n",
    "            'Arn': 'arn:aws:quicksight:eu-west-1:714290530475:analysis/b54ca8ce-b2fb-411e-8f2c-50edc5df536d',\n",
    "            'DataSetReferences': [\n",
    "                {\n",
    "                    'DataSetPlaceholder': 'qs_this_is_new_dataset_name',\n",
    "                    'DataSetArn': 'arn:aws:quicksight:eu-west-1:714290530475:dataset/qs_this_is_new_dataset_id'\n",
    "                },\n",
    "            ]\n",
    "        }\n",
    "    }\n",
    ")"
   ]
  },
  {
   "cell_type": "code",
   "execution_count": null,
   "metadata": {},
   "outputs": [],
   "source": []
  }
 ],
 "metadata": {
  "kernelspec": {
   "name": "python3",
   "display_name": "Python 3.7.3 64-bit",
   "metadata": {
    "interpreter": {
     "hash": "e534e48711db4d1e1c48977d0d14ff85b1f16d41bcc4fdfd88268a329b3c9d66"
    }
   }
  },
  "language_info": {
   "codemirror_mode": {
    "name": "ipython",
    "version": 3
   },
   "file_extension": ".py",
   "mimetype": "text/x-python",
   "name": "python",
   "nbconvert_exporter": "python",
   "pygments_lexer": "ipython3",
   "version": "3.7.3-final"
  }
 },
 "nbformat": 4,
 "nbformat_minor": 4
}