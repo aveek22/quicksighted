{
 "cells": [
  {
   "cell_type": "code",
   "execution_count": 1,
   "metadata": {},
   "outputs": [],
   "source": [
    "import boto3\n",
    "import os\n",
    "import pandas as pd"
   ]
  },
  {
   "cell_type": "code",
   "execution_count": 2,
   "metadata": {},
   "outputs": [],
   "source": [
    "ACCESS_KEY = os.getenv('QS_AWS_ACCESS_KEY_ID')\n",
    "SECRET_KEY = os.getenv('QS_AWS_SECRET_ACCESS_KEY')\n",
    "\n",
    "DATABASE_HOST = os.getenv('ENVISO_INSIGHT_DATABASE_HOSTNAME')\n",
    "DATABASE_USER = os.getenv('ENVISO_INSIGHT_DATABASE_USERNAME')\n",
    "DATABASE_PASS = os.getenv('ENVISO_INSIGHT_DATABASE_PASSWORD')\n",
    "DATABASE_NAME = 'postgres'\n",
    "\n",
    "AWS_ACCOUNT_ID = os.getenv('QS_AWS_ACCOUNT_ID')\n"
   ]
  },
  {
   "cell_type": "code",
   "execution_count": 3,
   "metadata": {},
   "outputs": [],
   "source": [
    "qs = boto3.client(\n",
    "    'quicksight',\n",
    "    aws_access_key_id=ACCESS_KEY,\n",
    "    aws_secret_access_key=SECRET_KEY,\n",
    "    region_name = 'eu-west-1'\n",
    ")"
   ]
  },
  {
   "cell_type": "code",
   "execution_count": 4,
   "metadata": {},
   "outputs": [
    {
     "output_type": "execute_result",
     "data": {
      "text/plain": [
       "{'ResponseMetadata': {'RequestId': '2bb710f9-a1bc-438a-9650-0b1fc9b787ff',\n",
       "  'HTTPStatusCode': 202,\n",
       "  'HTTPHeaders': {'date': 'Tue, 29 Dec 2020 01:13:24 GMT',\n",
       "   'content-type': 'application/json',\n",
       "   'content-length': '228',\n",
       "   'connection': 'keep-alive',\n",
       "   'x-amzn-requestid': '2bb710f9-a1bc-438a-9650-0b1fc9b787ff'},\n",
       "  'RetryAttempts': 0},\n",
       " 'Status': 202,\n",
       " 'Arn': 'arn:aws:quicksight:eu-west-1:714290530475:datasource/qs_this_is_new_datasource_id',\n",
       " 'DataSourceId': 'qs_this_is_new_datasource_id',\n",
       " 'CreationStatus': 'CREATION_IN_PROGRESS',\n",
       " 'RequestId': '2bb710f9-a1bc-438a-9650-0b1fc9b787ff'}"
      ]
     },
     "metadata": {},
     "execution_count": 4
    }
   ],
   "source": [
    "qs.create_data_source(\n",
    "    AwsAccountId = AWS_ACCOUNT_ID,\n",
    "    DataSourceId = 'qs_this_is_new_datasource_id',\n",
    "    Name = 'qs_this_is_new_datasource_name',\n",
    "    Type = 'POSTGRESQL',\n",
    "    DataSourceParameters = {\n",
    "        'PostgreSqlParameters': {\n",
    "            'Host': DATABASE_HOST,\n",
    "            'Port': 5432,\n",
    "            'Database': DATABASE_NAME\n",
    "        }\n",
    "    },\n",
    "    Credentials = {\n",
    "        'CredentialPair': {\n",
    "            'Username': DATABASE_USER,\n",
    "            'Password': DATABASE_PASS\n",
    "        }\n",
    "    },\n",
    "    Permissions = [\n",
    "        {\n",
    "            'Principal': 'arn:aws:quicksight:eu-west-1:714290530475:user/default/714290530475',\n",
    "            'Actions': [\n",
    "                'quicksight:DeleteDataSource',\n",
    "                'quicksight:DescribeDataSource',\n",
    "                'quicksight:DescribeDataSourcePermissions',\n",
    "                'quicksight:PassDataSource',\n",
    "                'quicksight:UpdateDataSource',\n",
    "                'quicksight:UpdateDataSourcePermissions'\n",
    "            ]\n",
    "        }\n",
    "    ]\n",
    ")"
   ]
  },
  {
   "cell_type": "code",
   "execution_count": null,
   "metadata": {},
   "outputs": [],
   "source": [
    "qs.delete_data_source(\n",
    "    AwsAccountId=AWS_ACCOUNT_ID,\n",
    "    DataSourceId='qs_this_is_new_datasource_id'\n",
    ")"
   ]
  },
  {
   "cell_type": "code",
   "execution_count": 5,
   "metadata": {},
   "outputs": [
    {
     "output_type": "execute_result",
     "data": {
      "text/plain": [
       "{'ResponseMetadata': {'RequestId': '18dc85cf-6efa-4003-9ea9-e6982e04cac3',\n",
       "  'HTTPStatusCode': 200,\n",
       "  'HTTPHeaders': {'date': 'Tue, 29 Dec 2020 01:13:37 GMT',\n",
       "   'content-type': 'application/json',\n",
       "   'content-length': '5707',\n",
       "   'connection': 'keep-alive',\n",
       "   'x-amzn-requestid': '18dc85cf-6efa-4003-9ea9-e6982e04cac3'},\n",
       "  'RetryAttempts': 0},\n",
       " 'Status': 200,\n",
       " 'DataSources': [{'Arn': 'arn:aws:quicksight:eu-west-1:714290530475:datasource/qs_this_is_new_datasource_id',\n",
       "   'DataSourceId': 'qs_this_is_new_datasource_id',\n",
       "   'Name': 'qs_this_is_new_datasource_name',\n",
       "   'Type': 'POSTGRESQL',\n",
       "   'Status': 'CREATION_SUCCESSFUL',\n",
       "   'CreatedTime': datetime.datetime(2020, 12, 29, 1, 13, 24, 237000, tzinfo=tzlocal()),\n",
       "   'LastUpdatedTime': datetime.datetime(2020, 12, 29, 1, 13, 24, 580000, tzinfo=tzlocal()),\n",
       "   'DataSourceParameters': {'PostgreSqlParameters': {'Host': 'enviso-insight-rds.development-enviso.io',\n",
       "     'Port': 5432,\n",
       "     'Database': 'postgres'}},\n",
       "   'SslProperties': {'DisableSsl': False}},\n",
       "  {'Arn': 'arn:aws:quicksight:eu-west-1:714290530475:datasource/84ba07e4-bc37-4fab-9f7c-ffe11b7da302',\n",
       "   'DataSourceId': '84ba07e4-bc37-4fab-9f7c-ffe11b7da302',\n",
       "   'Name': 'Sales Pipeline',\n",
       "   'Type': 'S3',\n",
       "   'Status': 'UPDATE_SUCCESSFUL',\n",
       "   'CreatedTime': datetime.datetime(2020, 12, 25, 13, 46, 46, 535000, tzinfo=tzlocal()),\n",
       "   'LastUpdatedTime': datetime.datetime(2020, 12, 25, 13, 46, 46, 666000, tzinfo=tzlocal()),\n",
       "   'DataSourceParameters': {'S3Parameters': {'ManifestFileLocation': {'Bucket': 'spaceneedle-samplefiles.prod.eu-west-1',\n",
       "      'Key': 'sales/manifest.json'}}}},\n",
       "  {'Arn': 'arn:aws:quicksight:eu-west-1:714290530475:datasource/9054bf12-6d96-49d7-acc1-d538095203d4',\n",
       "   'DataSourceId': '9054bf12-6d96-49d7-acc1-d538095203d4',\n",
       "   'Name': 'Business Review',\n",
       "   'Type': 'S3',\n",
       "   'Status': 'UPDATE_SUCCESSFUL',\n",
       "   'CreatedTime': datetime.datetime(2020, 12, 25, 13, 46, 46, 538000, tzinfo=tzlocal()),\n",
       "   'LastUpdatedTime': datetime.datetime(2020, 12, 25, 13, 46, 46, 628000, tzinfo=tzlocal()),\n",
       "   'DataSourceParameters': {'S3Parameters': {'ManifestFileLocation': {'Bucket': 'spaceneedle-samplefiles.prod.eu-west-1',\n",
       "      'Key': 'revenue/manifest.json'}}}},\n",
       "  {'Arn': 'arn:aws:quicksight:eu-west-1:714290530475:datasource/aab2a82f-7896-4ae8-b731-afb0d3ebcb08',\n",
       "   'DataSourceId': 'aab2a82f-7896-4ae8-b731-afb0d3ebcb08',\n",
       "   'Name': 'People Overview',\n",
       "   'Type': 'S3',\n",
       "   'Status': 'UPDATE_SUCCESSFUL',\n",
       "   'CreatedTime': datetime.datetime(2020, 12, 25, 13, 46, 46, 536000, tzinfo=tzlocal()),\n",
       "   'LastUpdatedTime': datetime.datetime(2020, 12, 25, 13, 46, 46, 656000, tzinfo=tzlocal()),\n",
       "   'DataSourceParameters': {'S3Parameters': {'ManifestFileLocation': {'Bucket': 'spaceneedle-samplefiles.prod.eu-west-1',\n",
       "      'Key': 'hr/manifest.json'}}}},\n",
       "  {'Arn': 'arn:aws:quicksight:eu-west-1:714290530475:datasource/c3315763-273f-434b-b740-efe1be358955',\n",
       "   'DataSourceId': 'c3315763-273f-434b-b740-efe1be358955',\n",
       "   'Name': 'Web and Social Media Analytics',\n",
       "   'Type': 'S3',\n",
       "   'Status': 'UPDATE_SUCCESSFUL',\n",
       "   'CreatedTime': datetime.datetime(2020, 12, 25, 13, 46, 46, 538000, tzinfo=tzlocal()),\n",
       "   'LastUpdatedTime': datetime.datetime(2020, 12, 25, 13, 46, 46, 646000, tzinfo=tzlocal()),\n",
       "   'DataSourceParameters': {'S3Parameters': {'ManifestFileLocation': {'Bucket': 'spaceneedle-samplefiles.prod.eu-west-1',\n",
       "      'Key': 'marketing/manifest.json'}}}},\n",
       "  {'Arn': 'arn:aws:quicksight:eu-west-1:714290530475:datasource/818e91b7-d11d-4f53-bd15-f87197d1bbcf',\n",
       "   'DataSourceId': '818e91b7-d11d-4f53-bd15-f87197d1bbcf',\n",
       "   'Name': 'USSuperstoreData.csv',\n",
       "   'Type': 'S3',\n",
       "   'CreatedTime': datetime.datetime(2020, 12, 23, 23, 21, 52, 323000, tzinfo=tzlocal()),\n",
       "   'LastUpdatedTime': datetime.datetime(2020, 12, 23, 23, 22, 3, 566000, tzinfo=tzlocal())}],\n",
       " 'RequestId': '18dc85cf-6efa-4003-9ea9-e6982e04cac3'}"
      ]
     },
     "metadata": {},
     "execution_count": 5
    }
   ],
   "source": [
    "qs.list_data_sources(\n",
    "    AwsAccountId = AWS_ACCOUNT_ID\n",
    ")"
   ]
  },
  {
   "cell_type": "code",
   "execution_count": 6,
   "metadata": {},
   "outputs": [
    {
     "output_type": "execute_result",
     "data": {
      "text/plain": [
       "{'ResponseMetadata': {'RequestId': '3ef051c0-57af-46ae-82cf-ac308928963c',\n",
       "  'HTTPStatusCode': 200,\n",
       "  'HTTPHeaders': {'date': 'Tue, 29 Dec 2020 01:13:44 GMT',\n",
       "   'content-type': 'application/json',\n",
       "   'content-length': '1108',\n",
       "   'connection': 'keep-alive',\n",
       "   'x-amzn-requestid': '3ef051c0-57af-46ae-82cf-ac308928963c'},\n",
       "  'RetryAttempts': 0},\n",
       " 'Status': 200,\n",
       " 'DataSource': {'Arn': 'arn:aws:quicksight:eu-west-1:714290530475:datasource/qs_this_is_new_datasource_id',\n",
       "  'DataSourceId': 'qs_this_is_new_datasource_id',\n",
       "  'Name': 'qs_this_is_new_datasource_name',\n",
       "  'Type': 'POSTGRESQL',\n",
       "  'Status': 'CREATION_SUCCESSFUL',\n",
       "  'CreatedTime': datetime.datetime(2020, 12, 29, 1, 13, 24, 237000, tzinfo=tzlocal()),\n",
       "  'LastUpdatedTime': datetime.datetime(2020, 12, 29, 1, 13, 24, 580000, tzinfo=tzlocal()),\n",
       "  'DataSourceParameters': {'PostgreSqlParameters': {'Host': 'enviso-insight-rds.development-enviso.io',\n",
       "    'Port': 5432,\n",
       "    'Database': 'postgres'}},\n",
       "  'SslProperties': {'DisableSsl': False}},\n",
       " 'RequestId': '3ef051c0-57af-46ae-82cf-ac308928963c'}"
      ]
     },
     "metadata": {},
     "execution_count": 6
    }
   ],
   "source": [
    "qs.describe_data_source(\n",
    "    AwsAccountId=AWS_ACCOUNT_ID,\n",
    "    DataSourceId='qs_this_is_new_datasource_id'\n",
    ")"
   ]
  },
  {
   "cell_type": "code",
   "execution_count": null,
   "metadata": {},
   "outputs": [],
   "source": []
  }
 ],
 "metadata": {
  "kernelspec": {
   "display_name": "Python 3",
   "language": "python",
   "name": "python3"
  },
  "language_info": {
   "codemirror_mode": {
    "name": "ipython",
    "version": 3
   },
   "file_extension": ".py",
   "mimetype": "text/x-python",
   "name": "python",
   "nbconvert_exporter": "python",
   "pygments_lexer": "ipython3",
   "version": "3.8.3-final"
  }
 },
 "nbformat": 4,
 "nbformat_minor": 4
}