{
 "cells": [
  {
   "cell_type": "code",
   "execution_count": 1,
   "metadata": {},
   "outputs": [],
   "source": [
    "import boto3\n",
    "import os\n",
    "import pandas as pd"
   ]
  },
  {
   "cell_type": "code",
   "execution_count": 2,
   "metadata": {},
   "outputs": [],
   "source": [
    "ACCESS_KEY = os.getenv('QS_AWS_ACCESS_KEY_ID')\n",
    "SECRET_KEY = os.getenv('QS_AWS_SECRET_ACCESS_KEY')\n",
    "\n",
    "DATABASE_HOST = os.getenv('ENVISO_INSIGHT_DATABASE_HOSTNAME')\n",
    "DATABASE_USER = os.getenv('ENVISO_INSIGHT_DATABASE_USERNAME')\n",
    "DATABASE_PASS = os.getenv('ENVISO_INSIGHT_DATABASE_PASSWORD')\n",
    "DATABASE_NAME = 'postgres'\n",
    "\n",
    "AWS_ACCOUNT_ID = os.getenv('QS_AWS_ACCOUNT_ID')\n"
   ]
  },
  {
   "cell_type": "code",
   "execution_count": 3,
   "metadata": {},
   "outputs": [],
   "source": [
    "qs = boto3.client(\n",
    "    'quicksight',\n",
    "    aws_access_key_id=ACCESS_KEY,\n",
    "    aws_secret_access_key=SECRET_KEY,\n",
    "    region_name = 'eu-west-1'\n",
    ")"
   ]
  },
  {
   "cell_type": "code",
   "execution_count": 4,
   "metadata": {},
   "outputs": [
    {
     "output_type": "execute_result",
     "data": {
      "text/plain": [
       "{'ResponseMetadata': {'RequestId': '72e9c953-d85d-46e1-8d24-8df578dfd6df',\n",
       "  'HTTPStatusCode': 202,\n",
       "  'HTTPHeaders': {'date': 'Tue, 29 Dec 2020 01:28:00 GMT',\n",
       "   'content-type': 'application/json',\n",
       "   'content-length': '320',\n",
       "   'connection': 'keep-alive',\n",
       "   'x-amzn-requestid': '72e9c953-d85d-46e1-8d24-8df578dfd6df'},\n",
       "  'RetryAttempts': 0},\n",
       " 'Status': 202,\n",
       " 'Arn': 'arn:aws:quicksight:eu-west-1:714290530475:dashboard/this_is_new_dashboard_id',\n",
       " 'VersionArn': 'arn:aws:quicksight:eu-west-1:714290530475:dashboard/this_is_new_dashboard_id/version/1',\n",
       " 'DashboardId': 'this_is_new_dashboard_id',\n",
       " 'CreationStatus': 'CREATION_IN_PROGRESS',\n",
       " 'RequestId': '72e9c953-d85d-46e1-8d24-8df578dfd6df'}"
      ]
     },
     "metadata": {},
     "execution_count": 4
    }
   ],
   "source": [
    "qs.create_dashboard(\n",
    "    AwsAccountId = AWS_ACCOUNT_ID,\n",
    "    DashboardId = 'this_is_new_dashboard_id',\n",
    "    Name = 'this_is_new_dashboard_name',\n",
    "    SourceEntity={\n",
    "        'SourceTemplate':{\n",
    "            'Arn':'arn:aws:quicksight:eu-west-1:714290530475:template/this_is_new_template_id',\n",
    "            'DataSetReferences':[\n",
    "                {\n",
    "                    'DataSetPlaceholder':'qs_this_is_new_dataset_name',\n",
    "                    'DataSetArn':'arn:aws:quicksight:eu-west-1:714290530475:dataset/qs_this_is_new_dataset_id'\n",
    "                }\n",
    "            ]\n",
    "        }\n",
    "    },\n",
    "    VersionDescription='Version-0',\n",
    "    Permissions=[\n",
    "        {\n",
    "            'Principal':'arn:aws:quicksight:eu-west-1:714290530475:user/default/714290530475',\n",
    "            'Actions':[\n",
    "                'quicksight:DescribeDashboard',\n",
    "                'quicksight:ListDashboardVersions',\n",
    "                'quicksight:QueryDashboard',\n",
    "                'quicksight:DescribeDashboardPermissions',\n",
    "                'quicksight:UpdateDashboardPermissions',\n",
    "                'quicksight:DeleteDashboard',\n",
    "                'quicksight:UpdateDashboard',\n",
    "                'quicksight:UpdateDashboardPublishedVersion'\n",
    "            ]\n",
    "        }\n",
    "    ]\n",
    ")"
   ]
  },
  {
   "cell_type": "code",
   "execution_count": 8,
   "metadata": {},
   "outputs": [
    {
     "output_type": "execute_result",
     "data": {
      "text/plain": [
       "{'ResponseMetadata': {'RequestId': '16f7d83f-d434-4f10-a3f6-a32564bcd4fc',\n",
       "  'HTTPStatusCode': 200,\n",
       "  'HTTPHeaders': {'date': 'Tue, 29 Dec 2020 01:32:10 GMT',\n",
       "   'content-type': 'application/json',\n",
       "   'content-length': '687',\n",
       "   'connection': 'keep-alive',\n",
       "   'x-amzn-requestid': '16f7d83f-d434-4f10-a3f6-a32564bcd4fc'},\n",
       "  'RetryAttempts': 0},\n",
       " 'Status': 200,\n",
       " 'DashboardSummaryList': [{'Arn': 'arn:aws:quicksight:eu-west-1:714290530475:dashboard/this_is_new_dashboard_id',\n",
       "   'DashboardId': 'this_is_new_dashboard_id',\n",
       "   'Name': 'this_is_new_dashboard_name',\n",
       "   'CreatedTime': datetime.datetime(2020, 12, 29, 1, 28, 0, 607000, tzinfo=tzlocal()),\n",
       "   'LastUpdatedTime': datetime.datetime(2020, 12, 29, 1, 28, 0, 730000, tzinfo=tzlocal()),\n",
       "   'PublishedVersionNumber': 1,\n",
       "   'LastPublishedTime': datetime.datetime(2020, 12, 29, 1, 28, 0, 607000, tzinfo=tzlocal())},\n",
       "  {'Arn': 'arn:aws:quicksight:eu-west-1:714290530475:dashboard/this_is_new_dashboard_id_1',\n",
       "   'DashboardId': 'this_is_new_dashboard_id_1',\n",
       "   'Name': 'this_is_new_dashboard_name_1',\n",
       "   'CreatedTime': datetime.datetime(2020, 12, 29, 1, 31, 45, 337000, tzinfo=tzlocal()),\n",
       "   'LastUpdatedTime': datetime.datetime(2020, 12, 29, 1, 31, 45, 476000, tzinfo=tzlocal()),\n",
       "   'PublishedVersionNumber': 1,\n",
       "   'LastPublishedTime': datetime.datetime(2020, 12, 29, 1, 31, 45, 337000, tzinfo=tzlocal())}],\n",
       " 'RequestId': '16f7d83f-d434-4f10-a3f6-a32564bcd4fc'}"
      ]
     },
     "metadata": {},
     "execution_count": 8
    }
   ],
   "source": [
    "qs.list_dashboards(\n",
    "    AwsAccountId=AWS_ACCOUNT_ID\n",
    ")"
   ]
  },
  {
   "cell_type": "code",
   "execution_count": 9,
   "metadata": {},
   "outputs": [
    {
     "output_type": "execute_result",
     "data": {
      "text/plain": [
       "{'ResponseMetadata': {'RequestId': '3e4f407e-2ab2-46ed-a6b2-a22e791781f4',\n",
       "  'HTTPStatusCode': 200,\n",
       "  'HTTPHeaders': {'date': 'Tue, 29 Dec 2020 01:33:00 GMT',\n",
       "   'content-type': 'application/json',\n",
       "   'content-length': '774',\n",
       "   'connection': 'keep-alive',\n",
       "   'x-amzn-requestid': '3e4f407e-2ab2-46ed-a6b2-a22e791781f4'},\n",
       "  'RetryAttempts': 0},\n",
       " 'Status': 200,\n",
       " 'Dashboard': {'DashboardId': 'this_is_new_dashboard_id_1',\n",
       "  'Arn': 'arn:aws:quicksight:eu-west-1:714290530475:dashboard/this_is_new_dashboard_id_1',\n",
       "  'Name': 'this_is_new_dashboard_name_1',\n",
       "  'Version': {'CreatedTime': datetime.datetime(2020, 12, 29, 1, 31, 45, 476000, tzinfo=tzlocal()),\n",
       "   'Errors': [],\n",
       "   'VersionNumber': 1,\n",
       "   'Status': 'CREATION_SUCCESSFUL',\n",
       "   'SourceEntityArn': 'arn:aws:quicksight:eu-west-1:714290530475:template/this_is_new_template_id_1/version/1',\n",
       "   'DataSetArns': ['arn:aws:quicksight:eu-west-1:714290530475:dataset/qs_this_is_new_dataset_id'],\n",
       "   'Description': 'Version-0',\n",
       "   'Sheets': [{'SheetId': '10f19bab-f64a-4adc-bea4-55d3792d3195',\n",
       "     'Name': 'Sheet 1'}]},\n",
       "  'CreatedTime': datetime.datetime(2020, 12, 29, 1, 31, 45, 337000, tzinfo=tzlocal()),\n",
       "  'LastPublishedTime': datetime.datetime(2020, 12, 29, 1, 31, 45, 337000, tzinfo=tzlocal()),\n",
       "  'LastUpdatedTime': datetime.datetime(2020, 12, 29, 1, 31, 45, 476000, tzinfo=tzlocal())},\n",
       " 'RequestId': '3e4f407e-2ab2-46ed-a6b2-a22e791781f4'}"
      ]
     },
     "metadata": {},
     "execution_count": 9
    }
   ],
   "source": [
    "qs.describe_dashboard(\n",
    "    AwsAccountId=AWS_ACCOUNT_ID,\n",
    "    DashboardId='this_is_new_dashboard_id_1'\n",
    ")"
   ]
  },
  {
   "cell_type": "code",
   "execution_count": 10,
   "metadata": {},
   "outputs": [
    {
     "output_type": "execute_result",
     "data": {
      "text/plain": [
       "{'ResponseMetadata': {'RequestId': '0e847a68-755e-495a-897a-e1dba0920aca',\n",
       "  'HTTPStatusCode': 200,\n",
       "  'HTTPHeaders': {'date': 'Tue, 29 Dec 2020 01:38:49 GMT',\n",
       "   'content-type': 'application/json',\n",
       "   'content-length': '333',\n",
       "   'connection': 'keep-alive',\n",
       "   'x-amzn-requestid': '0e847a68-755e-495a-897a-e1dba0920aca'},\n",
       "  'RetryAttempts': 0},\n",
       " 'Arn': 'arn:aws:quicksight:eu-west-1:714290530475:dashboard/this_is_new_dashboard_id',\n",
       " 'VersionArn': 'arn:aws:quicksight:eu-west-1:714290530475:dashboard/this_is_new_dashboard_id/version/3',\n",
       " 'DashboardId': 'this_is_new_dashboard_id',\n",
       " 'CreationStatus': 'CREATION_IN_PROGRESS',\n",
       " 'Status': 202,\n",
       " 'RequestId': '0e847a68-755e-495a-897a-e1dba0920aca'}"
      ]
     },
     "metadata": {},
     "execution_count": 10
    }
   ],
   "source": [
    "qs.update_dashboard(\n",
    "    AwsAccountId=AWS_ACCOUNT_ID,\n",
    "    DashboardId='this_is_new_dashboard_id',\n",
    "    Name='this_is_new_dashboard_name',\n",
    "    SourceEntity={\n",
    "        'SourceTemplate':{\n",
    "            'Arn':'arn:aws:quicksight:eu-west-1:714290530475:template/this_is_new_template_id_1',\n",
    "            'DataSetReferences':[\n",
    "                {\n",
    "                    'DataSetPlaceholder':'qs_this_is_new_dataset_name',\n",
    "                    'DataSetArn':'arn:aws:quicksight:eu-west-1:714290530475:dataset/qs_this_is_new_dataset_id'\n",
    "                }\n",
    "            ]\n",
    "        }\n",
    "    }\n",
    ")"
   ]
  },
  {
   "cell_type": "code",
   "execution_count": 7,
   "metadata": {},
   "outputs": [
    {
     "output_type": "execute_result",
     "data": {
      "text/plain": [
       "{'ResponseMetadata': {'RequestId': '93917c04-8c10-4b29-8a76-bae6d241f208',\n",
       "  'HTTPStatusCode': 202,\n",
       "  'HTTPHeaders': {'date': 'Tue, 29 Dec 2020 01:31:45 GMT',\n",
       "   'content-type': 'application/json',\n",
       "   'content-length': '326',\n",
       "   'connection': 'keep-alive',\n",
       "   'x-amzn-requestid': '93917c04-8c10-4b29-8a76-bae6d241f208'},\n",
       "  'RetryAttempts': 0},\n",
       " 'Status': 202,\n",
       " 'Arn': 'arn:aws:quicksight:eu-west-1:714290530475:dashboard/this_is_new_dashboard_id_1',\n",
       " 'VersionArn': 'arn:aws:quicksight:eu-west-1:714290530475:dashboard/this_is_new_dashboard_id_1/version/1',\n",
       " 'DashboardId': 'this_is_new_dashboard_id_1',\n",
       " 'CreationStatus': 'CREATION_IN_PROGRESS',\n",
       " 'RequestId': '93917c04-8c10-4b29-8a76-bae6d241f208'}"
      ]
     },
     "metadata": {},
     "execution_count": 7
    }
   ],
   "source": [
    "qs.create_dashboard(\n",
    "    AwsAccountId = AWS_ACCOUNT_ID,\n",
    "    DashboardId = 'this_is_new_dashboard_id_1',\n",
    "    Name = 'this_is_new_dashboard_name_1',\n",
    "    SourceEntity={\n",
    "        'SourceTemplate':{\n",
    "            'Arn':'arn:aws:quicksight:eu-west-1:714290530475:template/this_is_new_template_id_1',\n",
    "            'DataSetReferences':[\n",
    "                {\n",
    "                    'DataSetPlaceholder':'qs_this_is_new_dataset_name',\n",
    "                    'DataSetArn':'arn:aws:quicksight:eu-west-1:714290530475:dataset/qs_this_is_new_dataset_id'\n",
    "                }\n",
    "            ]\n",
    "        }\n",
    "    },\n",
    "    VersionDescription='Version-0',\n",
    "    Permissions=[\n",
    "        {\n",
    "            'Principal':'arn:aws:quicksight:eu-west-1:714290530475:user/default/714290530475',\n",
    "            'Actions':[\n",
    "                'quicksight:DescribeDashboard',\n",
    "                'quicksight:ListDashboardVersions',\n",
    "                'quicksight:QueryDashboard',\n",
    "                'quicksight:DescribeDashboardPermissions',\n",
    "                'quicksight:UpdateDashboardPermissions',\n",
    "                'quicksight:DeleteDashboard',\n",
    "                'quicksight:UpdateDashboard',\n",
    "                'quicksight:UpdateDashboardPublishedVersion'\n",
    "            ]\n",
    "        }\n",
    "    ]\n",
    ")"
   ]
  }
 ],
 "metadata": {
  "kernelspec": {
   "display_name": "Python 3",
   "language": "python",
   "name": "python3"
  },
  "language_info": {
   "codemirror_mode": {
    "name": "ipython",
    "version": 3
   },
   "file_extension": ".py",
   "mimetype": "text/x-python",
   "name": "python",
   "nbconvert_exporter": "python",
   "pygments_lexer": "ipython3",
   "version": "3.8.3-final"
  }
 },
 "nbformat": 4,
 "nbformat_minor": 4
}