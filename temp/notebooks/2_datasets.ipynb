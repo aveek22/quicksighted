{
 "cells": [
  {
   "cell_type": "code",
   "execution_count": 1,
   "metadata": {},
   "outputs": [],
   "source": [
    "import boto3\n",
    "import os\n",
    "import pandas as pd"
   ]
  },
  {
   "cell_type": "code",
   "execution_count": 2,
   "metadata": {},
   "outputs": [],
   "source": [
    "ACCESS_KEY = os.getenv('QS_AWS_ACCESS_KEY_ID')\n",
    "SECRET_KEY = os.getenv('QS_AWS_SECRET_ACCESS_KEY')\n",
    "\n",
    "DATABASE_HOST = os.getenv('ENVISO_INSIGHT_DATABASE_HOSTNAME')\n",
    "DATABASE_USER = os.getenv('ENVISO_INSIGHT_DATABASE_USERNAME')\n",
    "DATABASE_PASS = os.getenv('ENVISO_INSIGHT_DATABASE_PASSWORD')\n",
    "DATABASE_NAME = 'postgres'\n",
    "\n",
    "AWS_ACCOUNT_ID = os.getenv('QS_AWS_ACCOUNT_ID')\n"
   ]
  },
  {
   "cell_type": "code",
   "execution_count": 3,
   "metadata": {},
   "outputs": [],
   "source": [
    "qs = boto3.client(\n",
    "    'quicksight',\n",
    "    aws_access_key_id=ACCESS_KEY,\n",
    "    aws_secret_access_key=SECRET_KEY,\n",
    "    region_name = 'eu-west-1'\n",
    ")"
   ]
  },
  {
   "cell_type": "code",
   "execution_count": 4,
   "metadata": {},
   "outputs": [
    {
     "output_type": "execute_result",
     "data": {
      "text/plain": [
       "{'ResponseMetadata': {'RequestId': 'e0a1f39e-44c5-4192-af55-2a15ef555fec',\n",
       "  'HTTPStatusCode': 201,\n",
       "  'HTTPHeaders': {'date': 'Thu, 07 Jan 2021 22:52:48 GMT',\n",
       "   'content-type': 'application/json',\n",
       "   'content-length': '369',\n",
       "   'connection': 'keep-alive',\n",
       "   'x-amzn-requestid': 'e0a1f39e-44c5-4192-af55-2a15ef555fec'},\n",
       "  'RetryAttempts': 0},\n",
       " 'Status': 201,\n",
       " 'Arn': 'arn:aws:quicksight:eu-west-1:714290530475:dataset/qs_this_is_new_dataset_id',\n",
       " 'DataSetId': 'qs_this_is_new_dataset_id',\n",
       " 'IngestionArn': 'arn:aws:quicksight:eu-west-1:714290530475:dataset/qs_this_is_new_dataset_id/ingestion/7b9b3122-2902-480d-97f7-60b3482d6dda',\n",
       " 'IngestionId': '7b9b3122-2902-480d-97f7-60b3482d6dda',\n",
       " 'RequestId': 'e0a1f39e-44c5-4192-af55-2a15ef555fec'}"
      ]
     },
     "metadata": {},
     "execution_count": 4
    }
   ],
   "source": [
    "qs.create_data_set(\n",
    "    AwsAccountId = AWS_ACCOUNT_ID,\n",
    "    DataSetId = 'qs_this_is_new_dataset_id',\n",
    "    Name = 'qs_this_is_new_dataset_name',\n",
    "    PhysicalTableMap = {\n",
    "        'qs-physical-table-map':{\n",
    "            'RelationalTable':{\n",
    "                'DataSourceArn':'arn:aws:quicksight:eu-west-1:714290530475:datasource/qs_this_is_new_datasource_id',\n",
    "                'Schema':'public',\n",
    "                'Name':'qs_table',\n",
    "                'InputColumns':[\n",
    "                    {\n",
    "                        'Name':'id',\n",
    "                        'Type':'INTEGER'\n",
    "                    },\n",
    "                    {\n",
    "                        'Name':'name',\n",
    "                        'Type':'STRING'\n",
    "                    },\n",
    "                    {\n",
    "                        'Name':'age',\n",
    "                        'Type':'INTEGER'\n",
    "                    }\n",
    "                ]\n",
    "            }\n",
    "        }\n",
    "    },\n",
    "    ImportMode = 'SPICE',\n",
    "    Permissions=[\n",
    "        {\n",
    "            'Principal':'arn:aws:quicksight:eu-west-1:714290530475:user/default/714290530475',\n",
    "            'Actions':[\n",
    "                'quicksight:DeleteDataSet',\n",
    "                'quicksight:DescribeDataSet',\n",
    "                'quicksight:DescribeDataSetPermissions',\n",
    "                'quicksight:PassDataSet',\n",
    "                'quicksight:UpdateDataSet',\n",
    "                'quicksight:UpdateDataSetPermissions',\n",
    "                'quicksight:CreateIngestion',\n",
    "                'quicksight:CancelIngestion',\n",
    "                'quicksight:DescribeIngestion',\n",
    "                'quicksight:ListIngestions'\n",
    "            ]\n",
    "        }\n",
    "    ]\n",
    ")"
   ]
  },
  {
   "cell_type": "code",
   "execution_count": 9,
   "metadata": {},
   "outputs": [
    {
     "output_type": "execute_result",
     "data": {
      "text/plain": [
       "{'ResponseMetadata': {'RequestId': '0df4c80c-c6e1-4adb-a0d2-c145763d4e8c',\n",
       "  'HTTPStatusCode': 200,\n",
       "  'HTTPHeaders': {'date': 'Thu, 07 Jan 2021 20:00:32 GMT',\n",
       "   'content-type': 'application/json',\n",
       "   'content-length': '198',\n",
       "   'connection': 'keep-alive',\n",
       "   'x-amzn-requestid': '0df4c80c-c6e1-4adb-a0d2-c145763d4e8c'},\n",
       "  'RetryAttempts': 0},\n",
       " 'Status': 200,\n",
       " 'Arn': 'arn:aws:quicksight:eu-west-1:714290530475:dataset/9c4ddea9-a14f-4566-9591-1a75f02f45f7',\n",
       " 'DataSetId': '9c4ddea9-a14f-4566-9591-1a75f02f45f7',\n",
       " 'RequestId': '0df4c80c-c6e1-4adb-a0d2-c145763d4e8c'}"
      ]
     },
     "metadata": {},
     "execution_count": 9
    }
   ],
   "source": [
    "qs.delete_data_set(\n",
    "    AwsAccountId=AWS_ACCOUNT_ID,\n",
    "    DataSetId='9c4ddea9-a14f-4566-9591-1a75f02f45f7'\n",
    ")"
   ]
  },
  {
   "cell_type": "code",
   "execution_count": 6,
   "metadata": {},
   "outputs": [
    {
     "output_type": "execute_result",
     "data": {
      "text/plain": [
       "{'ResponseMetadata': {'RequestId': 'bc3e4919-6f42-4622-aff0-73a15167da39',\n",
       "  'HTTPStatusCode': 200,\n",
       "  'HTTPHeaders': {'date': 'Thu, 07 Jan 2021 22:53:11 GMT',\n",
       "   'content-type': 'application/json',\n",
       "   'content-length': '751',\n",
       "   'connection': 'keep-alive',\n",
       "   'x-amzn-requestid': 'bc3e4919-6f42-4622-aff0-73a15167da39'},\n",
       "  'RetryAttempts': 0},\n",
       " 'Status': 200,\n",
       " 'DataSetSummaries': [{'Arn': 'arn:aws:quicksight:eu-west-1:714290530475:dataset/09251445-b707-43b4-ba6c-6df9b91b6edd',\n",
       "   'DataSetId': '09251445-b707-43b4-ba6c-6df9b91b6edd',\n",
       "   'Name': 'USSuperstoreData',\n",
       "   'CreatedTime': datetime.datetime(2020, 12, 23, 23, 22, 59, 273000, tzinfo=tzlocal()),\n",
       "   'LastUpdatedTime': datetime.datetime(2020, 12, 23, 23, 22, 59, 486000, tzinfo=tzlocal()),\n",
       "   'ImportMode': 'SPICE'},\n",
       "  {'Arn': 'arn:aws:quicksight:eu-west-1:714290530475:dataset/qs_this_is_new_dataset_id',\n",
       "   'DataSetId': 'qs_this_is_new_dataset_id',\n",
       "   'Name': 'qs_this_is_new_dataset_name',\n",
       "   'CreatedTime': datetime.datetime(2021, 1, 7, 22, 52, 47, 752000, tzinfo=tzlocal()),\n",
       "   'LastUpdatedTime': datetime.datetime(2021, 1, 7, 22, 52, 47, 979000, tzinfo=tzlocal()),\n",
       "   'ImportMode': 'SPICE'}],\n",
       " 'RequestId': 'bc3e4919-6f42-4622-aff0-73a15167da39'}"
      ]
     },
     "metadata": {},
     "execution_count": 6
    }
   ],
   "source": [
    "qs.list_data_sets(\n",
    "    AwsAccountId=AWS_ACCOUNT_ID\n",
    ")"
   ]
  },
  {
   "cell_type": "code",
   "execution_count": 60,
   "metadata": {},
   "outputs": [
    {
     "data": {
      "text/plain": [
       "{'ResponseMetadata': {'RequestId': 'a2450588-6f9e-48c5-b61b-8a010b150c97',\n",
       "  'HTTPStatusCode': 201,\n",
       "  'HTTPHeaders': {'date': 'Fri, 25 Dec 2020 20:58:35 GMT',\n",
       "   'content-type': 'application/json',\n",
       "   'content-length': '375',\n",
       "   'connection': 'keep-alive',\n",
       "   'x-amzn-requestid': 'a2450588-6f9e-48c5-b61b-8a010b150c97'},\n",
       "  'RetryAttempts': 0},\n",
       " 'Status': 201,\n",
       " 'Arn': 'arn:aws:quicksight:eu-west-1:714290530475:dataset/qs_this_is_new_dataset_id_1',\n",
       " 'DataSetId': 'qs_this_is_new_dataset_id_1',\n",
       " 'IngestionArn': 'arn:aws:quicksight:eu-west-1:714290530475:dataset/qs_this_is_new_dataset_id_1/ingestion/c0117a92-4c9d-498f-9aa3-ebcff2c003a5',\n",
       " 'IngestionId': 'c0117a92-4c9d-498f-9aa3-ebcff2c003a5',\n",
       " 'RequestId': 'a2450588-6f9e-48c5-b61b-8a010b150c97'}"
      ]
     },
     "execution_count": 60,
     "metadata": {},
     "output_type": "execute_result"
    }
   ],
   "source": [
    "qs.create_data_set(\n",
    "    AwsAccountId = AWS_ACCOUNT_ID,\n",
    "    DataSetId = 'qs_this_is_new_dataset_id_1',\n",
    "    Name = 'qs_this_is_new_dataset_name_1',\n",
    "    PhysicalTableMap = {\n",
    "        'qs-physical-table-map':{\n",
    "            'RelationalTable':{\n",
    "                'DataSourceArn':'arn:aws:quicksight:eu-west-1:714290530475:datasource/qs_this_is_new_datasource_id',\n",
    "                'Schema':'public',\n",
    "                'Name':'qs_table',\n",
    "                'InputColumns':[\n",
    "                    {\n",
    "                        'Name':'id',\n",
    "                        'Type':'INTEGER'\n",
    "                    },\n",
    "                    {\n",
    "                        'Name':'name',\n",
    "                        'Type':'STRING'\n",
    "                    },\n",
    "                    {\n",
    "                        'Name':'age',\n",
    "                        'Type':'INTEGER'\n",
    "                    }\n",
    "                ]\n",
    "            }\n",
    "        }\n",
    "    },\n",
    "    ImportMode = 'SPICE',\n",
    "    Permissions=[\n",
    "        {\n",
    "            'Principal':'arn:aws:quicksight:eu-west-1:714290530475:user/default/714290530475',\n",
    "            'Actions':[\n",
    "                'quicksight:DeleteDataSet',\n",
    "                'quicksight:DescribeDataSet',\n",
    "                'quicksight:DescribeDataSetPermissions',\n",
    "                'quicksight:PassDataSet',\n",
    "                'quicksight:UpdateDataSet',\n",
    "                'quicksight:UpdateDataSetPermissions',\n",
    "                'quicksight:CreateIngestion',\n",
    "                'quicksight:CancelIngestion',\n",
    "                'quicksight:DescribeIngestion',\n",
    "                'quicksight:ListIngestions'\n",
    "            ]\n",
    "        }\n",
    "    ]\n",
    ")"
   ]
  },
  {
   "cell_type": "code",
   "execution_count": 6,
   "metadata": {},
   "outputs": [
    {
     "output_type": "execute_result",
     "data": {
      "text/plain": [
       "{'ResponseMetadata': {'RequestId': '8894f62c-034d-4aec-afcc-7a0f0cd488d7',\n",
       "  'HTTPStatusCode': 200,\n",
       "  'HTTPHeaders': {'date': 'Tue, 29 Dec 2020 01:16:48 GMT',\n",
       "   'content-type': 'application/json',\n",
       "   'content-length': '1150',\n",
       "   'connection': 'keep-alive',\n",
       "   'x-amzn-requestid': '8894f62c-034d-4aec-afcc-7a0f0cd488d7'},\n",
       "  'RetryAttempts': 0},\n",
       " 'Status': 200,\n",
       " 'DataSet': {'Arn': 'arn:aws:quicksight:eu-west-1:714290530475:dataset/qs_this_is_new_dataset_id',\n",
       "  'DataSetId': 'qs_this_is_new_dataset_id',\n",
       "  'Name': 'qs_this_is_new_dataset_name',\n",
       "  'CreatedTime': datetime.datetime(2020, 12, 29, 1, 15, 29, 805000, tzinfo=tzlocal()),\n",
       "  'LastUpdatedTime': datetime.datetime(2020, 12, 29, 1, 15, 30, 113000, tzinfo=tzlocal()),\n",
       "  'PhysicalTableMap': {'qs-physical-table-map': {'RelationalTable': {'DataSourceArn': 'arn:aws:quicksight:eu-west-1:714290530475:datasource/qs_this_is_new_datasource_id',\n",
       "     'Schema': 'public',\n",
       "     'Name': 'qs_table',\n",
       "     'InputColumns': [{'Name': 'id', 'Type': 'INTEGER'},\n",
       "      {'Name': 'name', 'Type': 'STRING'},\n",
       "      {'Name': 'age', 'Type': 'INTEGER'}]}}},\n",
       "  'LogicalTableMap': {'qs-physical-table-map': {'Alias': 'qs_table',\n",
       "    'Source': {'PhysicalTableId': 'qs-physical-table-map'}}},\n",
       "  'OutputColumns': [{'Name': 'id', 'Type': 'INTEGER'},\n",
       "   {'Name': 'name', 'Type': 'STRING'},\n",
       "   {'Name': 'age', 'Type': 'INTEGER'}],\n",
       "  'ImportMode': 'SPICE',\n",
       "  'ConsumedSpiceCapacityInBytes': 102},\n",
       " 'RequestId': '8894f62c-034d-4aec-afcc-7a0f0cd488d7'}"
      ]
     },
     "metadata": {},
     "execution_count": 6
    }
   ],
   "source": [
    "qs.describe_data_set(\n",
    "    AwsAccountId=AWS_ACCOUNT_ID,\n",
    "    DataSetId='qs_this_is_new_dataset_id'\n",
    ")"
   ]
  },
  {
   "cell_type": "code",
   "execution_count": null,
   "metadata": {},
   "outputs": [],
   "source": []
  }
 ],
 "metadata": {
  "kernelspec": {
   "name": "python3",
   "display_name": "Python 3.7.3 64-bit",
   "metadata": {
    "interpreter": {
     "hash": "e534e48711db4d1e1c48977d0d14ff85b1f16d41bcc4fdfd88268a329b3c9d66"
    }
   }
  },
  "language_info": {
   "codemirror_mode": {
    "name": "ipython",
    "version": 3
   },
   "file_extension": ".py",
   "mimetype": "text/x-python",
   "name": "python",
   "nbconvert_exporter": "python",
   "pygments_lexer": "ipython3",
   "version": "3.7.3-final"
  }
 },
 "nbformat": 4,
 "nbformat_minor": 4
}