{
 "cells": [
  {
   "cell_type": "code",
   "execution_count": 1,
   "metadata": {},
   "outputs": [],
   "source": [
    "import boto3\n",
    "import os\n",
    "import pandas as pd"
   ]
  },
  {
   "cell_type": "code",
   "execution_count": 2,
   "metadata": {},
   "outputs": [],
   "source": [
    "ACCESS_KEY = os.getenv('AVEEK_USER_AWS_ACCESS_KEY_ID')\n",
    "SECRET_KEY = os.getenv('AVEEK_USER_AWS_SECRET_ACCESS_KEY')\n",
    "\n",
    "DATABASE_HOST = os.getenv('ENVISO_INSIGHT_DATABASE_HOSTNAME')\n",
    "DATABASE_USER = os.getenv('ENVISO_INSIGHT_DATABASE_USERNAME')\n",
    "DATABASE_PASS = os.getenv('ENVISO_INSIGHT_DATABASE_PASSWORD')\n",
    "DATABASE_NAME = 'postgres'\n",
    "\n",
    "AWS_ACCOUNT_ID = os.getenv('ENVISO_INSIGHT_AWS_ACCOUNT_ID')\n"
   ]
  },
  {
   "cell_type": "code",
   "execution_count": 3,
   "metadata": {},
   "outputs": [],
   "source": [
    "qs = boto3.client(\n",
    "    'quicksight',\n",
    "    aws_access_key_id=ACCESS_KEY,\n",
    "    aws_secret_access_key=SECRET_KEY,\n",
    "    region_name = 'eu-west-1'\n",
    ")"
   ]
  },
  {
   "cell_type": "code",
   "execution_count": 5,
   "metadata": {},
   "outputs": [
    {
     "output_type": "execute_result",
     "data": {
      "text/plain": [
       "{'ResponseMetadata': {'RequestId': '30d18e65-814f-448a-8a75-411e4f3c3389',\n",
       "  'HTTPStatusCode': 202,\n",
       "  'HTTPHeaders': {'date': 'Thu, 07 Jan 2021 22:51:29 GMT',\n",
       "   'content-type': 'application/json',\n",
       "   'content-length': '228',\n",
       "   'connection': 'keep-alive',\n",
       "   'x-amzn-requestid': '30d18e65-814f-448a-8a75-411e4f3c3389'},\n",
       "  'RetryAttempts': 0},\n",
       " 'Status': 202,\n",
       " 'Arn': 'arn:aws:quicksight:eu-west-1:714290530475:datasource/qs_this_is_new_datasource_id',\n",
       " 'DataSourceId': 'qs_this_is_new_datasource_id',\n",
       " 'CreationStatus': 'CREATION_IN_PROGRESS',\n",
       " 'RequestId': '30d18e65-814f-448a-8a75-411e4f3c3389'}"
      ]
     },
     "metadata": {},
     "execution_count": 5
    }
   ],
   "source": [
    "qs.create_data_source(\n",
    "    AwsAccountId = AWS_ACCOUNT_ID,\n",
    "    DataSourceId = 'qs_this_is_new_datasource_id',\n",
    "    Name = 'qs_this_is_new_datasource_name',\n",
    "    Type = 'POSTGRESQL',\n",
    "    DataSourceParameters = {\n",
    "        'PostgreSqlParameters': {\n",
    "            'Host': DATABASE_HOST,\n",
    "            'Port': 5432,\n",
    "            'Database': DATABASE_NAME\n",
    "        }\n",
    "    },\n",
    "    Credentials = {\n",
    "        'CredentialPair': {\n",
    "            'Username': DATABASE_USER,\n",
    "            'Password': DATABASE_PASS\n",
    "        }\n",
    "    },\n",
    "    Permissions = [\n",
    "        {\n",
    "            'Principal': 'arn:aws:quicksight:eu-west-1:714290530475:user/default/714290530475',\n",
    "            'Actions': [\n",
    "                'quicksight:DeleteDataSource',\n",
    "                'quicksight:DescribeDataSource',\n",
    "                'quicksight:DescribeDataSourcePermissions',\n",
    "                'quicksight:PassDataSource',\n",
    "                'quicksight:UpdateDataSource',\n",
    "                'quicksight:UpdateDataSourcePermissions'\n",
    "            ]\n",
    "        }\n",
    "    ]\n",
    ")"
   ]
  },
  {
   "cell_type": "code",
   "execution_count": 12,
   "metadata": {},
   "outputs": [
    {
     "output_type": "execute_result",
     "data": {
      "text/plain": [
       "{'ResponseMetadata': {'RequestId': '21a16a0a-36d8-4f8b-a204-4ea0da96ea91',\n",
       "  'HTTPStatusCode': 200,\n",
       "  'HTTPHeaders': {'date': 'Thu, 07 Jan 2021 19:58:29 GMT',\n",
       "   'content-type': 'application/json',\n",
       "   'content-length': '204',\n",
       "   'connection': 'keep-alive',\n",
       "   'x-amzn-requestid': '21a16a0a-36d8-4f8b-a204-4ea0da96ea91'},\n",
       "  'RetryAttempts': 0},\n",
       " 'Status': 200,\n",
       " 'Arn': 'arn:aws:quicksight:eu-west-1:714290530475:datasource/aab2a82f-7896-4ae8-b731-afb0d3ebcb08',\n",
       " 'DataSourceId': 'aab2a82f-7896-4ae8-b731-afb0d3ebcb08',\n",
       " 'RequestId': '21a16a0a-36d8-4f8b-a204-4ea0da96ea91'}"
      ]
     },
     "metadata": {},
     "execution_count": 12
    }
   ],
   "source": [
    "qs.delete_data_source(\n",
    "    AwsAccountId=AWS_ACCOUNT_ID,\n",
    "    DataSourceId='aab2a82f-7896-4ae8-b731-afb0d3ebcb08'\n",
    ")"
   ]
  },
  {
   "cell_type": "code",
   "execution_count": 4,
   "metadata": {},
   "outputs": [
    {
     "output_type": "error",
     "ename": "AccessDeniedException",
     "evalue": "An error occurred (AccessDeniedException) when calling the ListDataSources operation: User: arn:aws:iam::153755674681:user/aveek.das@gantnerindia.com is not authorized to perform: quicksight:ListDataSources on resource: arn:aws:quicksight:eu-west-1:153755674681:datasource/*",
     "traceback": [
      "\u001b[0;31m---------------------------------------------------------------------------\u001b[0m",
      "\u001b[0;31mAccessDeniedException\u001b[0m                     Traceback (most recent call last)",
      "\u001b[0;32m<ipython-input-4-815083b24b34>\u001b[0m in \u001b[0;36m<module>\u001b[0;34m\u001b[0m\n\u001b[1;32m      1\u001b[0m qs.list_data_sources(\n\u001b[0;32m----> 2\u001b[0;31m     \u001b[0mAwsAccountId\u001b[0m \u001b[0;34m=\u001b[0m \u001b[0mAWS_ACCOUNT_ID\u001b[0m\u001b[0;34m\u001b[0m\u001b[0;34m\u001b[0m\u001b[0m\n\u001b[0m\u001b[1;32m      3\u001b[0m )\n",
      "\u001b[0;32m/Library/Frameworks/Python.framework/Versions/3.7/lib/python3.7/site-packages/botocore/client.py\u001b[0m in \u001b[0;36m_api_call\u001b[0;34m(self, *args, **kwargs)\u001b[0m\n\u001b[1;32m    314\u001b[0m                     \"%s() only accepts keyword arguments.\" % py_operation_name)\n\u001b[1;32m    315\u001b[0m             \u001b[0;31m# The \"self\" in this scope is referring to the BaseClient.\u001b[0m\u001b[0;34m\u001b[0m\u001b[0;34m\u001b[0m\u001b[0;34m\u001b[0m\u001b[0m\n\u001b[0;32m--> 316\u001b[0;31m             \u001b[0;32mreturn\u001b[0m \u001b[0mself\u001b[0m\u001b[0;34m.\u001b[0m\u001b[0m_make_api_call\u001b[0m\u001b[0;34m(\u001b[0m\u001b[0moperation_name\u001b[0m\u001b[0;34m,\u001b[0m \u001b[0mkwargs\u001b[0m\u001b[0;34m)\u001b[0m\u001b[0;34m\u001b[0m\u001b[0;34m\u001b[0m\u001b[0m\n\u001b[0m\u001b[1;32m    317\u001b[0m \u001b[0;34m\u001b[0m\u001b[0m\n\u001b[1;32m    318\u001b[0m         \u001b[0m_api_call\u001b[0m\u001b[0;34m.\u001b[0m\u001b[0m__name__\u001b[0m \u001b[0;34m=\u001b[0m \u001b[0mstr\u001b[0m\u001b[0;34m(\u001b[0m\u001b[0mpy_operation_name\u001b[0m\u001b[0;34m)\u001b[0m\u001b[0;34m\u001b[0m\u001b[0;34m\u001b[0m\u001b[0m\n",
      "\u001b[0;32m/Library/Frameworks/Python.framework/Versions/3.7/lib/python3.7/site-packages/botocore/client.py\u001b[0m in \u001b[0;36m_make_api_call\u001b[0;34m(self, operation_name, api_params)\u001b[0m\n\u001b[1;32m    633\u001b[0m             \u001b[0merror_code\u001b[0m \u001b[0;34m=\u001b[0m \u001b[0mparsed_response\u001b[0m\u001b[0;34m.\u001b[0m\u001b[0mget\u001b[0m\u001b[0;34m(\u001b[0m\u001b[0;34m\"Error\"\u001b[0m\u001b[0;34m,\u001b[0m \u001b[0;34m{\u001b[0m\u001b[0;34m}\u001b[0m\u001b[0;34m)\u001b[0m\u001b[0;34m.\u001b[0m\u001b[0mget\u001b[0m\u001b[0;34m(\u001b[0m\u001b[0;34m\"Code\"\u001b[0m\u001b[0;34m)\u001b[0m\u001b[0;34m\u001b[0m\u001b[0;34m\u001b[0m\u001b[0m\n\u001b[1;32m    634\u001b[0m             \u001b[0merror_class\u001b[0m \u001b[0;34m=\u001b[0m \u001b[0mself\u001b[0m\u001b[0;34m.\u001b[0m\u001b[0mexceptions\u001b[0m\u001b[0;34m.\u001b[0m\u001b[0mfrom_code\u001b[0m\u001b[0;34m(\u001b[0m\u001b[0merror_code\u001b[0m\u001b[0;34m)\u001b[0m\u001b[0;34m\u001b[0m\u001b[0;34m\u001b[0m\u001b[0m\n\u001b[0;32m--> 635\u001b[0;31m             \u001b[0;32mraise\u001b[0m \u001b[0merror_class\u001b[0m\u001b[0;34m(\u001b[0m\u001b[0mparsed_response\u001b[0m\u001b[0;34m,\u001b[0m \u001b[0moperation_name\u001b[0m\u001b[0;34m)\u001b[0m\u001b[0;34m\u001b[0m\u001b[0;34m\u001b[0m\u001b[0m\n\u001b[0m\u001b[1;32m    636\u001b[0m         \u001b[0;32melse\u001b[0m\u001b[0;34m:\u001b[0m\u001b[0;34m\u001b[0m\u001b[0;34m\u001b[0m\u001b[0m\n\u001b[1;32m    637\u001b[0m             \u001b[0;32mreturn\u001b[0m \u001b[0mparsed_response\u001b[0m\u001b[0;34m\u001b[0m\u001b[0;34m\u001b[0m\u001b[0m\n",
      "\u001b[0;31mAccessDeniedException\u001b[0m: An error occurred (AccessDeniedException) when calling the ListDataSources operation: User: arn:aws:iam::153755674681:user/aveek.das@gantnerindia.com is not authorized to perform: quicksight:ListDataSources on resource: arn:aws:quicksight:eu-west-1:153755674681:datasource/*"
     ]
    }
   ],
   "source": [
    "qs.list_data_sources(\n",
    "    AwsAccountId = AWS_ACCOUNT_ID\n",
    ")"
   ]
  },
  {
   "cell_type": "code",
   "execution_count": 7,
   "metadata": {},
   "outputs": [
    {
     "output_type": "execute_result",
     "data": {
      "text/plain": [
       "{'ResponseMetadata': {'RequestId': '161a9806-c87f-492f-9a4a-9f67d095f8d1',\n",
       "  'HTTPStatusCode': 200,\n",
       "  'HTTPHeaders': {'date': 'Thu, 07 Jan 2021 22:52:01 GMT',\n",
       "   'content-type': 'application/json',\n",
       "   'content-length': '1108',\n",
       "   'connection': 'keep-alive',\n",
       "   'x-amzn-requestid': '161a9806-c87f-492f-9a4a-9f67d095f8d1'},\n",
       "  'RetryAttempts': 0},\n",
       " 'Status': 200,\n",
       " 'DataSource': {'Arn': 'arn:aws:quicksight:eu-west-1:714290530475:datasource/qs_this_is_new_datasource_id',\n",
       "  'DataSourceId': 'qs_this_is_new_datasource_id',\n",
       "  'Name': 'qs_this_is_new_datasource_name',\n",
       "  'Type': 'POSTGRESQL',\n",
       "  'Status': 'CREATION_SUCCESSFUL',\n",
       "  'CreatedTime': datetime.datetime(2021, 1, 7, 22, 51, 29, 96000, tzinfo=tzlocal()),\n",
       "  'LastUpdatedTime': datetime.datetime(2021, 1, 7, 22, 51, 29, 720000, tzinfo=tzlocal()),\n",
       "  'DataSourceParameters': {'PostgreSqlParameters': {'Host': 'enviso-insight-rds.development-enviso.io',\n",
       "    'Port': 5432,\n",
       "    'Database': 'postgres'}},\n",
       "  'SslProperties': {'DisableSsl': False}},\n",
       " 'RequestId': '161a9806-c87f-492f-9a4a-9f67d095f8d1'}"
      ]
     },
     "metadata": {},
     "execution_count": 7
    }
   ],
   "source": [
    "qs.describe_data_source(\n",
    "    AwsAccountId=AWS_ACCOUNT_ID,\n",
    "    DataSourceId='qs_this_is_new_datasource_id'\n",
    ")"
   ]
  },
  {
   "cell_type": "code",
   "execution_count": null,
   "metadata": {},
   "outputs": [],
   "source": []
  }
 ],
 "metadata": {
  "kernelspec": {
   "name": "python3",
   "display_name": "Python 3.7.3 64-bit",
   "metadata": {
    "interpreter": {
     "hash": "e534e48711db4d1e1c48977d0d14ff85b1f16d41bcc4fdfd88268a329b3c9d66"
    }
   }
  },
  "language_info": {
   "codemirror_mode": {
    "name": "ipython",
    "version": 3
   },
   "file_extension": ".py",
   "mimetype": "text/x-python",
   "name": "python",
   "nbconvert_exporter": "python",
   "pygments_lexer": "ipython3",
   "version": "3.7.3-final"
  }
 },
 "nbformat": 4,
 "nbformat_minor": 4
}