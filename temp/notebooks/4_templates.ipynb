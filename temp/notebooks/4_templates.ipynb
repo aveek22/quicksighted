{
 "cells": [
  {
   "cell_type": "code",
   "execution_count": 1,
   "metadata": {},
   "outputs": [],
   "source": [
    "import boto3\n",
    "import os\n",
    "import pandas as pd"
   ]
  },
  {
   "cell_type": "code",
   "execution_count": 2,
   "metadata": {},
   "outputs": [],
   "source": [
    "ACCESS_KEY = os.getenv('QS_AWS_ACCESS_KEY_ID')\n",
    "SECRET_KEY = os.getenv('QS_AWS_SECRET_ACCESS_KEY')\n",
    "\n",
    "DATABASE_HOST = os.getenv('ENVISO_INSIGHT_DATABASE_HOSTNAME')\n",
    "DATABASE_USER = os.getenv('ENVISO_INSIGHT_DATABASE_USERNAME')\n",
    "DATABASE_PASS = os.getenv('ENVISO_INSIGHT_DATABASE_PASSWORD')\n",
    "DATABASE_NAME = 'postgres'\n",
    "\n",
    "AWS_ACCOUNT_ID = os.getenv('QS_AWS_ACCOUNT_ID')\n"
   ]
  },
  {
   "cell_type": "code",
   "execution_count": 3,
   "metadata": {},
   "outputs": [],
   "source": [
    "qs = boto3.client(\n",
    "    'quicksight',\n",
    "    aws_access_key_id=ACCESS_KEY,\n",
    "    aws_secret_access_key=SECRET_KEY,\n",
    "    region_name = 'eu-west-1'\n",
    ")"
   ]
  },
  {
   "cell_type": "code",
   "execution_count": 7,
   "metadata": {},
   "outputs": [
    {
     "output_type": "execute_result",
     "data": {
      "text/plain": [
       "{'ResponseMetadata': {'RequestId': '6388d115-f17a-4028-b578-443068b81db1',\n",
       "  'HTTPStatusCode': 202,\n",
       "  'HTTPHeaders': {'date': 'Tue, 29 Dec 2020 01:26:00 GMT',\n",
       "   'content-type': 'application/json',\n",
       "   'content-length': '314',\n",
       "   'connection': 'keep-alive',\n",
       "   'x-amzn-requestid': '6388d115-f17a-4028-b578-443068b81db1'},\n",
       "  'RetryAttempts': 0},\n",
       " 'Status': 202,\n",
       " 'Arn': 'arn:aws:quicksight:eu-west-1:714290530475:template/this_is_new_template_id',\n",
       " 'VersionArn': 'arn:aws:quicksight:eu-west-1:714290530475:template/this_is_new_template_id/version/1',\n",
       " 'TemplateId': 'this_is_new_template_id',\n",
       " 'CreationStatus': 'CREATION_IN_PROGRESS',\n",
       " 'RequestId': '6388d115-f17a-4028-b578-443068b81db1'}"
      ]
     },
     "metadata": {},
     "execution_count": 7
    }
   ],
   "source": [
    "qs.create_template(\n",
    "    AwsAccountId=AWS_ACCOUNT_ID,\n",
    "    TemplateId='this_is_new_template_id',\n",
    "    Name='this_is_new_template_name',\n",
    "    Permissions=[\n",
    "        {\n",
    "            'Principal': 'arn:aws:quicksight:eu-west-1:714290530475:user/default/714290530475',\n",
    "            'Actions': [\n",
    "                'quicksight:DeleteTemplate',\n",
    "                'quicksight:DescribeTemplate',\n",
    "                'quicksight:DescribeTemplatePermissions',\n",
    "                'quicksight:UpdateTemplate',\n",
    "                'quicksight:UpdateTemplatePermissions'\n",
    "            ]\n",
    "        },\n",
    "    ],\n",
    "    SourceEntity={\n",
    "        'SourceAnalysis': {\n",
    "            'Arn': 'arn:aws:quicksight:eu-west-1:714290530475:analysis/10e2cc36-37fd-4920-a577-12c4f20633f2',\n",
    "            'DataSetReferences': [\n",
    "                {\n",
    "                    'DataSetPlaceholder': 'qs_this_is_new_dataset_name',\n",
    "                    'DataSetArn': 'arn:aws:quicksight:eu-west-1:714290530475:dataset/qs_this_is_new_dataset_id'\n",
    "                },\n",
    "            ]\n",
    "        }\n",
    "    },\n",
    "    VersionDescription='1.0.0'\n",
    ")"
   ]
  },
  {
   "cell_type": "code",
   "execution_count": 6,
   "metadata": {},
   "outputs": [
    {
     "output_type": "execute_result",
     "data": {
      "text/plain": [
       "{'ResponseMetadata': {'RequestId': 'd8ef4eb4-f340-4bcb-a089-7392f5308939',\n",
       "  'HTTPStatusCode': 200,\n",
       "  'HTTPHeaders': {'date': 'Tue, 29 Dec 2020 01:25:53 GMT',\n",
       "   'content-type': 'application/json',\n",
       "   'content-length': '174',\n",
       "   'connection': 'keep-alive',\n",
       "   'x-amzn-requestid': 'd8ef4eb4-f340-4bcb-a089-7392f5308939'},\n",
       "  'RetryAttempts': 0},\n",
       " 'Status': 200,\n",
       " 'RequestId': 'd8ef4eb4-f340-4bcb-a089-7392f5308939',\n",
       " 'Arn': 'arn:aws:quicksight:eu-west-1:714290530475:template/this_is_new_template_id',\n",
       " 'TemplateId': 'this_is_new_template_id'}"
      ]
     },
     "metadata": {},
     "execution_count": 6
    }
   ],
   "source": [
    "qs.delete_template(\n",
    "    AwsAccountId = AWS_ACCOUNT_ID,\n",
    "    TemplateId = 'this_is_new_template_id'\n",
    ")"
   ]
  },
  {
   "cell_type": "code",
   "execution_count": 11,
   "metadata": {},
   "outputs": [
    {
     "output_type": "execute_result",
     "data": {
      "text/plain": [
       "{'ResponseMetadata': {'RequestId': '22a853d1-04d2-448a-9b6b-a7b0db031e46',\n",
       "  'HTTPStatusCode': 200,\n",
       "  'HTTPHeaders': {'date': 'Tue, 29 Dec 2020 01:29:48 GMT',\n",
       "   'content-type': 'application/json',\n",
       "   'content-length': '597',\n",
       "   'connection': 'keep-alive',\n",
       "   'x-amzn-requestid': '22a853d1-04d2-448a-9b6b-a7b0db031e46'},\n",
       "  'RetryAttempts': 0},\n",
       " 'Status': 200,\n",
       " 'TemplateSummaryList': [{'Arn': 'arn:aws:quicksight:eu-west-1:714290530475:template/this_is_new_template_id',\n",
       "   'TemplateId': 'this_is_new_template_id',\n",
       "   'Name': 'this_is_new_template_name',\n",
       "   'LatestVersionNumber': 1,\n",
       "   'CreatedTime': datetime.datetime(2020, 12, 29, 1, 26, 0, 739000, tzinfo=tzlocal()),\n",
       "   'LastUpdatedTime': datetime.datetime(2020, 12, 29, 1, 26, 0, 739000, tzinfo=tzlocal())},\n",
       "  {'Arn': 'arn:aws:quicksight:eu-west-1:714290530475:template/this_is_new_template_id_1',\n",
       "   'TemplateId': 'this_is_new_template_id_1',\n",
       "   'Name': 'this_is_new_template_name_1',\n",
       "   'LatestVersionNumber': 1,\n",
       "   'CreatedTime': datetime.datetime(2020, 12, 29, 1, 29, 30, 395000, tzinfo=tzlocal()),\n",
       "   'LastUpdatedTime': datetime.datetime(2020, 12, 29, 1, 29, 30, 395000, tzinfo=tzlocal())}],\n",
       " 'RequestId': '22a853d1-04d2-448a-9b6b-a7b0db031e46'}"
      ]
     },
     "metadata": {},
     "execution_count": 11
    }
   ],
   "source": [
    "qs.list_templates(\n",
    "    AwsAccountId=AWS_ACCOUNT_ID\n",
    ")"
   ]
  },
  {
   "cell_type": "code",
   "execution_count": 12,
   "metadata": {},
   "outputs": [
    {
     "output_type": "execute_result",
     "data": {
      "text/plain": [
       "{'ResponseMetadata': {'RequestId': '2f9ab39a-a5e2-4744-b01e-cf02805731fa',\n",
       "  'HTTPStatusCode': 200,\n",
       "  'HTTPHeaders': {'date': 'Tue, 29 Dec 2020 01:30:02 GMT',\n",
       "   'content-type': 'application/json',\n",
       "   'content-length': '879',\n",
       "   'connection': 'keep-alive',\n",
       "   'x-amzn-requestid': '2f9ab39a-a5e2-4744-b01e-cf02805731fa'},\n",
       "  'RetryAttempts': 0},\n",
       " 'Status': 200,\n",
       " 'Template': {'Arn': 'arn:aws:quicksight:eu-west-1:714290530475:template/this_is_new_template_id_1',\n",
       "  'Name': 'this_is_new_template_name_1',\n",
       "  'Version': {'CreatedTime': datetime.datetime(2020, 12, 29, 1, 29, 30, 399000, tzinfo=tzlocal()),\n",
       "   'VersionNumber': 1,\n",
       "   'Status': 'CREATION_SUCCESSFUL',\n",
       "   'DataSetConfigurations': [{'Placeholder': 'qs_this_is_new_dataset_name',\n",
       "     'DataSetSchema': {'ColumnSchemaList': [{'Name': 'age',\n",
       "        'DataType': 'INTEGER'},\n",
       "       {'Name': 'name', 'DataType': 'STRING'}]},\n",
       "     'ColumnGroupSchemaList': []}],\n",
       "   'Description': '1.0.1',\n",
       "   'SourceEntityArn': 'arn:aws:quicksight:eu-west-1:714290530475:analysis/10e2cc36-37fd-4920-a577-12c4f20633f2',\n",
       "   'Sheets': [{'SheetId': '17c78516-d8ff-4399-9cd7-32496111baa0',\n",
       "     'Name': 'Sheet 1'}]},\n",
       "  'TemplateId': 'this_is_new_template_id_1',\n",
       "  'LastUpdatedTime': datetime.datetime(2020, 12, 29, 1, 29, 30, 395000, tzinfo=tzlocal()),\n",
       "  'CreatedTime': datetime.datetime(2020, 12, 29, 1, 29, 30, 395000, tzinfo=tzlocal())},\n",
       " 'RequestId': '2f9ab39a-a5e2-4744-b01e-cf02805731fa'}"
      ]
     },
     "metadata": {},
     "execution_count": 12
    }
   ],
   "source": [
    "qs.describe_template(\n",
    "    AwsAccountId=AWS_ACCOUNT_ID,\n",
    "    TemplateId='this_is_new_template_id_1'\n",
    ")"
   ]
  },
  {
   "cell_type": "code",
   "execution_count": 10,
   "metadata": {},
   "outputs": [
    {
     "output_type": "execute_result",
     "data": {
      "text/plain": [
       "{'ResponseMetadata': {'RequestId': 'c5f0e959-28de-440a-a690-199560ad88ba',\n",
       "  'HTTPStatusCode': 202,\n",
       "  'HTTPHeaders': {'date': 'Tue, 29 Dec 2020 01:29:30 GMT',\n",
       "   'content-type': 'application/json',\n",
       "   'content-length': '320',\n",
       "   'connection': 'keep-alive',\n",
       "   'x-amzn-requestid': 'c5f0e959-28de-440a-a690-199560ad88ba'},\n",
       "  'RetryAttempts': 0},\n",
       " 'Status': 202,\n",
       " 'Arn': 'arn:aws:quicksight:eu-west-1:714290530475:template/this_is_new_template_id_1',\n",
       " 'VersionArn': 'arn:aws:quicksight:eu-west-1:714290530475:template/this_is_new_template_id_1/version/1',\n",
       " 'TemplateId': 'this_is_new_template_id_1',\n",
       " 'CreationStatus': 'CREATION_IN_PROGRESS',\n",
       " 'RequestId': 'c5f0e959-28de-440a-a690-199560ad88ba'}"
      ]
     },
     "metadata": {},
     "execution_count": 10
    }
   ],
   "source": [
    "qs.create_template(\n",
    "    AwsAccountId=AWS_ACCOUNT_ID,\n",
    "    TemplateId='this_is_new_template_id_1',\n",
    "    Name='this_is_new_template_name_1',\n",
    "    Permissions=[\n",
    "        {\n",
    "            'Principal': 'arn:aws:quicksight:eu-west-1:714290530475:user/default/714290530475',\n",
    "            'Actions': [\n",
    "                'quicksight:DeleteTemplate',\n",
    "                'quicksight:DescribeTemplate',\n",
    "                'quicksight:DescribeTemplatePermissions',\n",
    "                'quicksight:UpdateTemplate',\n",
    "                'quicksight:UpdateTemplatePermissions'\n",
    "            ]\n",
    "        },\n",
    "    ],\n",
    "    SourceEntity={\n",
    "        'SourceAnalysis': {\n",
    "            'Arn': 'arn:aws:quicksight:eu-west-1:714290530475:analysis/10e2cc36-37fd-4920-a577-12c4f20633f2',\n",
    "            'DataSetReferences': [\n",
    "                {\n",
    "                    'DataSetPlaceholder': 'qs_this_is_new_dataset_name',\n",
    "                    'DataSetArn': 'arn:aws:quicksight:eu-west-1:714290530475:dataset/qs_this_is_new_dataset_id'\n",
    "                },\n",
    "            ]\n",
    "        }\n",
    "    },\n",
    "    VersionDescription='1.0.1'\n",
    ")"
   ]
  }
 ],
 "metadata": {
  "kernelspec": {
   "display_name": "Python 3",
   "language": "python",
   "name": "python3"
  },
  "language_info": {
   "codemirror_mode": {
    "name": "ipython",
    "version": 3
   },
   "file_extension": ".py",
   "mimetype": "text/x-python",
   "name": "python",
   "nbconvert_exporter": "python",
   "pygments_lexer": "ipython3",
   "version": "3.8.3-final"
  }
 },
 "nbformat": 4,
 "nbformat_minor": 4
}